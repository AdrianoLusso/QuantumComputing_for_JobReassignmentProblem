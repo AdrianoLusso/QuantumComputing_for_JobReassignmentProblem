{
 "cells": [
  {
   "cell_type": "code",
   "execution_count": 1,
   "id": "ff45c9d2-3394-4838-8ee6-a11fe72450b4",
   "metadata": {},
   "outputs": [],
   "source": [
    "import os\n",
    "import json\n",
    "import sys\n",
    "\n",
    "import pandas as pd\n",
    "import numpy as np\n",
    "\n",
    "from openqaoa import QUBO\n",
    "from openqaoa.algorithms import QAOA\n",
    "from openqaoa.backends import create_device\n",
    "\n",
    "from qiskit_aer import AerSimulator\n",
    "\n",
    "sys.path.append(os.path.abspath(os.path.join('../../../..', 'functions')))\n",
    "from JRPClassic import JRPClassic\n",
    "from EvaluationQAOASolver import EvaluationQAOASolver\n",
    "from utils import *"
   ]
  },
  {
   "cell_type": "code",
   "execution_count": 2,
   "id": "75cb9e72-eb7c-430d-8f23-6a336d34cb4e",
   "metadata": {},
   "outputs": [],
   "source": [
    "files ={}\n",
    "#directory = './results'\n",
    "directory = '../'\n",
    "for file in os.listdir(directory):\n",
    "    if file.endswith('.json'):\n",
    "        full_path = os.path.join(directory, file)\n",
    "        with open(full_path, 'r', encoding='utf-8') as f:\n",
    "            filename = os.path.splitext(file)[0]\n",
    "            files[filename] = json.load(f)"
   ]
  },
  {
   "cell_type": "code",
   "execution_count": 3,
   "id": "2b9cfb26-cd0c-4ba4-9d58-ef77da777f2a",
   "metadata": {},
   "outputs": [
    {
     "data": {
      "text/plain": [
       "'conf_jrpInitConf0_circuitConf2'"
      ]
     },
     "execution_count": 3,
     "metadata": {},
     "output_type": "execute_result"
    }
   ],
   "source": [
    "keys = list(files.keys())\n",
    "keys[2]"
   ]
  },
  {
   "cell_type": "code",
   "execution_count": 4,
   "id": "fabf2f20-f592-4a13-93d1-885e726bf56c",
   "metadata": {},
   "outputs": [],
   "source": [
    "solver = EvaluationQAOASolver()\n",
    "\n",
    "solver.sample_workflows(files, 'conf_jrpInitConf0_circuitConf2', 0)\n",
    "solver.sample_workflows(files, 'conf_jrpInitConf1_circuitConf2', 0)\n",
    "solver.sample_workflows(files, 'conf_jrpInitConf2_circuitConf2', 0)\n",
    "solver.sample_workflows(files, 'conf_jrpInitConf3_circuitConf2', 0)\n",
    "solver.sample_workflows(files, 'conf_jrpInitConf4_circuitConf2', 0)\n",
    "solver.sample_workflows(files, 'conf_jrpInitConf5_circuitConf2', 0)\n",
    "solver.sample_workflows(files, 'conf_jrpInitConf6_circuitConf2', 0)\n",
    "\n",
    "solver.sample_workflows(files, 'conf_jrpInitConf0_circuitConf1', 0)\n",
    "solver.sample_workflows(files, 'conf_jrpInitConf1_circuitConf1', 0)\n",
    "solver.sample_workflows(files, 'conf_jrpInitConf2_circuitConf1', 0)\n",
    "solver.sample_workflows(files, 'conf_jrpInitConf3_circuitConf1', 0)\n",
    "solver.sample_workflows(files, 'conf_jrpInitConf4_circuitConf1', 0)\n",
    "solver.sample_workflows(files, 'conf_jrpInitConf5_circuitConf1', 0)\n",
    "solver.sample_workflows(files, 'conf_jrpInitConf6_circuitConf1', 0)"
   ]
  }
 ],
 "metadata": {
  "kernelspec": {
   "display_name": "Python 3 (ipykernel)",
   "language": "python",
   "name": "python3"
  },
  "language_info": {
   "codemirror_mode": {
    "name": "ipython",
    "version": 3
   },
   "file_extension": ".py",
   "mimetype": "text/x-python",
   "name": "python",
   "nbconvert_exporter": "python",
   "pygments_lexer": "ipython3",
   "version": "3.10.13"
  }
 },
 "nbformat": 4,
 "nbformat_minor": 5
}
