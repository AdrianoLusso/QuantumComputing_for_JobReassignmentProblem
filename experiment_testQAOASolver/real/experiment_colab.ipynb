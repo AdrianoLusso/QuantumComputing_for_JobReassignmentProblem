{
  "cells": [
    {
      "cell_type": "markdown",
      "source": [
        "# Real experiment for Google Colab"
      ],
      "metadata": {
        "id": "uMOttFhJuobO"
      },
      "id": "uMOttFhJuobO"
    },
    {
      "cell_type": "markdown",
      "source": [
        "The goal is to run the experiment with the real JRP instances. This notebook is prepared to be run in google colab.\n"
      ],
      "metadata": {
        "id": "cBVuecQjuuA-"
      },
      "id": "cBVuecQjuuA-"
    },
    {
      "cell_type": "markdown",
      "source": [
        "## Conect to Google Drive"
      ],
      "metadata": {
        "id": "Qc5hfGbRFCfm"
      },
      "id": "Qc5hfGbRFCfm"
    },
    {
      "cell_type": "code",
      "source": [
        "from google.colab import drive\n",
        "drive.mount('/content/drive')"
      ],
      "metadata": {
        "id": "kEXz42qBFBx4",
        "colab": {
          "base_uri": "https://localhost:8080/"
        },
        "outputId": "62d743a4-1225-4098-f0f1-e5d55c86e361"
      },
      "id": "kEXz42qBFBx4",
      "execution_count": 1,
      "outputs": [
        {
          "output_type": "stream",
          "name": "stdout",
          "text": [
            "Mounted at /content/drive\n"
          ]
        }
      ]
    },
    {
      "cell_type": "markdown",
      "source": [
        "## Installs"
      ],
      "metadata": {
        "id": "tMWhBV-0u6tP"
      },
      "id": "tMWhBV-0u6tP"
    },
    {
      "cell_type": "code",
      "source": [
        "# 1. RUN THIS\n",
        "!git clone https://github.com/entropicalabs/openqaoa.git"
      ],
      "metadata": {
        "id": "5v7R3_GDxGaL",
        "colab": {
          "base_uri": "https://localhost:8080/"
        },
        "outputId": "7fd6d6e3-3173-4b27-de99-2ebcbdadca0a"
      },
      "id": "5v7R3_GDxGaL",
      "execution_count": 2,
      "outputs": [
        {
          "output_type": "stream",
          "name": "stdout",
          "text": [
            "Cloning into 'openqaoa'...\n",
            "remote: Enumerating objects: 15223, done.\u001b[K\n",
            "remote: Counting objects: 100% (5210/5210), done.\u001b[K\n",
            "remote: Compressing objects: 100% (2537/2537), done.\u001b[K\n",
            "remote: Total 15223 (delta 2974), reused 4631 (delta 2647), pack-reused 10013\u001b[K\n",
            "Receiving objects: 100% (15223/15223), 288.23 MiB | 22.81 MiB/s, done.\n",
            "Resolving deltas: 100% (10221/10221), done.\n"
          ]
        }
      ]
    },
    {
      "cell_type": "code",
      "source": [
        "# 2. RUN THIS\n",
        "!git clone https://github.com/AdrianoLusso/Tesis.git"
      ],
      "metadata": {
        "id": "oLC0Mmyku_5M",
        "colab": {
          "base_uri": "https://localhost:8080/"
        },
        "outputId": "4d25ba5e-1d74-43e9-9817-783b60c218fe"
      },
      "id": "oLC0Mmyku_5M",
      "execution_count": 3,
      "outputs": [
        {
          "output_type": "stream",
          "name": "stdout",
          "text": [
            "Cloning into 'Tesis'...\n",
            "remote: Enumerating objects: 471, done.\u001b[K\n",
            "remote: Counting objects:  14% (1/7)\u001b[K\rremote: Counting objects:  28% (2/7)\u001b[K\rremote: Counting objects:  42% (3/7)\u001b[K\rremote: Counting objects:  57% (4/7)\u001b[K\rremote: Counting objects:  71% (5/7)\u001b[K\rremote: Counting objects:  85% (6/7)\u001b[K\rremote: Counting objects: 100% (7/7)\u001b[K\rremote: Counting objects: 100% (7/7), done.\u001b[K\n",
            "remote: Compressing objects: 100% (7/7), done.\u001b[K\n",
            "remote: Total 471 (delta 0), reused 1 (delta 0), pack-reused 464\u001b[K\n",
            "Receiving objects: 100% (471/471), 90.78 MiB | 17.73 MiB/s, done.\n",
            "Resolving deltas: 100% (292/292), done.\n"
          ]
        }
      ]
    },
    {
      "cell_type": "code",
      "source": [
        "# 3. RUN THIS\n",
        "with open('Tesis/openqaoa_modifiedFiles/Makefile.txt', 'r') as file:\n",
        "    replacement_content = file.read()\n",
        "\n",
        "with open('openqaoa/Makefile', 'w') as file:\n",
        "    file.write(replacement_content)\n",
        "\n",
        "#verify a successful writing\n",
        "#!cat openqaoa/Makefile"
      ],
      "metadata": {
        "id": "POXxjf7kxThV"
      },
      "id": "POXxjf7kxThV",
      "execution_count": 4,
      "outputs": []
    },
    {
      "cell_type": "code",
      "source": [
        "# 4. RUN THIS\n",
        "with open('Tesis/openqaoa_modifiedFiles/requirements_core.txt', 'r') as file:\n",
        "    replacement_content = file.read()\n",
        "\n",
        "with open('openqaoa/src/openqaoa-core/requirements.txt', 'w') as file:\n",
        "    file.write(replacement_content)\n",
        "\n",
        "#verify a successful writing\n",
        "#!cat openqaoa/src/openqaoa-core/requirements.txt"
      ],
      "metadata": {
        "id": "m3gQ7-gTxcCz"
      },
      "id": "m3gQ7-gTxcCz",
      "execution_count": 5,
      "outputs": []
    },
    {
      "cell_type": "code",
      "source": [
        "!cd openqaoa && make local-install"
      ],
      "metadata": {
        "id": "UUzjaIQLxu_5",
        "colab": {
          "base_uri": "https://localhost:8080/"
        },
        "outputId": "255bc595-d96f-407e-b948-00117be23430"
      },
      "id": "UUzjaIQLxu_5",
      "execution_count": 6,
      "outputs": [
        {
          "output_type": "stream",
          "name": "stdout",
          "text": [
            "pip install ./src/openqaoa-core\n",
            "Processing ./src/openqaoa-core\n",
            "  Installing build dependencies ... \u001b[?25l\u001b[?25hdone\n",
            "  Getting requirements to build wheel ... \u001b[?25l\u001b[?25hdone\n",
            "  Preparing metadata (pyproject.toml) ... \u001b[?25l\u001b[?25hdone\n",
            "Requirement already satisfied: pandas>=1.3.5 in /usr/local/lib/python3.10/dist-packages (from openqaoa-core==0.2.6) (2.0.3)\n",
            "Requirement already satisfied: sympy>=1.10.1 in /usr/local/lib/python3.10/dist-packages (from openqaoa-core==0.2.6) (1.12.1)\n",
            "Requirement already satisfied: numpy>=1.22.3 in /usr/local/lib/python3.10/dist-packages (from openqaoa-core==0.2.6) (1.25.2)\n",
            "Requirement already satisfied: networkx>=2.8 in /usr/local/lib/python3.10/dist-packages (from openqaoa-core==0.2.6) (3.3)\n",
            "Requirement already satisfied: matplotlib>=3.4.3 in /usr/local/lib/python3.10/dist-packages (from openqaoa-core==0.2.6) (3.7.1)\n",
            "Requirement already satisfied: scipy>=1.8 in /usr/local/lib/python3.10/dist-packages (from openqaoa-core==0.2.6) (1.11.4)\n",
            "Collecting docplex==2.25.236 (from openqaoa-core==0.2.6)\n",
            "  Downloading docplex-2.25.236.tar.gz (633 kB)\n",
            "\u001b[2K     \u001b[90m━━━━━━━━━━━━━━━━━━━━━━━━━━━━━━━━━━━━━━━━\u001b[0m \u001b[32m633.5/633.5 kB\u001b[0m \u001b[31m8.6 MB/s\u001b[0m eta \u001b[36m0:00:00\u001b[0m\n",
            "\u001b[?25h  Preparing metadata (setup.py) ... \u001b[?25l\u001b[?25hdone\n",
            "Requirement already satisfied: autograd>=1.4 in /usr/local/lib/python3.10/dist-packages (from openqaoa-core==0.2.6) (1.6.2)\n",
            "Collecting semantic-version>=2.10 (from openqaoa-core==0.2.6)\n",
            "  Downloading semantic_version-2.10.0-py2.py3-none-any.whl (15 kB)\n",
            "Collecting autoray>=0.3.1 (from openqaoa-core==0.2.6)\n",
            "  Downloading autoray-0.6.12-py3-none-any.whl (50 kB)\n",
            "\u001b[2K     \u001b[90m━━━━━━━━━━━━━━━━━━━━━━━━━━━━━━━━━━━━━━━━\u001b[0m \u001b[32m51.0/51.0 kB\u001b[0m \u001b[31m6.1 MB/s\u001b[0m eta \u001b[36m0:00:00\u001b[0m\n",
            "\u001b[?25hRequirement already satisfied: requests in /usr/local/lib/python3.10/dist-packages (from openqaoa-core==0.2.6) (2.31.0)\n",
            "Requirement already satisfied: ipython==7.34.0 in /usr/local/lib/python3.10/dist-packages (from openqaoa-core==0.2.6) (7.34.0)\n",
            "Collecting mitiq (from openqaoa-core==0.2.6)\n",
            "  Downloading mitiq-0.38.0-py3-none-any.whl (171 kB)\n",
            "\u001b[2K     \u001b[90m━━━━━━━━━━━━━━━━━━━━━━━━━━━━━━━━━━━━━━━━\u001b[0m \u001b[32m171.4/171.4 kB\u001b[0m \u001b[31m16.5 MB/s\u001b[0m eta \u001b[36m0:00:00\u001b[0m\n",
            "\u001b[?25hRequirement already satisfied: six in /usr/local/lib/python3.10/dist-packages (from docplex==2.25.236->openqaoa-core==0.2.6) (1.16.0)\n",
            "Requirement already satisfied: setuptools>=18.5 in /usr/local/lib/python3.10/dist-packages (from ipython==7.34.0->openqaoa-core==0.2.6) (67.7.2)\n",
            "Collecting jedi>=0.16 (from ipython==7.34.0->openqaoa-core==0.2.6)\n",
            "  Downloading jedi-0.19.1-py2.py3-none-any.whl (1.6 MB)\n",
            "\u001b[2K     \u001b[90m━━━━━━━━━━━━━━━━━━━━━━━━━━━━━━━━━━━━━━━━\u001b[0m \u001b[32m1.6/1.6 MB\u001b[0m \u001b[31m21.1 MB/s\u001b[0m eta \u001b[36m0:00:00\u001b[0m\n",
            "\u001b[?25hRequirement already satisfied: decorator in /usr/local/lib/python3.10/dist-packages (from ipython==7.34.0->openqaoa-core==0.2.6) (4.4.2)\n",
            "Requirement already satisfied: pickleshare in /usr/local/lib/python3.10/dist-packages (from ipython==7.34.0->openqaoa-core==0.2.6) (0.7.5)\n",
            "Requirement already satisfied: traitlets>=4.2 in /usr/local/lib/python3.10/dist-packages (from ipython==7.34.0->openqaoa-core==0.2.6) (5.7.1)\n",
            "Requirement already satisfied: prompt-toolkit!=3.0.0,!=3.0.1,<3.1.0,>=2.0.0 in /usr/local/lib/python3.10/dist-packages (from ipython==7.34.0->openqaoa-core==0.2.6) (3.0.47)\n",
            "Requirement already satisfied: pygments in /usr/local/lib/python3.10/dist-packages (from ipython==7.34.0->openqaoa-core==0.2.6) (2.16.1)\n",
            "Requirement already satisfied: backcall in /usr/local/lib/python3.10/dist-packages (from ipython==7.34.0->openqaoa-core==0.2.6) (0.2.0)\n",
            "Requirement already satisfied: matplotlib-inline in /usr/local/lib/python3.10/dist-packages (from ipython==7.34.0->openqaoa-core==0.2.6) (0.1.7)\n",
            "Requirement already satisfied: pexpect>4.3 in /usr/local/lib/python3.10/dist-packages (from ipython==7.34.0->openqaoa-core==0.2.6) (4.9.0)\n",
            "Requirement already satisfied: future>=0.15.2 in /usr/local/lib/python3.10/dist-packages (from autograd>=1.4->openqaoa-core==0.2.6) (0.18.3)\n",
            "Requirement already satisfied: contourpy>=1.0.1 in /usr/local/lib/python3.10/dist-packages (from matplotlib>=3.4.3->openqaoa-core==0.2.6) (1.2.1)\n",
            "Requirement already satisfied: cycler>=0.10 in /usr/local/lib/python3.10/dist-packages (from matplotlib>=3.4.3->openqaoa-core==0.2.6) (0.12.1)\n",
            "Requirement already satisfied: fonttools>=4.22.0 in /usr/local/lib/python3.10/dist-packages (from matplotlib>=3.4.3->openqaoa-core==0.2.6) (4.53.0)\n",
            "Requirement already satisfied: kiwisolver>=1.0.1 in /usr/local/lib/python3.10/dist-packages (from matplotlib>=3.4.3->openqaoa-core==0.2.6) (1.4.5)\n",
            "Requirement already satisfied: packaging>=20.0 in /usr/local/lib/python3.10/dist-packages (from matplotlib>=3.4.3->openqaoa-core==0.2.6) (24.1)\n",
            "Requirement already satisfied: pillow>=6.2.0 in /usr/local/lib/python3.10/dist-packages (from matplotlib>=3.4.3->openqaoa-core==0.2.6) (9.4.0)\n",
            "Requirement already satisfied: pyparsing>=2.3.1 in /usr/local/lib/python3.10/dist-packages (from matplotlib>=3.4.3->openqaoa-core==0.2.6) (3.1.2)\n",
            "Requirement already satisfied: python-dateutil>=2.7 in /usr/local/lib/python3.10/dist-packages (from matplotlib>=3.4.3->openqaoa-core==0.2.6) (2.8.2)\n",
            "Requirement already satisfied: pytz>=2020.1 in /usr/local/lib/python3.10/dist-packages (from pandas>=1.3.5->openqaoa-core==0.2.6) (2023.4)\n",
            "Requirement already satisfied: tzdata>=2022.1 in /usr/local/lib/python3.10/dist-packages (from pandas>=1.3.5->openqaoa-core==0.2.6) (2024.1)\n",
            "Requirement already satisfied: mpmath<1.4.0,>=1.1.0 in /usr/local/lib/python3.10/dist-packages (from sympy>=1.10.1->openqaoa-core==0.2.6) (1.3.0)\n",
            "Collecting cirq-core<1.4.0,>=1.0.0 (from mitiq->openqaoa-core==0.2.6)\n",
            "  Downloading cirq_core-1.3.0-py3-none-any.whl (1.8 MB)\n",
            "\u001b[2K     \u001b[90m━━━━━━━━━━━━━━━━━━━━━━━━━━━━━━━━━━━━━━━━\u001b[0m \u001b[32m1.8/1.8 MB\u001b[0m \u001b[31m60.8 MB/s\u001b[0m eta \u001b[36m0:00:00\u001b[0m\n",
            "\u001b[?25hRequirement already satisfied: tabulate in /usr/local/lib/python3.10/dist-packages (from mitiq->openqaoa-core==0.2.6) (0.9.0)\n",
            "Requirement already satisfied: charset-normalizer<4,>=2 in /usr/local/lib/python3.10/dist-packages (from requests->openqaoa-core==0.2.6) (3.3.2)\n",
            "Requirement already satisfied: idna<4,>=2.5 in /usr/local/lib/python3.10/dist-packages (from requests->openqaoa-core==0.2.6) (3.7)\n",
            "Requirement already satisfied: urllib3<3,>=1.21.1 in /usr/local/lib/python3.10/dist-packages (from requests->openqaoa-core==0.2.6) (2.0.7)\n",
            "Requirement already satisfied: certifi>=2017.4.17 in /usr/local/lib/python3.10/dist-packages (from requests->openqaoa-core==0.2.6) (2024.6.2)\n",
            "Collecting duet~=0.2.8 (from cirq-core<1.4.0,>=1.0.0->mitiq->openqaoa-core==0.2.6)\n",
            "  Downloading duet-0.2.9-py3-none-any.whl (29 kB)\n",
            "Requirement already satisfied: sortedcontainers~=2.0 in /usr/local/lib/python3.10/dist-packages (from cirq-core<1.4.0,>=1.0.0->mitiq->openqaoa-core==0.2.6) (2.4.0)\n",
            "Requirement already satisfied: typing-extensions>=4.2 in /usr/local/lib/python3.10/dist-packages (from cirq-core<1.4.0,>=1.0.0->mitiq->openqaoa-core==0.2.6) (4.12.2)\n",
            "Requirement already satisfied: tqdm in /usr/local/lib/python3.10/dist-packages (from cirq-core<1.4.0,>=1.0.0->mitiq->openqaoa-core==0.2.6) (4.66.4)\n",
            "Requirement already satisfied: parso<0.9.0,>=0.8.3 in /usr/local/lib/python3.10/dist-packages (from jedi>=0.16->ipython==7.34.0->openqaoa-core==0.2.6) (0.8.4)\n",
            "Requirement already satisfied: ptyprocess>=0.5 in /usr/local/lib/python3.10/dist-packages (from pexpect>4.3->ipython==7.34.0->openqaoa-core==0.2.6) (0.7.0)\n",
            "Requirement already satisfied: wcwidth in /usr/local/lib/python3.10/dist-packages (from prompt-toolkit!=3.0.0,!=3.0.1,<3.1.0,>=2.0.0->ipython==7.34.0->openqaoa-core==0.2.6) (0.2.13)\n",
            "Building wheels for collected packages: openqaoa-core, docplex\n",
            "  Building wheel for openqaoa-core (pyproject.toml) ... \u001b[?25l\u001b[?25hdone\n",
            "  Created wheel for openqaoa-core: filename=openqaoa_core-0.2.6-py3-none-any.whl size=291401 sha256=daeec6737358b24ad186140f0f77d40831ba598e51464c64b99952e37c4c1c23\n",
            "  Stored in directory: /root/.cache/pip/wheels/7e/1b/fd/0059597011958f73d116029f8bca232f17a9edffd00b5cd9b1\n",
            "  Building wheel for docplex (setup.py) ... \u001b[?25l\u001b[?25hdone\n",
            "  Created wheel for docplex: filename=docplex-2.25.236-py3-none-any.whl size=671350 sha256=e529d1a87188056ca8396b325313b201ef74743d8a4a26ee31c5d9d2a37deb6d\n",
            "  Stored in directory: /root/.cache/pip/wheels/3b/e5/00/0bf0173d67188fe73a13e3a61412b3f975f60205e3fab93a69\n",
            "Successfully built openqaoa-core docplex\n",
            "Installing collected packages: semantic-version, jedi, duet, docplex, autoray, cirq-core, mitiq, openqaoa-core\n",
            "Successfully installed autoray-0.6.12 cirq-core-1.3.0 docplex-2.25.236 duet-0.2.9 jedi-0.19.1 mitiq-0.38.0 openqaoa-core-0.2.6 semantic-version-2.10.0\n",
            "pip install ./src/openqaoa-qiskit\n",
            "Processing ./src/openqaoa-qiskit\n",
            "  Installing build dependencies ... \u001b[?25l\u001b[?25hdone\n",
            "  Getting requirements to build wheel ... \u001b[?25l\u001b[?25hdone\n",
            "  Preparing metadata (pyproject.toml) ... \u001b[?25l\u001b[?25hdone\n",
            "Requirement already satisfied: openqaoa-core==0.2.6 in /usr/local/lib/python3.10/dist-packages (from openqaoa-qiskit==0.2.6) (0.2.6)\n",
            "Collecting qiskit<1.0,>=0.36.1 (from openqaoa-qiskit==0.2.6)\n",
            "  Downloading qiskit-0.46.2-py3-none-any.whl (10.0 kB)\n",
            "Collecting qiskit-ibm-provider (from openqaoa-qiskit==0.2.6)\n",
            "  Downloading qiskit_ibm_provider-0.11.0-py3-none-any.whl (249 kB)\n",
            "\u001b[2K     \u001b[90m━━━━━━━━━━━━━━━━━━━━━━━━━━━━━━━━━━━━━━━━\u001b[0m \u001b[32m249.9/249.9 kB\u001b[0m \u001b[31m5.1 MB/s\u001b[0m eta \u001b[36m0:00:00\u001b[0m\n",
            "\u001b[?25hCollecting qiskit-aer (from openqaoa-qiskit==0.2.6)\n",
            "  Downloading qiskit_aer-0.14.2-cp310-cp310-manylinux_2_17_x86_64.manylinux2014_x86_64.whl (12.4 MB)\n",
            "\u001b[2K     \u001b[90m━━━━━━━━━━━━━━━━━━━━━━━━━━━━━━━━━━━━━━━━\u001b[0m \u001b[32m12.4/12.4 MB\u001b[0m \u001b[31m81.1 MB/s\u001b[0m eta \u001b[36m0:00:00\u001b[0m\n",
            "\u001b[?25hRequirement already satisfied: pandas>=1.3.5 in /usr/local/lib/python3.10/dist-packages (from openqaoa-core==0.2.6->openqaoa-qiskit==0.2.6) (2.0.3)\n",
            "Requirement already satisfied: sympy>=1.10.1 in /usr/local/lib/python3.10/dist-packages (from openqaoa-core==0.2.6->openqaoa-qiskit==0.2.6) (1.12.1)\n",
            "Requirement already satisfied: numpy>=1.22.3 in /usr/local/lib/python3.10/dist-packages (from openqaoa-core==0.2.6->openqaoa-qiskit==0.2.6) (1.25.2)\n",
            "Requirement already satisfied: networkx>=2.8 in /usr/local/lib/python3.10/dist-packages (from openqaoa-core==0.2.6->openqaoa-qiskit==0.2.6) (3.3)\n",
            "Requirement already satisfied: matplotlib>=3.4.3 in /usr/local/lib/python3.10/dist-packages (from openqaoa-core==0.2.6->openqaoa-qiskit==0.2.6) (3.7.1)\n",
            "Requirement already satisfied: scipy>=1.8 in /usr/local/lib/python3.10/dist-packages (from openqaoa-core==0.2.6->openqaoa-qiskit==0.2.6) (1.11.4)\n",
            "Requirement already satisfied: docplex==2.25.236 in /usr/local/lib/python3.10/dist-packages (from openqaoa-core==0.2.6->openqaoa-qiskit==0.2.6) (2.25.236)\n",
            "Requirement already satisfied: autograd>=1.4 in /usr/local/lib/python3.10/dist-packages (from openqaoa-core==0.2.6->openqaoa-qiskit==0.2.6) (1.6.2)\n",
            "Requirement already satisfied: semantic-version>=2.10 in /usr/local/lib/python3.10/dist-packages (from openqaoa-core==0.2.6->openqaoa-qiskit==0.2.6) (2.10.0)\n",
            "Requirement already satisfied: autoray>=0.3.1 in /usr/local/lib/python3.10/dist-packages (from openqaoa-core==0.2.6->openqaoa-qiskit==0.2.6) (0.6.12)\n",
            "Requirement already satisfied: requests in /usr/local/lib/python3.10/dist-packages (from openqaoa-core==0.2.6->openqaoa-qiskit==0.2.6) (2.31.0)\n",
            "Requirement already satisfied: ipython==7.34.0 in /usr/local/lib/python3.10/dist-packages (from openqaoa-core==0.2.6->openqaoa-qiskit==0.2.6) (7.34.0)\n",
            "Requirement already satisfied: mitiq in /usr/local/lib/python3.10/dist-packages (from openqaoa-core==0.2.6->openqaoa-qiskit==0.2.6) (0.38.0)\n",
            "Requirement already satisfied: six in /usr/local/lib/python3.10/dist-packages (from docplex==2.25.236->openqaoa-core==0.2.6->openqaoa-qiskit==0.2.6) (1.16.0)\n",
            "Requirement already satisfied: setuptools>=18.5 in /usr/local/lib/python3.10/dist-packages (from ipython==7.34.0->openqaoa-core==0.2.6->openqaoa-qiskit==0.2.6) (67.7.2)\n",
            "Requirement already satisfied: jedi>=0.16 in /usr/local/lib/python3.10/dist-packages (from ipython==7.34.0->openqaoa-core==0.2.6->openqaoa-qiskit==0.2.6) (0.19.1)\n",
            "Requirement already satisfied: decorator in /usr/local/lib/python3.10/dist-packages (from ipython==7.34.0->openqaoa-core==0.2.6->openqaoa-qiskit==0.2.6) (4.4.2)\n",
            "Requirement already satisfied: pickleshare in /usr/local/lib/python3.10/dist-packages (from ipython==7.34.0->openqaoa-core==0.2.6->openqaoa-qiskit==0.2.6) (0.7.5)\n",
            "Requirement already satisfied: traitlets>=4.2 in /usr/local/lib/python3.10/dist-packages (from ipython==7.34.0->openqaoa-core==0.2.6->openqaoa-qiskit==0.2.6) (5.7.1)\n",
            "Requirement already satisfied: prompt-toolkit!=3.0.0,!=3.0.1,<3.1.0,>=2.0.0 in /usr/local/lib/python3.10/dist-packages (from ipython==7.34.0->openqaoa-core==0.2.6->openqaoa-qiskit==0.2.6) (3.0.47)\n",
            "Requirement already satisfied: pygments in /usr/local/lib/python3.10/dist-packages (from ipython==7.34.0->openqaoa-core==0.2.6->openqaoa-qiskit==0.2.6) (2.16.1)\n",
            "Requirement already satisfied: backcall in /usr/local/lib/python3.10/dist-packages (from ipython==7.34.0->openqaoa-core==0.2.6->openqaoa-qiskit==0.2.6) (0.2.0)\n",
            "Requirement already satisfied: matplotlib-inline in /usr/local/lib/python3.10/dist-packages (from ipython==7.34.0->openqaoa-core==0.2.6->openqaoa-qiskit==0.2.6) (0.1.7)\n",
            "Requirement already satisfied: pexpect>4.3 in /usr/local/lib/python3.10/dist-packages (from ipython==7.34.0->openqaoa-core==0.2.6->openqaoa-qiskit==0.2.6) (4.9.0)\n",
            "Collecting qiskit-terra==0.46.2 (from qiskit<1.0,>=0.36.1->openqaoa-qiskit==0.2.6)\n",
            "  Downloading qiskit_terra-0.46.2-cp38-abi3-manylinux_2_17_x86_64.manylinux2014_x86_64.whl (5.4 MB)\n",
            "\u001b[2K     \u001b[90m━━━━━━━━━━━━━━━━━━━━━━━━━━━━━━━━━━━━━━━━\u001b[0m \u001b[32m5.4/5.4 MB\u001b[0m \u001b[31m84.4 MB/s\u001b[0m eta \u001b[36m0:00:00\u001b[0m\n",
            "\u001b[?25hCollecting rustworkx>=0.13.0 (from qiskit-terra==0.46.2->qiskit<1.0,>=0.36.1->openqaoa-qiskit==0.2.6)\n",
            "  Downloading rustworkx-0.15.1-cp38-abi3-manylinux_2_17_x86_64.manylinux2014_x86_64.whl (2.0 MB)\n",
            "\u001b[2K     \u001b[90m━━━━━━━━━━━━━━━━━━━━━━━━━━━━━━━━━━━━━━━━\u001b[0m \u001b[32m2.0/2.0 MB\u001b[0m \u001b[31m69.3 MB/s\u001b[0m eta \u001b[36m0:00:00\u001b[0m\n",
            "\u001b[?25hCollecting ply>=3.10 (from qiskit-terra==0.46.2->qiskit<1.0,>=0.36.1->openqaoa-qiskit==0.2.6)\n",
            "  Downloading ply-3.11-py2.py3-none-any.whl (49 kB)\n",
            "\u001b[2K     \u001b[90m━━━━━━━━━━━━━━━━━━━━━━━━━━━━━━━━━━━━━━━━\u001b[0m \u001b[32m49.6/49.6 kB\u001b[0m \u001b[31m5.5 MB/s\u001b[0m eta \u001b[36m0:00:00\u001b[0m\n",
            "\u001b[?25hRequirement already satisfied: psutil>=5 in /usr/local/lib/python3.10/dist-packages (from qiskit-terra==0.46.2->qiskit<1.0,>=0.36.1->openqaoa-qiskit==0.2.6) (5.9.5)\n",
            "Collecting dill>=0.3 (from qiskit-terra==0.46.2->qiskit<1.0,>=0.36.1->openqaoa-qiskit==0.2.6)\n",
            "  Downloading dill-0.3.8-py3-none-any.whl (116 kB)\n",
            "\u001b[2K     \u001b[90m━━━━━━━━━━━━━━━━━━━━━━━━━━━━━━━━━━━━━━━━\u001b[0m \u001b[32m116.3/116.3 kB\u001b[0m \u001b[31m14.3 MB/s\u001b[0m eta \u001b[36m0:00:00\u001b[0m\n",
            "\u001b[?25hRequirement already satisfied: python-dateutil>=2.8.0 in /usr/local/lib/python3.10/dist-packages (from qiskit-terra==0.46.2->qiskit<1.0,>=0.36.1->openqaoa-qiskit==0.2.6) (2.8.2)\n",
            "Collecting stevedore>=3.0.0 (from qiskit-terra==0.46.2->qiskit<1.0,>=0.36.1->openqaoa-qiskit==0.2.6)\n",
            "  Downloading stevedore-5.2.0-py3-none-any.whl (49 kB)\n",
            "\u001b[2K     \u001b[90m━━━━━━━━━━━━━━━━━━━━━━━━━━━━━━━━━━━━━━━━\u001b[0m \u001b[32m49.7/49.7 kB\u001b[0m \u001b[31m6.2 MB/s\u001b[0m eta \u001b[36m0:00:00\u001b[0m\n",
            "\u001b[?25hCollecting symengine>=0.11 (from qiskit-terra==0.46.2->qiskit<1.0,>=0.36.1->openqaoa-qiskit==0.2.6)\n",
            "  Downloading symengine-0.11.0-cp310-cp310-manylinux_2_12_x86_64.manylinux2010_x86_64.whl (39.4 MB)\n",
            "\u001b[2K     \u001b[90m━━━━━━━━━━━━━━━━━━━━━━━━━━━━━━━━━━━━━━━━\u001b[0m \u001b[32m39.4/39.4 MB\u001b[0m \u001b[31m15.6 MB/s\u001b[0m eta \u001b[36m0:00:00\u001b[0m\n",
            "\u001b[?25hRequirement already satisfied: typing-extensions in /usr/local/lib/python3.10/dist-packages (from qiskit-terra==0.46.2->qiskit<1.0,>=0.36.1->openqaoa-qiskit==0.2.6) (4.12.2)\n",
            "Collecting requests-ntlm>=1.1.0 (from qiskit-ibm-provider->openqaoa-qiskit==0.2.6)\n",
            "  Downloading requests_ntlm-1.3.0-py3-none-any.whl (6.6 kB)\n",
            "Requirement already satisfied: urllib3>=1.21.1 in /usr/local/lib/python3.10/dist-packages (from qiskit-ibm-provider->openqaoa-qiskit==0.2.6) (2.0.7)\n",
            "Requirement already satisfied: websocket-client>=1.5.1 in /usr/local/lib/python3.10/dist-packages (from qiskit-ibm-provider->openqaoa-qiskit==0.2.6) (1.8.0)\n",
            "Collecting websockets>=10.0 (from qiskit-ibm-provider->openqaoa-qiskit==0.2.6)\n",
            "  Downloading websockets-12.0-cp310-cp310-manylinux_2_5_x86_64.manylinux1_x86_64.manylinux_2_17_x86_64.manylinux2014_x86_64.whl (130 kB)\n",
            "\u001b[2K     \u001b[90m━━━━━━━━━━━━━━━━━━━━━━━━━━━━━━━━━━━━━━━━\u001b[0m \u001b[32m130.2/130.2 kB\u001b[0m \u001b[31m13.4 MB/s\u001b[0m eta \u001b[36m0:00:00\u001b[0m\n",
            "\u001b[?25hRequirement already satisfied: future>=0.15.2 in /usr/local/lib/python3.10/dist-packages (from autograd>=1.4->openqaoa-core==0.2.6->openqaoa-qiskit==0.2.6) (0.18.3)\n",
            "Requirement already satisfied: contourpy>=1.0.1 in /usr/local/lib/python3.10/dist-packages (from matplotlib>=3.4.3->openqaoa-core==0.2.6->openqaoa-qiskit==0.2.6) (1.2.1)\n",
            "Requirement already satisfied: cycler>=0.10 in /usr/local/lib/python3.10/dist-packages (from matplotlib>=3.4.3->openqaoa-core==0.2.6->openqaoa-qiskit==0.2.6) (0.12.1)\n",
            "Requirement already satisfied: fonttools>=4.22.0 in /usr/local/lib/python3.10/dist-packages (from matplotlib>=3.4.3->openqaoa-core==0.2.6->openqaoa-qiskit==0.2.6) (4.53.0)\n",
            "Requirement already satisfied: kiwisolver>=1.0.1 in /usr/local/lib/python3.10/dist-packages (from matplotlib>=3.4.3->openqaoa-core==0.2.6->openqaoa-qiskit==0.2.6) (1.4.5)\n",
            "Requirement already satisfied: packaging>=20.0 in /usr/local/lib/python3.10/dist-packages (from matplotlib>=3.4.3->openqaoa-core==0.2.6->openqaoa-qiskit==0.2.6) (24.1)\n",
            "Requirement already satisfied: pillow>=6.2.0 in /usr/local/lib/python3.10/dist-packages (from matplotlib>=3.4.3->openqaoa-core==0.2.6->openqaoa-qiskit==0.2.6) (9.4.0)\n",
            "Requirement already satisfied: pyparsing>=2.3.1 in /usr/local/lib/python3.10/dist-packages (from matplotlib>=3.4.3->openqaoa-core==0.2.6->openqaoa-qiskit==0.2.6) (3.1.2)\n",
            "Requirement already satisfied: pytz>=2020.1 in /usr/local/lib/python3.10/dist-packages (from pandas>=1.3.5->openqaoa-core==0.2.6->openqaoa-qiskit==0.2.6) (2023.4)\n",
            "Requirement already satisfied: tzdata>=2022.1 in /usr/local/lib/python3.10/dist-packages (from pandas>=1.3.5->openqaoa-core==0.2.6->openqaoa-qiskit==0.2.6) (2024.1)\n",
            "Requirement already satisfied: charset-normalizer<4,>=2 in /usr/local/lib/python3.10/dist-packages (from requests->openqaoa-core==0.2.6->openqaoa-qiskit==0.2.6) (3.3.2)\n",
            "Requirement already satisfied: idna<4,>=2.5 in /usr/local/lib/python3.10/dist-packages (from requests->openqaoa-core==0.2.6->openqaoa-qiskit==0.2.6) (3.7)\n",
            "Requirement already satisfied: certifi>=2017.4.17 in /usr/local/lib/python3.10/dist-packages (from requests->openqaoa-core==0.2.6->openqaoa-qiskit==0.2.6) (2024.6.2)\n",
            "Requirement already satisfied: cryptography>=1.3 in /usr/local/lib/python3.10/dist-packages (from requests-ntlm>=1.1.0->qiskit-ibm-provider->openqaoa-qiskit==0.2.6) (42.0.8)\n",
            "Collecting pyspnego>=0.4.0 (from requests-ntlm>=1.1.0->qiskit-ibm-provider->openqaoa-qiskit==0.2.6)\n",
            "  Downloading pyspnego-0.11.0-py3-none-any.whl (130 kB)\n",
            "\u001b[2K     \u001b[90m━━━━━━━━━━━━━━━━━━━━━━━━━━━━━━━━━━━━━━━━\u001b[0m \u001b[32m130.4/130.4 kB\u001b[0m \u001b[31m15.0 MB/s\u001b[0m eta \u001b[36m0:00:00\u001b[0m\n",
            "\u001b[?25hRequirement already satisfied: mpmath<1.4.0,>=1.1.0 in /usr/local/lib/python3.10/dist-packages (from sympy>=1.10.1->openqaoa-core==0.2.6->openqaoa-qiskit==0.2.6) (1.3.0)\n",
            "Requirement already satisfied: cirq-core<1.4.0,>=1.0.0 in /usr/local/lib/python3.10/dist-packages (from mitiq->openqaoa-core==0.2.6->openqaoa-qiskit==0.2.6) (1.3.0)\n",
            "Requirement already satisfied: tabulate in /usr/local/lib/python3.10/dist-packages (from mitiq->openqaoa-core==0.2.6->openqaoa-qiskit==0.2.6) (0.9.0)\n",
            "Requirement already satisfied: duet~=0.2.8 in /usr/local/lib/python3.10/dist-packages (from cirq-core<1.4.0,>=1.0.0->mitiq->openqaoa-core==0.2.6->openqaoa-qiskit==0.2.6) (0.2.9)\n",
            "Requirement already satisfied: sortedcontainers~=2.0 in /usr/local/lib/python3.10/dist-packages (from cirq-core<1.4.0,>=1.0.0->mitiq->openqaoa-core==0.2.6->openqaoa-qiskit==0.2.6) (2.4.0)\n",
            "Requirement already satisfied: tqdm in /usr/local/lib/python3.10/dist-packages (from cirq-core<1.4.0,>=1.0.0->mitiq->openqaoa-core==0.2.6->openqaoa-qiskit==0.2.6) (4.66.4)\n",
            "Requirement already satisfied: cffi>=1.12 in /usr/local/lib/python3.10/dist-packages (from cryptography>=1.3->requests-ntlm>=1.1.0->qiskit-ibm-provider->openqaoa-qiskit==0.2.6) (1.16.0)\n",
            "Requirement already satisfied: parso<0.9.0,>=0.8.3 in /usr/local/lib/python3.10/dist-packages (from jedi>=0.16->ipython==7.34.0->openqaoa-core==0.2.6->openqaoa-qiskit==0.2.6) (0.8.4)\n",
            "Requirement already satisfied: ptyprocess>=0.5 in /usr/local/lib/python3.10/dist-packages (from pexpect>4.3->ipython==7.34.0->openqaoa-core==0.2.6->openqaoa-qiskit==0.2.6) (0.7.0)\n",
            "Requirement already satisfied: wcwidth in /usr/local/lib/python3.10/dist-packages (from prompt-toolkit!=3.0.0,!=3.0.1,<3.1.0,>=2.0.0->ipython==7.34.0->openqaoa-core==0.2.6->openqaoa-qiskit==0.2.6) (0.2.13)\n",
            "Collecting pbr!=2.1.0,>=2.0.0 (from stevedore>=3.0.0->qiskit-terra==0.46.2->qiskit<1.0,>=0.36.1->openqaoa-qiskit==0.2.6)\n",
            "  Downloading pbr-6.0.0-py2.py3-none-any.whl (107 kB)\n",
            "\u001b[2K     \u001b[90m━━━━━━━━━━━━━━━━━━━━━━━━━━━━━━━━━━━━━━━━\u001b[0m \u001b[32m107.5/107.5 kB\u001b[0m \u001b[31m9.1 MB/s\u001b[0m eta \u001b[36m0:00:00\u001b[0m\n",
            "\u001b[?25hRequirement already satisfied: pycparser in /usr/local/lib/python3.10/dist-packages (from cffi>=1.12->cryptography>=1.3->requests-ntlm>=1.1.0->qiskit-ibm-provider->openqaoa-qiskit==0.2.6) (2.22)\n",
            "Building wheels for collected packages: openqaoa-qiskit\n",
            "  Building wheel for openqaoa-qiskit (pyproject.toml) ... \u001b[?25l\u001b[?25hdone\n",
            "  Created wheel for openqaoa-qiskit: filename=openqaoa_qiskit-0.2.6-py3-none-any.whl size=14967 sha256=8de85323f1769864da8477a55b2ab222fdb47c9c6c64b46d0af086867ce5ff7f\n",
            "  Stored in directory: /root/.cache/pip/wheels/87/2b/bb/cafa0eabef9a2a91c91f9e69c079f704fa5b7e3217778d774f\n",
            "Successfully built openqaoa-qiskit\n",
            "Installing collected packages: ply, websockets, symengine, rustworkx, pbr, dill, stevedore, qiskit-terra, pyspnego, requests-ntlm, qiskit, qiskit-ibm-provider, qiskit-aer, openqaoa-qiskit\n",
            "Successfully installed dill-0.3.8 openqaoa-qiskit-0.2.6 pbr-6.0.0 ply-3.11 pyspnego-0.11.0 qiskit-0.46.2 qiskit-aer-0.14.2 qiskit-ibm-provider-0.11.0 qiskit-terra-0.46.2 requests-ntlm-1.3.0 rustworkx-0.15.1 stevedore-5.2.0 symengine-0.11.0 websockets-12.0\n"
          ]
        }
      ]
    },
    {
      "cell_type": "markdown",
      "source": [
        "## Imports"
      ],
      "metadata": {
        "id": "zJDbMPoLyIKo"
      },
      "id": "zJDbMPoLyIKo"
    },
    {
      "cell_type": "code",
      "execution_count": 7,
      "id": "c46544d1-3501-4af2-bfe9-a716f4f46317",
      "metadata": {
        "id": "c46544d1-3501-4af2-bfe9-a716f4f46317"
      },
      "outputs": [],
      "source": [
        "import sys\n",
        "import os\n",
        "from IPython.display import clear_output\n",
        "from openqaoa.backends import create_device\n",
        "\n",
        "from google.colab import files\n",
        "\n",
        "sys.path.append('Tesis/functions')\n",
        "from TestQAOASolver import TestQAOASolver\n",
        "sys.path.append('../..')"
      ]
    },
    {
      "cell_type": "markdown",
      "source": [
        "## Define configurations"
      ],
      "metadata": {
        "id": "1pNIzKP-yNnY"
      },
      "id": "1pNIzKP-yNnY"
    },
    {
      "cell_type": "code",
      "source": [
        "# all the JRP initialization configurations for the JRPRandomGenerator\n",
        "jrp_init_configurations = [\n",
        "    {'num_agents':10 , 'num_vacnJobs':3 ,'penalty1':2.5,'penalty2':3, 'control_restrictions':False},\n",
        "    {'num_agents':3 , 'num_vacnJobs':10 , 'penalty1':2.5,'penalty2':3,'control_restrictions':False},\n",
        "    {'num_agents':6 , 'num_vacnJobs':5 ,'penalty1':2.5,'penalty2':3, 'control_restrictions':False},\n",
        "    {'num_agents':5,'num_vacnJobs':6,'penalty1':2.5,'penalty2':3,'control_restrictions':False},\n",
        "    {'num_agents':7,'num_vacnJobs':4,'penalty1':2.5,'penalty2':3,'control_restrictions':False},\n",
        "    {'num_agents':4,'num_vacnJobs':7,'penalty1':2.5,'penalty2':3,'control_restrictions':False},\n",
        "    {'num_agents':8,'num_vacnJobs':3,'penalty1':2.5,'penalty2':3,'control_restrictions':False},\n",
        "    {'num_agents':3,'num_vacnJobs':8,'penalty1':2.5,'penalty2':3,'control_restrictions':False}\n",
        "]"
      ],
      "metadata": {
        "id": "YxFiT0bovS7F"
      },
      "id": "YxFiT0bovS7F",
      "execution_count": 8,
      "outputs": []
    },
    {
      "cell_type": "code",
      "source": [
        "# uncomment ONLY if you want to do some test within simpler instances\n",
        "'''\n",
        "jrp_init_configurations = [\n",
        "    {'num_agents':2 , 'num_vacnJobs':3 ,'penalty1':2.5,'penalty2':3, 'control_restrictions':False},\n",
        "    {'num_agents':3 , 'num_vacnJobs':2 , 'penalty1':2.5,'penalty2':3,'control_restrictions':False},\n",
        "    {'num_agents':2 , 'num_vacnJobs':4 ,'penalty1':2.5,'penalty2':3, 'control_restrictions':False},\n",
        "    {'num_agents':4,'num_vacnJobs':2,'penalty1':2.5,'penalty2':3,'control_restrictions':False},\n",
        "    {'num_agents':3,'num_vacnJobs':3,'penalty1':2.5,'penalty2':3,'control_restrictions':False},\n",
        "    {'num_agents':3,'num_vacnJobs':3,'penalty1':2.5,'penalty2':3,'control_restrictions':False}\n",
        "]\n",
        "'''\n"
      ],
      "metadata": {
        "id": "hnXnhKHEhDip"
      },
      "id": "hnXnhKHEhDip",
      "execution_count": 14,
      "outputs": []
    },
    {
      "cell_type": "code",
      "source": [
        "# ACORDARNOS QUE SI CON P=4 DA MUY BUENOS RESULTADOS, PODEMOS PROBAR DISMINUIR LSO OTROS Ps\n",
        "circuit_configurations =[\n",
        "    {\n",
        "    'p': 4,\n",
        "    'param_type':'standard',\n",
        "    'init_type':'ramp',\n",
        "    'mixer_hamiltonian':'x'\n",
        "    },\n",
        "    {\n",
        "    'p': 5,\n",
        "    'param_type':'standard',\n",
        "    'init_type':'ramp',\n",
        "    'mixer_hamiltonian':'x'\n",
        "    },\n",
        "    {\n",
        "    'p': 6,\n",
        "    'param_type':'standard',\n",
        "    'init_type':'ramp',\n",
        "    'mixer_hamiltonian':'x'\n",
        "    }\n",
        "]"
      ],
      "metadata": {
        "id": "a7iczFQnyT8W"
      },
      "id": "a7iczFQnyT8W",
      "execution_count": 10,
      "outputs": []
    },
    {
      "cell_type": "code",
      "source": [
        "optimization_backend_configuration ={\n",
        "    'n_shots':10000\n",
        "    }\n",
        "\n",
        "evaluation_backend_configuration ={\n",
        "    'n_shots':20\n",
        "    }"
      ],
      "metadata": {
        "id": "JebW5M4eeQlS"
      },
      "id": "JebW5M4eeQlS",
      "execution_count": 12,
      "outputs": []
    },
    {
      "cell_type": "code",
      "source": [
        "optimizer_configuration={\n",
        "    'method' : 'Powell',\n",
        "    'maxfev':10000,\n",
        "    'tol':0.01,\n",
        "    'optimization_progress':True,\n",
        "    'cost_progress':True,\n",
        "    'parameter_log':True\n",
        "    }"
      ],
      "metadata": {
        "id": "R7ISmlRcyV6p"
      },
      "id": "R7ISmlRcyV6p",
      "execution_count": 17,
      "outputs": []
    },
    {
      "cell_type": "markdown",
      "source": [
        "## Sampling"
      ],
      "metadata": {
        "id": "sBkiMKC7yanY"
      },
      "id": "sBkiMKC7yanY"
    },
    {
      "cell_type": "code",
      "source": [
        "n_instances_per_jrpInitConf = 5\n",
        "solver = TestQAOASolver()\n",
        "\n",
        "for itr,jrp_conf in enumerate(jrp_init_configurations):\n",
        "    solver.set_fixedInstances(jrp_conf,n_instances_per_jrpInitConf)\n",
        "    for itr2,circuit_conf in enumerate(circuit_configurations):\n",
        "        print('JRP CONF ',itr,' - CIRCUIT CONF ',itr2)\n",
        "\n",
        "        name = '_jrpInitConf'+str(itr)+'_circuitConf'+str(itr2)\n",
        "        solver.sample_workflows_with_fixedInstances(\n",
        "        str(name),\n",
        "        circuit_conf,\n",
        "        optimizer_configuration,\n",
        "        optimization_backend_configuration,\n",
        "        evaluation_backend_configuration\n",
        "        )\n",
        "        file_name = 'conf'+name+'.json'\n",
        "        !cp {file_name} /content/drive/MyDrive/results_experiment_colab\n",
        "\n",
        "    clear_output(wait=True)"
      ],
      "metadata": {
        "colab": {
          "base_uri": "https://localhost:8080/"
        },
        "id": "i6eYAOT2LiYS",
        "outputId": "6ecbb165-56b5-4b77-ff54-232cd268ccff"
      },
      "id": "i6eYAOT2LiYS",
      "execution_count": 19,
      "outputs": [
        {
          "output_type": "stream",
          "name": "stdout",
          "text": [
            "JRP CONF  5  - CIRCUIT CONF  0\n",
            "running sample  0\n",
            "running sample  1\n",
            "running sample  2\n",
            "running sample  3\n",
            "running sample  4\n",
            "JRP CONF  5  - CIRCUIT CONF  1\n",
            "running sample  0\n",
            "running sample  1\n",
            "running sample  2\n",
            "running sample  3\n",
            "running sample  4\n",
            "JRP CONF  5  - CIRCUIT CONF  2\n",
            "running sample  0\n",
            "running sample  1\n",
            "running sample  2\n",
            "running sample  3\n",
            "running sample  4\n"
          ]
        }
      ]
    }
  ],
  "metadata": {
    "kernelspec": {
      "display_name": "Python 3 (ipykernel)",
      "language": "python",
      "name": "python3"
    },
    "language_info": {
      "codemirror_mode": {
        "name": "ipython",
        "version": 3
      },
      "file_extension": ".py",
      "mimetype": "text/x-python",
      "name": "python",
      "nbconvert_exporter": "python",
      "pygments_lexer": "ipython3",
      "version": "3.10.13"
    },
    "colab": {
      "provenance": []
    }
  },
  "nbformat": 4,
  "nbformat_minor": 5
}