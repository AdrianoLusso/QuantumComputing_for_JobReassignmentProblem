{
  "cells": [
    {
      "cell_type": "markdown",
      "source": [
        "# Real experiment for Google Colab"
      ],
      "metadata": {
        "id": "uMOttFhJuobO"
      },
      "id": "uMOttFhJuobO"
    },
    {
      "cell_type": "markdown",
      "source": [
        "The goal is to run the experiment with the real JRP instances. This notebook is prepared to be run in google colab.\n"
      ],
      "metadata": {
        "id": "cBVuecQjuuA-"
      },
      "id": "cBVuecQjuuA-"
    },
    {
      "cell_type": "markdown",
      "source": [
        "## Conect to Google Drive"
      ],
      "metadata": {
        "id": "Qc5hfGbRFCfm"
      },
      "id": "Qc5hfGbRFCfm"
    },
    {
      "cell_type": "code",
      "source": [
        "from google.colab import drive\n",
        "drive.mount('/content/drive')"
      ],
      "metadata": {
        "id": "kEXz42qBFBx4"
      },
      "id": "kEXz42qBFBx4",
      "execution_count": null,
      "outputs": []
    },
    {
      "cell_type": "markdown",
      "source": [
        "## Installs"
      ],
      "metadata": {
        "id": "tMWhBV-0u6tP"
      },
      "id": "tMWhBV-0u6tP"
    },
    {
      "cell_type": "code",
      "source": [
        "# 1. RUN THIS\n",
        "!git clone https://github.com/entropicalabs/openqaoa.git"
      ],
      "metadata": {
        "id": "5v7R3_GDxGaL"
      },
      "id": "5v7R3_GDxGaL",
      "execution_count": null,
      "outputs": []
    },
    {
      "cell_type": "code",
      "source": [
        "# 2. RUN THIS\n",
        "!git clone https://github.com/AdrianoLusso/Tesis.git"
      ],
      "metadata": {
        "id": "oLC0Mmyku_5M"
      },
      "id": "oLC0Mmyku_5M",
      "execution_count": null,
      "outputs": []
    },
    {
      "cell_type": "code",
      "source": [
        "# 3. RUN THIS\n",
        "with open('Tesis/openqaoa_modifiedFiles/Makefile.txt', 'r') as file:\n",
        "    replacement_content = file.read()\n",
        "\n",
        "with open('openqaoa/Makefile', 'w') as file:\n",
        "    file.write(replacement_content)\n",
        "\n",
        "#verify a successful writing\n",
        "#!cat openqaoa/Makefile"
      ],
      "metadata": {
        "id": "POXxjf7kxThV"
      },
      "id": "POXxjf7kxThV",
      "execution_count": 4,
      "outputs": []
    },
    {
      "cell_type": "code",
      "source": [
        "# 4. RUN THIS\n",
        "with open('Tesis/openqaoa_modifiedFiles/requirements_core.txt', 'r') as file:\n",
        "    replacement_content = file.read()\n",
        "\n",
        "with open('openqaoa/src/openqaoa-core/requirements.txt', 'w') as file:\n",
        "    file.write(replacement_content)\n",
        "\n",
        "#verify a successful writing\n",
        "#!cat openqaoa/src/openqaoa-core/requirements.txt"
      ],
      "metadata": {
        "id": "m3gQ7-gTxcCz"
      },
      "id": "m3gQ7-gTxcCz",
      "execution_count": 5,
      "outputs": []
    },
    {
      "cell_type": "code",
      "source": [
        "!cd openqaoa && make local-install"
      ],
      "metadata": {
        "id": "UUzjaIQLxu_5"
      },
      "id": "UUzjaIQLxu_5",
      "execution_count": null,
      "outputs": []
    },
    {
      "cell_type": "markdown",
      "source": [
        "## Imports"
      ],
      "metadata": {
        "id": "zJDbMPoLyIKo"
      },
      "id": "zJDbMPoLyIKo"
    },
    {
      "cell_type": "code",
      "execution_count": 7,
      "id": "c46544d1-3501-4af2-bfe9-a716f4f46317",
      "metadata": {
        "id": "c46544d1-3501-4af2-bfe9-a716f4f46317"
      },
      "outputs": [],
      "source": [
        "import sys\n",
        "import os\n",
        "from IPython.display import clear_output\n",
        "from openqaoa.backends import create_device\n",
        "\n",
        "from google.colab import files\n",
        "\n",
        "sys.path.append('Tesis/functions')\n",
        "from TestQAOASolver import TestQAOASolver"
      ]
    },
    {
      "cell_type": "markdown",
      "source": [
        "## Define configurations"
      ],
      "metadata": {
        "id": "1pNIzKP-yNnY"
      },
      "id": "1pNIzKP-yNnY"
    },
    {
      "cell_type": "code",
      "source": [
        "# all the JRP initialization configurations for the JRPRandomGenerator\n",
        "jrp_init_configurations = [\n",
        "    {'num_agents':10 , 'num_vacnJobs':3 ,'penalty1':2.5,'penalty2':3, 'control_restrictions':False},\n",
        "    {'num_agents':3 , 'num_vacnJobs':10 , 'penalty1':2.5,'penalty2':3,'control_restrictions':False},\n",
        "    {'num_agents':6 , 'num_vacnJobs':5 ,'penalty1':2.5,'penalty2':3, 'control_restrictions':False},\n",
        "    {'num_agents':5,'num_vacnJobs':6,'penalty1':2.5,'penalty2':3,'control_restrictions':False},\n",
        "    {'num_agents':7,'num_vacnJobs':4,'penalty1':2.5,'penalty2':3,'control_restrictions':False},\n",
        "    {'num_agents':4,'num_vacnJobs':7,'penalty1':2.5,'penalty2':3,'control_restrictions':False},\n",
        "    {'num_agents':8,'num_vacnJobs':3,'penalty1':2.5,'penalty2':3,'control_restrictions':False},\n",
        "    {'num_agents':3,'num_vacnJobs':8,'penalty1':2.5,'penalty2':3,'control_restrictions':False}\n",
        "]"
      ],
      "metadata": {
        "id": "YxFiT0bovS7F"
      },
      "id": "YxFiT0bovS7F",
      "execution_count": 8,
      "outputs": []
    },
    {
      "cell_type": "code",
      "source": [
        "# uncomment ONLY if you want to do some test within simpler instances\n",
        "'''\n",
        "jrp_init_configurations = [\n",
        "    {'num_agents':2 , 'num_vacnJobs':3 ,'penalty1':2.5,'penalty2':3, 'control_restrictions':False},\n",
        "    {'num_agents':3 , 'num_vacnJobs':2 , 'penalty1':2.5,'penalty2':3,'control_restrictions':False},\n",
        "    {'num_agents':2 , 'num_vacnJobs':4 ,'penalty1':2.5,'penalty2':3, 'control_restrictions':False},\n",
        "    {'num_agents':4,'num_vacnJobs':2,'penalty1':2.5,'penalty2':3,'control_restrictions':False},\n",
        "    {'num_agents':3,'num_vacnJobs':3,'penalty1':2.5,'penalty2':3,'control_restrictions':False},\n",
        "    {'num_agents':3,'num_vacnJobs':3,'penalty1':2.5,'penalty2':3,'control_restrictions':False},\n",
        "    {'num_agents':5,'num_vacnJobs':2,'penalty1':2.5,'penalty2':3,'control_restrictions':False},\n",
        "    {'num_agents':2,'num_vacnJobs':5,'penalty1':2.5,'penalty2':3,'control_restrictions':False}\n",
        "]\n",
        "'''\n"
      ],
      "metadata": {
        "id": "hnXnhKHEhDip"
      },
      "id": "hnXnhKHEhDip",
      "execution_count": 9,
      "outputs": []
    },
    {
      "cell_type": "code",
      "source": [
        "circuit_configurations =[\n",
        "    {\n",
        "    'p': 4,\n",
        "    'param_type':'standard',\n",
        "    'init_type':'ramp',\n",
        "    'mixer_hamiltonian':'x'\n",
        "    },\n",
        "    {\n",
        "    'p': 5,\n",
        "    'param_type':'standard',\n",
        "    'init_type':'ramp',\n",
        "    'mixer_hamiltonian':'x'\n",
        "    },\n",
        "    {\n",
        "    'p': 6,\n",
        "    'param_type':'standard',\n",
        "    'init_type':'ramp',\n",
        "    'mixer_hamiltonian':'x'\n",
        "    },\n",
        "    {\n",
        "    'p': 7,\n",
        "    'param_type':'standard',\n",
        "    'init_type':'ramp',\n",
        "    'mixer_hamiltonian':'x'\n",
        "    }\n",
        "]"
      ],
      "metadata": {
        "id": "a7iczFQnyT8W"
      },
      "id": "a7iczFQnyT8W",
      "execution_count": 10,
      "outputs": []
    },
    {
      "cell_type": "code",
      "source": [
        "optimization_backend_configuration ={\n",
        "    'n_shots':10000\n",
        "    #'qiskit_simulation_method':'statevector'\n",
        "    }\n",
        "\n",
        "evaluation_backend_configuration ={\n",
        "    'n_shots':20\n",
        "    #'qiskit_simulation_method':'matrix_product_state'\n",
        "    }"
      ],
      "metadata": {
        "id": "JebW5M4eeQlS"
      },
      "id": "JebW5M4eeQlS",
      "execution_count": 11,
      "outputs": []
    },
    {
      "cell_type": "code",
      "source": [
        "optimizer_configuration={\n",
        "    'method' : 'Powell',\n",
        "    'maxfev':10000,\n",
        "    'tol':0.01,\n",
        "    'optimization_progress':True,\n",
        "    'cost_progress':True,\n",
        "    'parameter_log':True\n",
        "    }"
      ],
      "metadata": {
        "id": "R7ISmlRcyV6p"
      },
      "id": "R7ISmlRcyV6p",
      "execution_count": 12,
      "outputs": []
    },
    {
      "cell_type": "markdown",
      "source": [
        "## Sampling"
      ],
      "metadata": {
        "id": "sBkiMKC7yanY"
      },
      "id": "sBkiMKC7yanY"
    },
    {
      "cell_type": "code",
      "source": [
        "# matrix where an element [i,j] is the size of the sample for:\n",
        "#   - JRP init configuration 'i'\n",
        "#   - circuit configuration 'j'\n",
        "ns_samples = [\n",
        "      [3,3,2,2]\n",
        "      ,[3,3,2,2]\n",
        "       ,[6,6,4,4]\n",
        "       ,[6,6,4,4]\n",
        "       ,[3,3,2,2]\n",
        "       ,[3,3,2,2]\n",
        "       ,[3,3,2,2]\n",
        "       ,[3,3,2,2]\n",
        "    ]\n",
        "solver = TestQAOASolver()\n",
        "\n",
        "for jrp_init_itr,jrp_init_conf in enumerate(jrp_init_configurations):\n",
        "  for circuit_itr,circuit_conf in enumerate(circuit_configurations):\n",
        "    print('JRP CONFIGURATION ',jrp_init_itr,' , CIRCUIT CONFIGURATION ',circuit_itr)\n",
        "\n",
        "    name = '_jrp'+str(jrp_init_itr)+'_circuit'+str(circuit_itr)\n",
        "    n_samples = ns_samples[jrp_init_itr][circuit_itr]\n",
        "\n",
        "    solver.sample_workflows(\n",
        "        name,\n",
        "        n_samples,\n",
        "        jrp_init_conf,\n",
        "        circuit_conf,\n",
        "        optimizer_configuration,\n",
        "        optimization_backend_configuration,\n",
        "        evaluation_backend_configuration\n",
        "    )\n",
        "\n",
        "    file_name = 'conf'+name+'.json'\n",
        "    !cp {file_name} /content/drive/MyDrive/results_experiment_colab\n",
        "    clear_output(wait=True)"
      ],
      "metadata": {
        "id": "Fb-t6Vr8yZ6l"
      },
      "id": "Fb-t6Vr8yZ6l",
      "execution_count": null,
      "outputs": []
    }
  ],
  "metadata": {
    "kernelspec": {
      "display_name": "Python 3 (ipykernel)",
      "language": "python",
      "name": "python3"
    },
    "language_info": {
      "codemirror_mode": {
        "name": "ipython",
        "version": 3
      },
      "file_extension": ".py",
      "mimetype": "text/x-python",
      "name": "python",
      "nbconvert_exporter": "python",
      "pygments_lexer": "ipython3",
      "version": "3.10.13"
    },
    "colab": {
      "provenance": []
    }
  },
  "nbformat": 4,
  "nbformat_minor": 5
}