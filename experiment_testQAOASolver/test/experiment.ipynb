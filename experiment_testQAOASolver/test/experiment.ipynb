{
 "cells": [
  {
   "cell_type": "markdown",
   "id": "8835e88e-578c-4d4e-83ed-a2ef46a67a7e",
   "metadata": {},
   "source": [
    "# Test experiment"
   ]
  },
  {
   "cell_type": "markdown",
   "id": "c1386a02-2e0b-47cd-903a-3495ba41f5bc",
   "metadata": {},
   "source": [
    "The goal is to analyze the complete workflow and the outputs it has, so as to detect possible errors or mistake before running it with bigger and more complex instances."
   ]
  },
  {
   "cell_type": "markdown",
   "id": "5fbe8ea1-f1b1-4cd5-81bf-06b7fb3bb7ae",
   "metadata": {},
   "source": [
    "### Imports"
   ]
  },
  {
   "cell_type": "code",
   "execution_count": 1,
   "id": "39dafbf2-b02d-43ae-8b89-ad8f1b6881ce",
   "metadata": {},
   "outputs": [],
   "source": [
    "import sys\n",
    "import os\n",
    "from IPython.display import clear_output\n",
    "\n",
    "sys.path.append(os.path.abspath(os.path.join('../..', 'functions')))\n",
    "from TestQAOASolver import TestQAOASolver"
   ]
  },
  {
   "cell_type": "markdown",
   "id": "79974e9f-3b48-4e15-97da-cf575f43c3b1",
   "metadata": {},
   "source": [
    "### Define configurations"
   ]
  },
  {
   "cell_type": "code",
   "execution_count": 2,
   "id": "8cb4e26b-7ea5-4cc4-8f23-b037edee9113",
   "metadata": {},
   "outputs": [],
   "source": [
    "# all the JRP initialization configurations for the JRPRandomGenerator\n",
    "jrp_init_configurations = [\n",
    "    {'num_agents':6 , 'num_vacnJobs':5 , 'control_restrictions':False},\n",
    "    {'num_agents':5 , 'num_vacnJobs':2 , 'control_restrictions':False},\n",
    "    {'num_agents':2 , 'num_vacnJobs':5 , 'control_restrictions':False},\n",
    "    {'num_agents':3,'num_vacnJobs':4,'control_restrictions':False},\n",
    "    {'num_agents':4,'num_vacnJobs':3,'control_restrictions':False}\n",
    "]"
   ]
  },
  {
   "cell_type": "code",
   "execution_count": 3,
   "id": "7c153db6-b3ae-43b4-81f2-9f283d0b2735",
   "metadata": {},
   "outputs": [],
   "source": [
    "circuit_configuration ={\n",
    "    'p': 10,\n",
    "    'param_type':'standard',\n",
    "    'init_type':'ramp',\n",
    "    'mixer_hamiltonian':'x'\n",
    "    }"
   ]
  },
  {
   "cell_type": "code",
   "execution_count": 4,
   "id": "7677c598-5f63-4933-bd2f-bc5c11c303a1",
   "metadata": {},
   "outputs": [],
   "source": [
    "optimization_backend_configuration ={\n",
    "    'n_shots':10000,\n",
    "    'qiskit_simulation_method':'statevector'\n",
    "    }\n",
    "\n",
    "evaluation_backend_configuration ={\n",
    "    'n_shots':20,\n",
    "    'qiskit_simulation_method':'statevector'\n",
    "    }"
   ]
  },
  {
   "cell_type": "code",
   "execution_count": 5,
   "id": "8000ec30-0bb8-42c9-9cc3-e765054f2e8f",
   "metadata": {},
   "outputs": [],
   "source": [
    "optimizer_configuration={\n",
    "    'method' : 'Powell',\n",
    "    'maxfev':50,\n",
    "    'tol':0.01,\n",
    "    'optimization_progress':True,\n",
    "    'cost_progress':True,\n",
    "    'parameter_log':True\n",
    "    }"
   ]
  },
  {
   "cell_type": "markdown",
   "id": "787fa767-cf1f-4d49-be96-d5b62363beb4",
   "metadata": {},
   "source": [
    "### Sampling "
   ]
  },
  {
   "cell_type": "code",
   "execution_count": 10,
   "id": "b60f40c7-b6f3-4f89-a4a3-c36dbeb2bd53",
   "metadata": {},
   "outputs": [],
   "source": [
    "from qiskit_aer import AerSimulator\n",
    "from openqaoa import QAOA\n",
    "\n",
    "a = AerSimulator(precision='single')\n",
    "q= QAOA()\n",
    "q.compile()"
   ]
  },
  {
   "cell_type": "code",
   "execution_count": 6,
   "id": "60668439-dd23-4cc0-ad2a-a86da162d51d",
   "metadata": {
    "scrolled": true
   },
   "outputs": [
    {
     "name": "stdout",
     "output_type": "stream",
     "text": [
      "CONFIGURATION  0\n",
      "running sample  0\n"
     ]
    },
    {
     "data": {
      "application/vnd.jupyter.widget-view+json": {
       "model_id": "d46d98605d17422ba23ba70402e5d106",
       "version_major": 2,
       "version_minor": 0
      },
      "text/plain": [
       "Output()"
      ]
     },
     "metadata": {},
     "output_type": "display_data"
    },
    {
     "ename": "QiskitError",
     "evalue": "'ERROR:  [Experiment 0] Insufficient memory to run circuit circuit-167 using the matrix_product_state simulator. Required memory: 983047M, max memory: 16071M ,  ERROR: Insufficient memory to run circuit circuit-167 using the matrix_product_state simulator. Required memory: 983047M, max memory: 16071M'",
     "output_type": "error",
     "traceback": [
      "\u001b[1;31m---------------------------------------------------------------------------\u001b[0m",
      "\u001b[1;31mQiskitError\u001b[0m                               Traceback (most recent call last)",
      "Cell \u001b[1;32mIn[6], line 6\u001b[0m\n\u001b[0;32m      4\u001b[0m \u001b[38;5;28;01mfor\u001b[39;00m itr,conf \u001b[38;5;129;01min\u001b[39;00m \u001b[38;5;28menumerate\u001b[39m(jrp_init_configurations):\n\u001b[0;32m      5\u001b[0m     \u001b[38;5;28mprint\u001b[39m(\u001b[38;5;124m'\u001b[39m\u001b[38;5;124mCONFIGURATION \u001b[39m\u001b[38;5;124m'\u001b[39m,itr)\n\u001b[1;32m----> 6\u001b[0m     \u001b[43msolver\u001b[49m\u001b[38;5;241;43m.\u001b[39;49m\u001b[43msample_workflows\u001b[49m\u001b[43m(\u001b[49m\n\u001b[0;32m      7\u001b[0m \u001b[43m        \u001b[49m\u001b[38;5;28;43mstr\u001b[39;49m\u001b[43m(\u001b[49m\u001b[43mitr\u001b[49m\u001b[43m)\u001b[49m\u001b[43m,\u001b[49m\n\u001b[0;32m      8\u001b[0m \u001b[43m        \u001b[49m\u001b[43mn_samples\u001b[49m\u001b[43m,\u001b[49m\n\u001b[0;32m      9\u001b[0m \u001b[43m        \u001b[49m\u001b[43mconf\u001b[49m\u001b[43m,\u001b[49m\n\u001b[0;32m     10\u001b[0m \u001b[43m        \u001b[49m\u001b[43mcircuit_configuration\u001b[49m\u001b[43m,\u001b[49m\n\u001b[0;32m     11\u001b[0m \u001b[43m        \u001b[49m\u001b[43moptimizer_configuration\u001b[49m\u001b[43m,\u001b[49m\n\u001b[0;32m     12\u001b[0m \u001b[43m        \u001b[49m\u001b[43moptimization_backend_configuration\u001b[49m\u001b[43m,\u001b[49m\n\u001b[0;32m     13\u001b[0m \u001b[43m        \u001b[49m\u001b[43mevaluation_backend_configuration\u001b[49m\n\u001b[0;32m     14\u001b[0m \u001b[43m    \u001b[49m\u001b[43m)\u001b[49m\n\u001b[0;32m     15\u001b[0m     clear_output(wait\u001b[38;5;241m=\u001b[39m\u001b[38;5;28;01mTrue\u001b[39;00m)\n",
      "File \u001b[1;32m~\\Desktop\\Facultad\\Facultad\\Tesis\\Tesis\\functions\\TestQAOASolver.py:83\u001b[0m, in \u001b[0;36mTestQAOASolver.sample_workflows\u001b[1;34m(self, configuration_name, n_samples, jrp_init_configuration, circuit_configuration, optimizer_configuration, optimization_backend_configuration, evaluation_backend_configuration, device)\u001b[0m\n\u001b[0;32m     81\u001b[0m \u001b[38;5;66;03m# get the important results\u001b[39;00m\n\u001b[0;32m     82\u001b[0m \u001b[38;5;28mprint\u001b[39m(\u001b[38;5;124m'\u001b[39m\u001b[38;5;124mrunning sample \u001b[39m\u001b[38;5;124m'\u001b[39m,sample_index)\n\u001b[1;32m---> 83\u001b[0m approximation_ratio,standard_gain_difference, ising_cost_difference,opt_standard_solution, final_standard_solution,qaoa_result \u001b[38;5;241m=\u001b[39m \u001b[38;5;28;43mself\u001b[39;49m\u001b[38;5;241;43m.\u001b[39;49m\u001b[43m__run_workflow\u001b[49m\u001b[43m(\u001b[49m\n\u001b[0;32m     84\u001b[0m \u001b[43m    \u001b[49m\u001b[43mjrp\u001b[49m\u001b[43m,\u001b[49m\u001b[43mcircuit_configuration\u001b[49m\u001b[43m,\u001b[49m\n\u001b[0;32m     85\u001b[0m \u001b[43m    \u001b[49m\u001b[43moptimizer_configuration\u001b[49m\u001b[43m,\u001b[49m\n\u001b[0;32m     86\u001b[0m \u001b[43m    \u001b[49m\u001b[43moptimization_backend_configuration\u001b[49m\u001b[43m,\u001b[49m\n\u001b[0;32m     87\u001b[0m \u001b[43m    \u001b[49m\u001b[43mevaluation_backend_configuration\u001b[49m\u001b[43m,\u001b[49m\n\u001b[0;32m     88\u001b[0m \u001b[43m    \u001b[49m\u001b[43mdevice\u001b[49m\n\u001b[0;32m     89\u001b[0m \u001b[43m\u001b[49m\u001b[43m)\u001b[49m\n\u001b[0;32m     91\u001b[0m \u001b[38;5;66;03m# creates the sample dats structure and saves it\u001b[39;00m\n\u001b[0;32m     92\u001b[0m sample \u001b[38;5;241m=\u001b[39m {\n\u001b[0;32m     93\u001b[0m     \u001b[38;5;124m'\u001b[39m\u001b[38;5;124minstance\u001b[39m\u001b[38;5;124m'\u001b[39m: jrp_instance_dict,\n\u001b[0;32m     94\u001b[0m     \u001b[38;5;124m'\u001b[39m\u001b[38;5;124mapproximation_ratio\u001b[39m\u001b[38;5;124m'\u001b[39m:approximation_ratio,\n\u001b[1;32m   (...)\u001b[0m\n\u001b[0;32m     99\u001b[0m     \u001b[38;5;124m'\u001b[39m\u001b[38;5;124mresult\u001b[39m\u001b[38;5;124m'\u001b[39m:qaoa_result\u001b[38;5;241m.\u001b[39masdict()\n\u001b[0;32m    100\u001b[0m }\n",
      "File \u001b[1;32m~\\Desktop\\Facultad\\Facultad\\Tesis\\Tesis\\functions\\TestQAOASolver.py:164\u001b[0m, in \u001b[0;36mTestQAOASolver.__run_workflow\u001b[1;34m(self, jrp, circuit_configuration, optimizer_configuration, optimization_backend_configuration, evaluation_backend_configuration, device)\u001b[0m\n\u001b[0;32m    161\u001b[0m opt_standard_solution,opt_standard_gain \u001b[38;5;241m=\u001b[39m jrp\u001b[38;5;241m.\u001b[39msolve_standard_with_bruteforce(debug_every\u001b[38;5;241m=\u001b[39m\u001b[38;5;241m100000\u001b[39m)\n\u001b[0;32m    163\u001b[0m \u001b[38;5;66;03m# final configuration - after QAOA optimization\u001b[39;00m\n\u001b[1;32m--> 164\u001b[0m final_standard_solution,final_standard_gain,initial_ising_cost,final_ising_cost,qaoa_result \u001b[38;5;241m=\u001b[39m \u001b[38;5;28;43mself\u001b[39;49m\u001b[38;5;241;43m.\u001b[39;49m\u001b[43m__run_qaoa_workflow\u001b[49m\u001b[43m(\u001b[49m\n\u001b[0;32m    165\u001b[0m \u001b[43m    \u001b[49m\u001b[43mjrp\u001b[49m\u001b[43m,\u001b[49m\n\u001b[0;32m    166\u001b[0m \u001b[43m    \u001b[49m\u001b[43mcircuit_configuration\u001b[49m\u001b[43m,\u001b[49m\n\u001b[0;32m    167\u001b[0m \u001b[43m\u001b[49m\u001b[43moptimizer_configuration\u001b[49m\u001b[43m,\u001b[49m\u001b[43m \u001b[49m\n\u001b[0;32m    168\u001b[0m \u001b[43m\u001b[49m\u001b[43moptimization_backend_configuration\u001b[49m\u001b[43m,\u001b[49m\n\u001b[0;32m    169\u001b[0m \u001b[43m\u001b[49m\u001b[43mevaluation_backend_configuration\u001b[49m\u001b[43m,\u001b[49m\u001b[43mdevice\u001b[49m\n\u001b[0;32m    170\u001b[0m \u001b[43m\u001b[49m\u001b[43m)\u001b[49m\n\u001b[0;32m    172\u001b[0m \u001b[38;5;28;01mif\u001b[39;00m opt_standard_gain \u001b[38;5;241m==\u001b[39m \u001b[38;5;241m0\u001b[39m:\n\u001b[0;32m    173\u001b[0m     approximation_ratio \u001b[38;5;241m=\u001b[39m \u001b[38;5;28;01mNone\u001b[39;00m\n",
      "File \u001b[1;32m~\\Desktop\\Facultad\\Facultad\\Tesis\\Tesis\\functions\\TestQAOASolver.py:243\u001b[0m, in \u001b[0;36mTestQAOASolver.__run_qaoa_workflow\u001b[1;34m(self, jrp, circuit_configuration, optimizer_configuration, optimization_backend_configuration, evaluation_backend_configuration, device)\u001b[0m\n\u001b[0;32m    240\u001b[0m qaoa\u001b[38;5;241m.\u001b[39mcompile(jrp_ising)\n\u001b[0;32m    242\u001b[0m \u001b[38;5;66;03m# get the initial ising cost, using the initial variational parameters\u001b[39;00m\n\u001b[1;32m--> 243\u001b[0m initial_ising_cost \u001b[38;5;241m=\u001b[39m \u001b[43mqaoa\u001b[49m\u001b[38;5;241;43m.\u001b[39;49m\u001b[43mevaluate_circuit\u001b[49m\u001b[43m(\u001b[49m\u001b[43mqaoa\u001b[49m\u001b[38;5;241;43m.\u001b[39;49m\u001b[43mvariate_params\u001b[49m\u001b[38;5;241;43m.\u001b[39;49m\u001b[43masdict\u001b[49m\u001b[43m(\u001b[49m\u001b[43m)\u001b[49m\u001b[43m)\u001b[49m[\u001b[38;5;124m'\u001b[39m\u001b[38;5;124mcost\u001b[39m\u001b[38;5;124m'\u001b[39m]\n\u001b[0;32m    245\u001b[0m \u001b[38;5;66;03m# do the QAOA optimization\u001b[39;00m\n\u001b[0;32m    246\u001b[0m qaoa\u001b[38;5;241m.\u001b[39moptimize()\n",
      "File \u001b[1;32m~\\anaconda3\\envs\\Quantum\\lib\\site-packages\\openqaoa\\algorithms\\qaoa\\qaoa_workflow.py:480\u001b[0m, in \u001b[0;36mQAOA.evaluate_circuit\u001b[1;34m(self, params)\u001b[0m\n\u001b[0;32m    471\u001b[0m     output_dict\u001b[38;5;241m.\u001b[39mupdate(\n\u001b[0;32m    472\u001b[0m         {\n\u001b[0;32m    473\u001b[0m             \u001b[38;5;124m\"\u001b[39m\u001b[38;5;124mcost\u001b[39m\u001b[38;5;124m\"\u001b[39m: cost,\n\u001b[0;32m    474\u001b[0m             \u001b[38;5;124m\"\u001b[39m\u001b[38;5;124mmeasurement_results\u001b[39m\u001b[38;5;124m\"\u001b[39m: measurement_results,\n\u001b[0;32m    475\u001b[0m         }\n\u001b[0;32m    476\u001b[0m     )\n\u001b[0;32m    477\u001b[0m     \u001b[38;5;66;03m# in all other cases, we return the expectation value of the cost Hamiltonian,\u001b[39;00m\n\u001b[0;32m    478\u001b[0m     \u001b[38;5;66;03m# the associated uncertainty and the measurement outcomes\u001b[39;00m\n\u001b[0;32m    479\u001b[0m \u001b[38;5;28;01melse\u001b[39;00m:\n\u001b[1;32m--> 480\u001b[0m     cost, uncertainty \u001b[38;5;241m=\u001b[39m \u001b[38;5;28;43mself\u001b[39;49m\u001b[38;5;241;43m.\u001b[39;49m\u001b[43mbackend\u001b[49m\u001b[38;5;241;43m.\u001b[39;49m\u001b[43mexpectation_w_uncertainty\u001b[49m\u001b[43m(\u001b[49m\u001b[43mparams_obj\u001b[49m\u001b[43m)\u001b[49m\n\u001b[0;32m    481\u001b[0m     measurement_results \u001b[38;5;241m=\u001b[39m (\n\u001b[0;32m    482\u001b[0m         \u001b[38;5;28mself\u001b[39m\u001b[38;5;241m.\u001b[39mbackend\u001b[38;5;241m.\u001b[39mmeasurement_outcomes\n\u001b[0;32m    483\u001b[0m         \u001b[38;5;28;01mif\u001b[39;00m \u001b[38;5;28misinstance\u001b[39m(\u001b[38;5;28mself\u001b[39m\u001b[38;5;241m.\u001b[39mbackend\u001b[38;5;241m.\u001b[39mmeasurement_outcomes, \u001b[38;5;28mdict\u001b[39m)\n\u001b[0;32m    484\u001b[0m         \u001b[38;5;28;01melse\u001b[39;00m \u001b[38;5;28mself\u001b[39m\u001b[38;5;241m.\u001b[39mbackend\u001b[38;5;241m.\u001b[39mmeasurement_outcomes\u001b[38;5;241m.\u001b[39mtolist()\n\u001b[0;32m    485\u001b[0m     )\n\u001b[0;32m    486\u001b[0m     output_dict\u001b[38;5;241m.\u001b[39mupdate(\n\u001b[0;32m    487\u001b[0m         {\n\u001b[0;32m    488\u001b[0m             \u001b[38;5;124m\"\u001b[39m\u001b[38;5;124mcost\u001b[39m\u001b[38;5;124m\"\u001b[39m: cost,\n\u001b[1;32m   (...)\u001b[0m\n\u001b[0;32m    491\u001b[0m         }\n\u001b[0;32m    492\u001b[0m     )\n",
      "File \u001b[1;32m~\\anaconda3\\envs\\Quantum\\lib\\site-packages\\openqaoa\\utilities.py:252\u001b[0m, in \u001b[0;36mround_value.<locals>.wrapper\u001b[1;34m(*args, **kwargs)\u001b[0m\n\u001b[0;32m    251\u001b[0m \u001b[38;5;28;01mdef\u001b[39;00m \u001b[38;5;21mwrapper\u001b[39m(\u001b[38;5;241m*\u001b[39margs, \u001b[38;5;241m*\u001b[39m\u001b[38;5;241m*\u001b[39mkwargs):\n\u001b[1;32m--> 252\u001b[0m     values \u001b[38;5;241m=\u001b[39m function(\u001b[38;5;241m*\u001b[39margs, \u001b[38;5;241m*\u001b[39m\u001b[38;5;241m*\u001b[39mkwargs)\n\u001b[0;32m    253\u001b[0m     \u001b[38;5;28;01mif\u001b[39;00m \u001b[38;5;28misinstance\u001b[39m(values, \u001b[38;5;28mdict\u001b[39m):\n\u001b[0;32m    254\u001b[0m         \u001b[38;5;28;01mreturn\u001b[39;00m {k: \u001b[38;5;28mround\u001b[39m(v, PRECISION) \u001b[38;5;28;01mfor\u001b[39;00m k, v \u001b[38;5;129;01min\u001b[39;00m values\u001b[38;5;241m.\u001b[39mitems()}\n",
      "File \u001b[1;32m~\\anaconda3\\envs\\Quantum\\lib\\site-packages\\openqaoa\\backends\\basebackend.py:309\u001b[0m, in \u001b[0;36mQAOABaseBackend.expectation_w_uncertainty\u001b[1;34m(self, params, n_shots)\u001b[0m\n\u001b[0;32m    288\u001b[0m \u001b[38;5;129m@round_value\u001b[39m\n\u001b[0;32m    289\u001b[0m \u001b[38;5;28;01mdef\u001b[39;00m \u001b[38;5;21mexpectation_w_uncertainty\u001b[39m(\n\u001b[0;32m    290\u001b[0m     \u001b[38;5;28mself\u001b[39m, params: QAOAVariationalBaseParams, n_shots\u001b[38;5;241m=\u001b[39m\u001b[38;5;28;01mNone\u001b[39;00m\n\u001b[0;32m    291\u001b[0m ) \u001b[38;5;241m-\u001b[39m\u001b[38;5;241m>\u001b[39m Tuple[\u001b[38;5;28mfloat\u001b[39m, \u001b[38;5;28mfloat\u001b[39m]:\n\u001b[0;32m    292\u001b[0m \u001b[38;5;250m    \u001b[39m\u001b[38;5;124;03m\"\"\"\u001b[39;00m\n\u001b[0;32m    293\u001b[0m \u001b[38;5;124;03m    Compute the expectation value w.r.t the Cost Hamiltonian and its uncertainty\u001b[39;00m\n\u001b[0;32m    294\u001b[0m \n\u001b[1;32m   (...)\u001b[0m\n\u001b[0;32m    307\u001b[0m \u001b[38;5;124;03m        to quantum state produced by QAOA circuit.\u001b[39;00m\n\u001b[0;32m    308\u001b[0m \u001b[38;5;124;03m    \"\"\"\u001b[39;00m\n\u001b[1;32m--> 309\u001b[0m     counts \u001b[38;5;241m=\u001b[39m \u001b[38;5;28;43mself\u001b[39;49m\u001b[38;5;241;43m.\u001b[39;49m\u001b[43mget_counts\u001b[49m\u001b[43m(\u001b[49m\u001b[43mparams\u001b[49m\u001b[43m,\u001b[49m\u001b[43m \u001b[49m\u001b[43mn_shots\u001b[49m\u001b[43m)\u001b[49m\n\u001b[0;32m    310\u001b[0m     cost \u001b[38;5;241m=\u001b[39m cost_function(\n\u001b[0;32m    311\u001b[0m         counts, \u001b[38;5;28mself\u001b[39m\u001b[38;5;241m.\u001b[39mqaoa_descriptor\u001b[38;5;241m.\u001b[39mcost_hamiltonian, \u001b[38;5;28mself\u001b[39m\u001b[38;5;241m.\u001b[39mcvar_alpha\n\u001b[0;32m    312\u001b[0m     )\n\u001b[0;32m    313\u001b[0m     cost_sq \u001b[38;5;241m=\u001b[39m cost_function(\n\u001b[0;32m    314\u001b[0m         counts,\n\u001b[0;32m    315\u001b[0m         \u001b[38;5;28mself\u001b[39m\u001b[38;5;241m.\u001b[39mqaoa_descriptor\u001b[38;5;241m.\u001b[39mcost_hamiltonian\u001b[38;5;241m.\u001b[39mhamiltonian_squared,\n\u001b[0;32m    316\u001b[0m         \u001b[38;5;28mself\u001b[39m\u001b[38;5;241m.\u001b[39mcvar_alpha,\n\u001b[0;32m    317\u001b[0m     )\n",
      "File \u001b[1;32m~\\anaconda3\\envs\\Quantum\\lib\\site-packages\\openqaoa_qiskit\\backends\\qaoa_qiskit_sim.py:212\u001b[0m, in \u001b[0;36mQAOAQiskitBackendShotBasedSimulator.get_counts\u001b[1;34m(self, params, n_shots)\u001b[0m\n\u001b[0;32m    206\u001b[0m n_shots \u001b[38;5;241m=\u001b[39m \u001b[38;5;28mself\u001b[39m\u001b[38;5;241m.\u001b[39mn_shots \u001b[38;5;28;01mif\u001b[39;00m n_shots \u001b[38;5;241m==\u001b[39m \u001b[38;5;28;01mNone\u001b[39;00m \u001b[38;5;28;01melse\u001b[39;00m n_shots\n\u001b[0;32m    208\u001b[0m qaoa_circuit \u001b[38;5;241m=\u001b[39m \u001b[38;5;28mself\u001b[39m\u001b[38;5;241m.\u001b[39mqaoa_circuit(params)\n\u001b[0;32m    209\u001b[0m counts \u001b[38;5;241m=\u001b[39m (\n\u001b[0;32m    210\u001b[0m     \u001b[38;5;28;43mself\u001b[39;49m\u001b[38;5;241;43m.\u001b[39;49m\u001b[43mbackend_simulator\u001b[49m\u001b[38;5;241;43m.\u001b[39;49m\u001b[43mrun\u001b[49m\u001b[43m(\u001b[49m\u001b[43mqaoa_circuit\u001b[49m\u001b[43m,\u001b[49m\u001b[43m \u001b[49m\u001b[43mshots\u001b[49m\u001b[38;5;241;43m=\u001b[39;49m\u001b[43mn_shots\u001b[49m\u001b[43m)\u001b[49m\n\u001b[0;32m    211\u001b[0m \u001b[43m    \u001b[49m\u001b[38;5;241;43m.\u001b[39;49m\u001b[43mresult\u001b[49m\u001b[43m(\u001b[49m\u001b[43m)\u001b[49m\n\u001b[1;32m--> 212\u001b[0m \u001b[43m    \u001b[49m\u001b[38;5;241;43m.\u001b[39;49m\u001b[43mget_counts\u001b[49m\u001b[43m(\u001b[49m\u001b[43m)\u001b[49m\n\u001b[0;32m    213\u001b[0m )\n\u001b[0;32m    215\u001b[0m final_counts \u001b[38;5;241m=\u001b[39m flip_counts(counts)\n\u001b[0;32m    216\u001b[0m \u001b[38;5;28mself\u001b[39m\u001b[38;5;241m.\u001b[39mmeasurement_outcomes \u001b[38;5;241m=\u001b[39m final_counts\n",
      "File \u001b[1;32m~\\anaconda3\\envs\\Quantum\\lib\\site-packages\\qiskit\\result\\result.py:269\u001b[0m, in \u001b[0;36mResult.get_counts\u001b[1;34m(self, experiment)\u001b[0m\n\u001b[0;32m    267\u001b[0m dict_list \u001b[38;5;241m=\u001b[39m []\n\u001b[0;32m    268\u001b[0m \u001b[38;5;28;01mfor\u001b[39;00m key \u001b[38;5;129;01min\u001b[39;00m exp_keys:\n\u001b[1;32m--> 269\u001b[0m     exp \u001b[38;5;241m=\u001b[39m \u001b[38;5;28;43mself\u001b[39;49m\u001b[38;5;241;43m.\u001b[39;49m\u001b[43m_get_experiment\u001b[49m\u001b[43m(\u001b[49m\u001b[43mkey\u001b[49m\u001b[43m)\u001b[49m\n\u001b[0;32m    270\u001b[0m     \u001b[38;5;28;01mtry\u001b[39;00m:\n\u001b[0;32m    271\u001b[0m         header \u001b[38;5;241m=\u001b[39m exp\u001b[38;5;241m.\u001b[39mheader\u001b[38;5;241m.\u001b[39mto_dict()\n",
      "File \u001b[1;32m~\\anaconda3\\envs\\Quantum\\lib\\site-packages\\qiskit\\result\\result.py:397\u001b[0m, in \u001b[0;36mResult._get_experiment\u001b[1;34m(self, key)\u001b[0m\n\u001b[0;32m    395\u001b[0m result_status \u001b[38;5;241m=\u001b[39m \u001b[38;5;28mgetattr\u001b[39m(\u001b[38;5;28mself\u001b[39m, \u001b[38;5;124m\"\u001b[39m\u001b[38;5;124mstatus\u001b[39m\u001b[38;5;124m\"\u001b[39m, \u001b[38;5;124m\"\u001b[39m\u001b[38;5;124mResult was not successful\u001b[39m\u001b[38;5;124m\"\u001b[39m)\n\u001b[0;32m    396\u001b[0m exp_status \u001b[38;5;241m=\u001b[39m \u001b[38;5;28mgetattr\u001b[39m(exp, \u001b[38;5;124m\"\u001b[39m\u001b[38;5;124mstatus\u001b[39m\u001b[38;5;124m\"\u001b[39m, \u001b[38;5;124m\"\u001b[39m\u001b[38;5;124mExperiment was not successful\u001b[39m\u001b[38;5;124m\"\u001b[39m)\n\u001b[1;32m--> 397\u001b[0m \u001b[38;5;28;01mraise\u001b[39;00m QiskitError(result_status, \u001b[38;5;124m\"\u001b[39m\u001b[38;5;124m, \u001b[39m\u001b[38;5;124m\"\u001b[39m, exp_status)\n",
      "\u001b[1;31mQiskitError\u001b[0m: 'ERROR:  [Experiment 0] Insufficient memory to run circuit circuit-167 using the matrix_product_state simulator. Required memory: 983047M, max memory: 16071M ,  ERROR: Insufficient memory to run circuit circuit-167 using the matrix_product_state simulator. Required memory: 983047M, max memory: 16071M'"
     ]
    }
   ],
   "source": [
    "n_samples = 5\n",
    "solver = TestQAOASolver()\n",
    "\n",
    "for itr,conf in enumerate(jrp_init_configurations):\n",
    "    print('CONFIGURATION ',itr)\n",
    "    solver.sample_workflows(\n",
    "        str(itr),\n",
    "        n_samples,\n",
    "        conf,\n",
    "        circuit_configuration,\n",
    "        optimizer_configuration,\n",
    "        optimization_backend_configuration,\n",
    "        evaluation_backend_configuration\n",
    "    )\n",
    "    clear_output(wait=True)"
   ]
  }
 ],
 "metadata": {
  "kernelspec": {
   "display_name": "Python 3 (ipykernel)",
   "language": "python",
   "name": "python3"
  },
  "language_info": {
   "codemirror_mode": {
    "name": "ipython",
    "version": 3
   },
   "file_extension": ".py",
   "mimetype": "text/x-python",
   "name": "python",
   "nbconvert_exporter": "python",
   "pygments_lexer": "ipython3",
   "version": "3.10.13"
  }
 },
 "nbformat": 4,
 "nbformat_minor": 5
}
