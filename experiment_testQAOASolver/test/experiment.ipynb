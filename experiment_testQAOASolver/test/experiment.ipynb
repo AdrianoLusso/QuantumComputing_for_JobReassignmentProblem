{
 "cells": [
  {
   "cell_type": "markdown",
   "id": "8835e88e-578c-4d4e-83ed-a2ef46a67a7e",
   "metadata": {},
   "source": [
    "# Test experiment"
   ]
  },
  {
   "cell_type": "markdown",
   "id": "c1386a02-2e0b-47cd-903a-3495ba41f5bc",
   "metadata": {},
   "source": [
    "The goal is to analyze the complete workflow and the outputs it has, so as to detect possible errors or mistake before running it with bigger and more complex instances."
   ]
  },
  {
   "cell_type": "markdown",
   "id": "5fbe8ea1-f1b1-4cd5-81bf-06b7fb3bb7ae",
   "metadata": {},
   "source": [
    "### Imports"
   ]
  },
  {
   "cell_type": "code",
   "execution_count": 6,
   "id": "39dafbf2-b02d-43ae-8b89-ad8f1b6881ce",
   "metadata": {},
   "outputs": [],
   "source": [
    "import sys\n",
    "import os\n",
    "from IPython.display import clear_output\n",
    "\n",
    "sys.path.append(os.path.abspath(os.path.join('../..', 'functions')))\n",
    "from TestQAOASolver import TestQAOASolver"
   ]
  },
  {
   "cell_type": "markdown",
   "id": "79974e9f-3b48-4e15-97da-cf575f43c3b1",
   "metadata": {},
   "source": [
    "### Define configurations"
   ]
  },
  {
   "cell_type": "code",
   "execution_count": 11,
   "id": "8cb4e26b-7ea5-4cc4-8f23-b037edee9113",
   "metadata": {},
   "outputs": [],
   "source": [
    "# all the JRP initialization configurations for the JRPRandomGenerator\n",
    "jrp_init_configurations = [\n",
    "    {'num_agents':3 , 'num_vacnJobs':3 , 'control_restrictions':False},\n",
    "    {'num_agents':5 , 'num_vacnJobs':2 , 'control_restrictions':False},\n",
    "    {'num_agents':2 , 'num_vacnJobs':5 , 'control_restrictions':False},\n",
    "    {'num_agents':3,'num_vacnJobs':4,'control_restrictions':False},\n",
    "    {'num_agents':4,'num_vacnJobs':3,'control_restrictions':False}\n",
    "]\n",
    "\n",
    "circuit_configuration ={\n",
    "    'p': 3,\n",
    "    'param_type':'standard',\n",
    "    'init_type':'ramp',\n",
    "    'mixer_hamiltonian':'x'\n",
    "    }\n",
    "\n",
    "optimizer_configuration={\n",
    "    'method' : 'Powell',\n",
    "    'maxfev':50,\n",
    "    'tol':0.01,\n",
    "    'optimization_progress':True,\n",
    "    'cost_progress':True,\n",
    "    'parameter_log':True\n",
    "    }\n",
    "\n",
    "n_shots_for_optimization = 10000\n",
    "n_shots_for_validation = 20"
   ]
  },
  {
   "cell_type": "markdown",
   "id": "787fa767-cf1f-4d49-be96-d5b62363beb4",
   "metadata": {},
   "source": [
    "### Sampling "
   ]
  },
  {
   "cell_type": "code",
   "execution_count": 12,
   "id": "60668439-dd23-4cc0-ad2a-a86da162d51d",
   "metadata": {},
   "outputs": [
    {
     "name": "stdout",
     "output_type": "stream",
     "text": [
      "CONFIGURATION  4\n",
      "running sample  0\n",
      "running sample  1\n",
      "running sample  2\n",
      "running sample  3\n",
      "running sample  4\n"
     ]
    }
   ],
   "source": [
    "n_samples = 5\n",
    "solver = TestQAOASolver()\n",
    "\n",
    "for itr,conf in enumerate(jrp_init_configurations):\n",
    "    print('CONFIGURATION ',itr)\n",
    "    solver.sample_workflows(\n",
    "        str(itr),\n",
    "        n_samples,\n",
    "        conf,\n",
    "        circuit_configuration,\n",
    "        optimizer_configuration,\n",
    "        n_shots_for_optimization,\n",
    "        n_shots_for_validation\n",
    "    )\n",
    "    #sample_workflows(conf,str(itr),sample_size)\n",
    "    clear_output(wait=True)"
   ]
  }
 ],
 "metadata": {
  "kernelspec": {
   "display_name": "Python 3 (ipykernel)",
   "language": "python",
   "name": "python3"
  },
  "language_info": {
   "codemirror_mode": {
    "name": "ipython",
    "version": 3
   },
   "file_extension": ".py",
   "mimetype": "text/x-python",
   "name": "python",
   "nbconvert_exporter": "python",
   "pygments_lexer": "ipython3",
   "version": "3.10.13"
  }
 },
 "nbformat": 4,
 "nbformat_minor": 5
}
