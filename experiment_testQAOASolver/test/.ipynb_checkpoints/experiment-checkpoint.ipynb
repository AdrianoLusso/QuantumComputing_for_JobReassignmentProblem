{
 "cells": [
  {
   "cell_type": "markdown",
   "id": "8835e88e-578c-4d4e-83ed-a2ef46a67a7e",
   "metadata": {},
   "source": [
    "# Test experiment"
   ]
  },
  {
   "cell_type": "markdown",
   "id": "c1386a02-2e0b-47cd-903a-3495ba41f5bc",
   "metadata": {},
   "source": [
    "The goal is to analyze the complete workflow and the outputs it has, so as to detect possible errors or mistake before running it with bigger and more complex instances."
   ]
  },
  {
   "cell_type": "markdown",
   "id": "5fbe8ea1-f1b1-4cd5-81bf-06b7fb3bb7ae",
   "metadata": {},
   "source": [
    "### Imports"
   ]
  },
  {
   "cell_type": "code",
   "execution_count": 1,
   "id": "39dafbf2-b02d-43ae-8b89-ad8f1b6881ce",
   "metadata": {},
   "outputs": [],
   "source": [
    "import sys\n",
    "import os\n",
    "from IPython.display import clear_output\n",
    "\n",
    "sys.path.append(os.path.abspath(os.path.join('../..', 'functions')))\n",
    "from TestQAOASolver import TestQAOASolver"
   ]
  },
  {
   "cell_type": "markdown",
   "id": "79974e9f-3b48-4e15-97da-cf575f43c3b1",
   "metadata": {},
   "source": [
    "### Define configurations"
   ]
  },
  {
   "cell_type": "code",
   "execution_count": 3,
   "id": "8cb4e26b-7ea5-4cc4-8f23-b037edee9113",
   "metadata": {},
   "outputs": [],
   "source": [
    "# all the JRP initialization configurations for the JRPRandomGenerator\n",
    "jrp_init_configurations = [\n",
    "    {'num_agents':3 , 'num_vacnJobs':3 , 'control_restrictions':False},\n",
    "    {'num_agents':5 , 'num_vacnJobs':2 , 'control_restrictions':False},\n",
    "    {'num_agents':2 , 'num_vacnJobs':5 , 'control_restrictions':False},\n",
    "    {'num_agents':3,'num_vacnJobs':4,'control_restrictions':False},\n",
    "    {'num_agents':4,'num_vacnJobs':3,'control_restrictions':False}\n",
    "]"
   ]
  },
  {
   "cell_type": "code",
   "execution_count": 4,
   "id": "7c153db6-b3ae-43b4-81f2-9f283d0b2735",
   "metadata": {},
   "outputs": [],
   "source": [
    "circuit_configuration ={\n",
    "    'p': 3,\n",
    "    'param_type':'standard',\n",
    "    'init_type':'ramp',\n",
    "    'mixer_hamiltonian':'x'\n",
    "    }"
   ]
  },
  {
   "cell_type": "code",
   "execution_count": 6,
   "id": "7677c598-5f63-4933-bd2f-bc5c11c303a1",
   "metadata": {},
   "outputs": [],
   "source": [
    "optimization_backend_configuration ={\n",
    "    'n_shots':10000,\n",
    "    'qiskit_simulation_method':'matrix_product_state'\n",
    "    }\n",
    "\n",
    "evaluation_backend_configuration ={\n",
    "    'n_shots':20,\n",
    "    'qiskit_simulation_method':'matrix_product_state'\n",
    "    }"
   ]
  },
  {
   "cell_type": "code",
   "execution_count": 5,
   "id": "8000ec30-0bb8-42c9-9cc3-e765054f2e8f",
   "metadata": {},
   "outputs": [],
   "source": [
    "optimizer_configuration={\n",
    "    'method' : 'Powell',\n",
    "    'maxfev':50,\n",
    "    'tol':0.01,\n",
    "    'optimization_progress':True,\n",
    "    'cost_progress':True,\n",
    "    'parameter_log':True\n",
    "    }"
   ]
  },
  {
   "cell_type": "markdown",
   "id": "787fa767-cf1f-4d49-be96-d5b62363beb4",
   "metadata": {},
   "source": [
    "### Sampling "
   ]
  },
  {
   "cell_type": "code",
   "execution_count": 7,
   "id": "60668439-dd23-4cc0-ad2a-a86da162d51d",
   "metadata": {},
   "outputs": [
    {
     "name": "stdout",
     "output_type": "stream",
     "text": [
      "CONFIGURATION  0\n",
      "running sample  0\n"
     ]
    },
    {
     "name": "stderr",
     "output_type": "stream",
     "text": [
      "\n",
      "KeyboardInterrupt\n",
      "\n"
     ]
    }
   ],
   "source": [
    "n_samples = 5\n",
    "solver = TestQAOASolver()\n",
    "\n",
    "for itr,conf in enumerate(jrp_init_configurations):\n",
    "    print('CONFIGURATION ',itr)\n",
    "    solver.sample_workflows(\n",
    "        str(itr),\n",
    "        n_samples,\n",
    "        conf,\n",
    "        circuit_configuration,\n",
    "        optimizer_configuration,\n",
    "        optimization_backend_configuration,\n",
    "        evaluation_backend_configuration\n",
    "    )\n",
    "    clear_output(wait=True)"
   ]
  }
 ],
 "metadata": {
  "kernelspec": {
   "display_name": "Python 3 (ipykernel)",
   "language": "python",
   "name": "python3"
  },
  "language_info": {
   "codemirror_mode": {
    "name": "ipython",
    "version": 3
   },
   "file_extension": ".py",
   "mimetype": "text/x-python",
   "name": "python",
   "nbconvert_exporter": "python",
   "pygments_lexer": "ipython3",
   "version": "3.10.13"
  }
 },
 "nbformat": 4,
 "nbformat_minor": 5
}
