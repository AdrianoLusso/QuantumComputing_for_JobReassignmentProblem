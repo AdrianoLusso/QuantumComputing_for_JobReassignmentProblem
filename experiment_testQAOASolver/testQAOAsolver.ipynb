{
 "cells": [
  {
   "cell_type": "markdown",
   "id": "f6417eb7-6993-48e1-aff5-a9dd1ea274f4",
   "metadata": {},
   "source": [
    "# testQAOASolver"
   ]
  },
  {
   "cell_type": "markdown",
   "id": "c50d50e5-f5c0-433b-9f31-d34e74f591f8",
   "metadata": {},
   "source": [
    "## Imports"
   ]
  },
  {
   "cell_type": "code",
   "execution_count": 1,
   "id": "fbcc402e-0f26-4b18-bcf8-8d4626c2f908",
   "metadata": {},
   "outputs": [],
   "source": [
    "from openqaoa import QAOA\n",
    "from openqaoa import QUBO\n",
    "from openqaoa.algorithms import QAOAResult\n",
    "from openqaoa.backends import create_device\n",
    "\n",
    "import sys\n",
    "import os\n",
    "import asyncio\n",
    "import json\n",
    "from IPython.display import clear_output\n",
    "\n",
    "\n",
    "sys.path.append(os.path.abspath(os.path.join('..', 'functions')))\n",
    "from JRPClassic import JRPClassic\n",
    "from JRPRandomGenerator import JRPRandomGenerator"
   ]
  },
  {
   "cell_type": "markdown",
   "id": "c1719c66-1747-4d8a-abea-93a23e8bdb05",
   "metadata": {},
   "source": [
    "## Configurations"
   ]
  },
  {
   "cell_type": "code",
   "execution_count": 2,
   "id": "aca16d71-c5fc-4b52-9f8d-59577dc5c450",
   "metadata": {},
   "outputs": [],
   "source": [
    "jrp_init_configurations = [\n",
    "    {'num_agents':2 , 'num_vacnJobs':3 , 'control_restrictions':False},\n",
    "    {'num_agents':4 , 'num_vacnJobs':2 , 'control_restrictions':False},\n",
    "    {'num_agents':3,'num_vacnJobs':3,'control_restrictions':False}\n",
    "]"
   ]
  },
  {
   "cell_type": "markdown",
   "id": "e863434c-9cca-4703-82cb-c89ff6dab975",
   "metadata": {},
   "source": [
    "## Functions"
   ]
  },
  {
   "cell_type": "code",
   "execution_count": 3,
   "id": "d0f54400-c98a-436b-a22a-805449df3183",
   "metadata": {},
   "outputs": [],
   "source": [
    "def run_qaoa_workflow(jrp):\n",
    "    '''\n",
    "    This function runs the QAOA workflow for a particular JRP instance\n",
    "\n",
    "    Parameters:\n",
    "        -jrp\n",
    "            a JRP object\n",
    "\n",
    "    Return:\n",
    "    \n",
    "    -final_standard_solution\n",
    "        the solution found after QAOA optimization for a standard form of JRP\n",
    "    -final_standard_gain\n",
    "        the gain of the standard solution found after QAOA optimization\n",
    "    -initial_ising_cost\n",
    "        the expected value/cost when evaluating the problem hamiltonian with the initial variational params.\n",
    "    -final_ising_cost\n",
    "        the expected value/cost when evaluating the problem hamiltonian with the optimized variational params.\n",
    "    -qaoa_result\n",
    "        the QAOAResult object, from OpenQAOA\n",
    "        \n",
    "    '''\n",
    "    # QAOA parameters\n",
    "    device = create_device(location='local', name='qiskit.shot_simulator')  \n",
    "    circuit_params ={\n",
    "    # TODO p que sea variable, que pueda controlar su valor. Lo mejor seria con todos los parametros hacerlo\n",
    "    'p': 3,\n",
    "    'param_type':'standard',\n",
    "    'init_type':'ramp',\n",
    "    'mixer_hamiltonian':'x'\n",
    "    }\n",
    "    optimizator_params={\n",
    "    'method' : 'Powell',\n",
    "    'maxfev':100,\n",
    "    'tol':0.001,\n",
    "    'optimization_progress':True,\n",
    "    'cost_progress':True,\n",
    "    'parameter_log':True\n",
    "    }\n",
    "    \n",
    "    # create the QUBO in openqaoa\n",
    "    jrp.to_qubo()\n",
    "    terms,weights = jrp.to_openqaoa_format()\n",
    "    terms,weights = QUBO.convert_qubo_to_ising(len(jrp.instance_dict['allBinaryVariables']), terms, weights)\n",
    "    jrp_ising = QUBO(n=len(jrp.instance_dict['allBinaryVariables']),terms=terms,weights=weights)\n",
    "    \n",
    "    # create QAOA solver and configurations\n",
    "    qaoa = QAOA()\n",
    "    #device = create_device(location='local', name='qiskit.shot_simulator')\n",
    "    qaoa.set_device(device)\n",
    "    qaoa.set_circuit_properties(**circuit_params)\n",
    "    qaoa.set_backend_properties(n_shots=10000)\n",
    "    qaoa.set_classical_optimizer(**optimizator_params)\n",
    "    \n",
    "    #compile\n",
    "    qaoa.compile(jrp_ising)\n",
    "\n",
    "    # get the initial ising cost, using the initial variational parameters\n",
    "    initial_ising_cost = qaoa.evaluate_circuit(qaoa.variate_params.asdict())['cost']\n",
    "\n",
    "    # do the QAOA optimization\n",
    "    qaoa.optimize()\n",
    "    qaoa_result = qaoa.result\n",
    "    \n",
    "    # get the final ising cost, using the optimized variational parameters\n",
    "    final_ising_cost = qaoa_result.optimized['cost']\n",
    "\n",
    "    # create a new QAOA for sampling bitstrings using the optimized variational parameters\n",
    "    qaoa = QAOA()\n",
    "    qaoa.set_device(device)\n",
    "    qaoa.set_circuit_properties(**circuit_params)\n",
    "    qaoa.set_backend_properties(n_shots=20)\n",
    "    qaoa.compile(jrp_ising)\n",
    "    preliminary_qubo_solutions = qaoa.evaluate_circuit(qaoa_result.optimized['angles'])['measurement_results']\n",
    "\n",
    "    # only takes the feasible solutions\n",
    "    final_qubo_solutions = []\n",
    "    for solution in preliminary_qubo_solutions.keys():\n",
    "        if jrp.is_qubo_feasible(solution):\n",
    "            final_qubo_solutions.append(solution)\n",
    "    #print(final_qubo_solutions)\n",
    "\n",
    "    # translate the solutions from QUBO format to standard format and calculate its gain.\n",
    "    # store the pair (standardSolution,gain) with the maximal gain\n",
    "    final_standard_gain = float('-inf')\n",
    "    final_standard_solution = [-2 for i in range(jrp.instance_dict['num_agents'])]\n",
    "    for qubo_solution in final_qubo_solutions:\n",
    "        standard_solution = jrp.quboSolution_to_standardSolution(qubo_solution)\n",
    "        standard_gain = jrp.calculate_standard_gain(standard_solution)\n",
    "        \n",
    "        if final_standard_gain < standard_gain:\n",
    "            final_standard_solution = standard_solution\n",
    "            final_standard_gain = standard_gain\n",
    "    \n",
    "    return final_standard_solution,final_standard_gain,initial_ising_cost,final_ising_cost,qaoa_result"
   ]
  },
  {
   "cell_type": "code",
   "execution_count": 4,
   "id": "ec23290c-dc49-47be-a067-47d03295d52e",
   "metadata": {},
   "outputs": [],
   "source": [
    "def run_workflow(jrp):  \n",
    "    '''\n",
    "    This function runs A 'testQAOAsolver' workflow for a particular JRP instance\n",
    "\n",
    "    Parameters:\n",
    "        -jrp\n",
    "            a JRP object\n",
    "\n",
    "    Return:\n",
    "        -approximation_ratio\n",
    "            a ratio that shows now near is the QAOA-optimized solution to the actual optimal solution\n",
    "        -standard_gain_difference\n",
    "            an absolute difference between the initial standard gain and the final standard gain\n",
    "        -ising_cost_difference\n",
    "            an absolute differente between the initial ising cost and the final ising cost\n",
    "        -opt_standard_solution\n",
    "            - the optimal solution for JRP in standard form\n",
    "        -final_standard_solution\n",
    "            the final solution (QAOA-optimized) solution in standard form\n",
    "        -qaoa_result\n",
    "            a QAOAResult object, from OpenQAOA\n",
    "    '''\n",
    "    # initial configuration\n",
    "    initial_standard_solution = [-1 for i in range(jrp.instance_dict['num_agents'])]\n",
    "    initial_standard_gain = jrp.calculate_standard_gain(initial_standard_solution)\n",
    "\n",
    "    #optimal configuration\n",
    "    opt_standard_solution,opt_standard_gain = jrp.solve_standard_with_bruteforce(debug_every=0)\n",
    "    \n",
    "    # final configuration - after QAOA optimization\n",
    "    final_standard_solution,final_standard_gain,initial_ising_cost,final_ising_cost,qaoa_result = run_qaoa_workflow(jrp)\n",
    "\n",
    "    if opt_standard_gain == 0:\n",
    "        approximation_ratio = None\n",
    "    else:\n",
    "        approximation_ratio = final_standard_gain / opt_standard_gain\n",
    "    standard_gain_difference = final_standard_gain - initial_standard_gain\n",
    "    ising_cost_difference = final_ising_cost - initial_ising_cost\n",
    "    \n",
    "    # TODO convegence curve \n",
    "\n",
    "    return approximation_ratio,standard_gain_difference,ising_cost_difference,opt_standard_solution,final_standard_solution,qaoa_result\n",
    "\n",
    "    \n",
    "#sample_workflows(jrp_init_configurations[1],'0',1)"
   ]
  },
  {
   "cell_type": "code",
   "execution_count": 7,
   "id": "a446d7e6-71b1-42e7-9621-0294661e696c",
   "metadata": {
    "scrolled": true
   },
   "outputs": [],
   "source": [
    "def sample_workflows(jrp_init_configuration,configuration_name,sample_size):\n",
    "    '''\n",
    "    this function do a sample of 'testQAOAsolver' workflows and save them in json files\n",
    "\n",
    "    Parameters:\n",
    "        jrp_init_configuration\n",
    "            a dictionary with the parameters for the JRPRandomGenerator\n",
    "        configuration_name\n",
    "            a string with the name of the configuration, so as to identify the json file\n",
    "        sample_size            \n",
    "    '''\n",
    "    # create the random JRP instances generator\n",
    "    jrp_gen = JRPRandomGenerator(**jrp_init_configuration)\n",
    "\n",
    "    # starts the samplins\n",
    "    samples = {'configuration':jrp_init_configuration}\n",
    "    for sample_index in range(sample_size):\n",
    "        #create a random instance\n",
    "        jrp_instance_dict = jrp_gen.generate_random_instance()\n",
    "        jrp_instance_dict = json.loads(jrp_instance_dict)\n",
    "        #print(jrp_instance_dict)\n",
    "        jrp = JRPClassic(jrp_instance_dict)\n",
    "        \n",
    "        # get the important results\n",
    "        print('running sample ',sample_index)\n",
    "        approximation_ratio,standard_gain_difference, ising_cost_difference,opt_standard_solution, final_standard_solution,qaoa_result = run_workflow(jrp)\n",
    "\n",
    "        # creates the sample dats structure and saves it\n",
    "        sample = {\n",
    "            'instance': jrp_instance_dict,\n",
    "            'approximation_ratio':approximation_ratio,\n",
    "            'standard_gain_difference':standard_gain_difference,\n",
    "            'ising_cost_difference':ising_cost_difference,\n",
    "            'opt_standard_solution':opt_standard_solution,\n",
    "            'final_standard_solution':final_standard_solution,\n",
    "            'result':qaoa_result.asdict()\n",
    "        }\n",
    "        samples[sample_index] = sample\n",
    "        with open('./conf%s.json'%(str(configuration_name)), 'w', encoding='utf-8') as file:\n",
    "            json.dump(samples, file, ensure_ascii=False, indent=4)"
   ]
  },
  {
   "cell_type": "markdown",
   "id": "18d7cf9a-fca8-47a6-a6b9-f1e069af277f",
   "metadata": {},
   "source": [
    "## Experiment"
   ]
  },
  {
   "cell_type": "code",
   "execution_count": 8,
   "id": "8b411818-34fc-4fae-be44-01b49c17a47f",
   "metadata": {},
   "outputs": [
    {
     "name": "stdout",
     "output_type": "stream",
     "text": [
      "CONFIGURATION  0\n",
      "running sample  0\n",
      "running sample  1\n",
      "running sample  2\n"
     ]
    },
    {
     "name": "stderr",
     "output_type": "stream",
     "text": [
      "\n",
      "KeyboardInterrupt\n",
      "\n"
     ]
    }
   ],
   "source": [
    "sample_size = 5\n",
    "for itr,conf in enumerate(jrp_init_configurations):\n",
    "    print('CONFIGURATION ',itr)\n",
    "    sample_workflows(conf,str(itr),sample_size)\n",
    "    clear_output(wait=True)\n"
   ]
  }
 ],
 "metadata": {
  "kernelspec": {
   "display_name": "Python 3 (ipykernel)",
   "language": "python",
   "name": "python3"
  },
  "language_info": {
   "codemirror_mode": {
    "name": "ipython",
    "version": 3
   },
   "file_extension": ".py",
   "mimetype": "text/x-python",
   "name": "python",
   "nbconvert_exporter": "python",
   "pygments_lexer": "ipython3",
   "version": "3.10.13"
  }
 },
 "nbformat": 4,
 "nbformat_minor": 5
}
