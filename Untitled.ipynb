{
 "cells": [
  {
   "cell_type": "code",
   "execution_count": 2,
   "id": "f45ed106-8533-46a7-b929-76c4172948bd",
   "metadata": {},
   "outputs": [],
   "source": [
    "import qokit\n",
    "import numpy as np\n",
    "from itertools import combinations"
   ]
  },
  {
   "cell_type": "code",
   "execution_count": 3,
   "id": "4f273899-58aa-4acf-8678-6c7dfcd4739d",
   "metadata": {},
   "outputs": [],
   "source": [
    "N = 4\n",
    "np.random.seed(10)\n",
    "terms = [(np.random.normal(), spin_pair) for spin_pair in combinations(range(N), r=2)]"
   ]
  },
  {
   "cell_type": "code",
   "execution_count": 17,
   "id": "a080ddd7-12ca-4e43-9bf4-4a3623e76de0",
   "metadata": {},
   "outputs": [],
   "source": [
    "simclass = qokit.fur.choose_simulator(name='python')\n",
    "sim = simclass(N, terms=terms)"
   ]
  },
  {
   "cell_type": "code",
   "execution_count": 18,
   "id": "c68b6b10-68f6-4843-b500-a25266df07e9",
   "metadata": {},
   "outputs": [
    {
     "data": {
      "text/plain": [
       "array([ 0.39433175, -0.60859862, -3.49474551,  0.82867014,  0.42071262,\n",
       "        2.27889815, -3.50190003,  3.68263151,  3.68263151, -3.50190003,\n",
       "        2.27889815,  0.42071262,  0.82867014, -3.49474551, -0.60859862,\n",
       "        0.39433175])"
      ]
     },
     "execution_count": 18,
     "metadata": {},
     "output_type": "execute_result"
    }
   ],
   "source": [
    "sim.get_cost_diagonal()"
   ]
  },
  {
   "cell_type": "code",
   "execution_count": 9,
   "id": "e6a1606d-a68d-40df-a1e7-50128de8a1ea",
   "metadata": {},
   "outputs": [],
   "source": [
    "p = 3\n",
    "gamma, beta = np.random.rand(2, 3)\n",
    "_result = sim.simulate_qaoa(gamma, beta) # Result depends on the type of simulator. "
   ]
  },
  {
   "cell_type": "code",
   "execution_count": 10,
   "id": "b3d3ae90-f507-470d-a608-aa7213c14a87",
   "metadata": {},
   "outputs": [
    {
     "data": {
      "text/plain": [
       "array([ 0.1410053 -0.19494056j,  0.09712859-0.15285527j,\n",
       "       -0.20231295-0.08931501j,  0.11920789-0.24634636j,\n",
       "        0.09109579-0.317481j  ,  0.00373312-0.27168484j,\n",
       "       -0.20394474-0.07861876j, -0.08368407-0.21866785j,\n",
       "       -0.08368407-0.21866785j, -0.20394474-0.07861876j,\n",
       "        0.00373312-0.27168484j,  0.09109579-0.317481j  ,\n",
       "        0.11920789-0.24634636j, -0.20231295-0.08931501j,\n",
       "        0.09712859-0.15285527j,  0.1410053 -0.19494056j])"
      ]
     },
     "execution_count": 10,
     "metadata": {},
     "output_type": "execute_result"
    }
   ],
   "source": [
    "sv = sim.get_statevector(_result)\n",
    "sv"
   ]
  },
  {
   "cell_type": "code",
   "execution_count": 11,
   "id": "08e9b25f-23c3-4732-891f-414714d70ccd",
   "metadata": {},
   "outputs": [
    {
     "data": {
      "text/plain": [
       "1.0000000000000004"
      ]
     },
     "execution_count": 11,
     "metadata": {},
     "output_type": "execute_result"
    }
   ],
   "source": [
    "probs = sim.get_probabilities(_result)\n",
    "probs.sum()"
   ]
  },
  {
   "cell_type": "code",
   "execution_count": 12,
   "id": "36b0a4d0-0aae-4b27-903d-392552185a3b",
   "metadata": {},
   "outputs": [
    {
     "name": "stdout",
     "output_type": "stream",
     "text": [
      "Using numpy\n"
     ]
    }
   ],
   "source": [
    "probs = sim.get_probabilities(_result, preserve_state=False)\n",
    "sv2 = sim.get_statevector(_result)\n",
    "print(\"Using numpy\") if np.allclose(sv, sv2) else print(\"Yohoo, I'm using a memory-economic simulator!\")"
   ]
  },
  {
   "cell_type": "code",
   "execution_count": 13,
   "id": "81d6e459-db36-4bbe-b484-ca2062c12615",
   "metadata": {},
   "outputs": [
    {
     "name": "stdout",
     "output_type": "stream",
     "text": [
      "Expectation of C: 0.2854502770238402\n",
      "1/(Expectation of 1/C):  1.0817130883879527\n"
     ]
    }
   ],
   "source": [
    "e = sim.get_expectation(_result)\n",
    "costs_inv = 1/sim.get_cost_diagonal()\n",
    "e_inv = sim.get_expectation(_result, costs=costs_inv)\n",
    "print(\"Expectation of C:\", e)\n",
    "print(\"1/(Expectation of 1/C): \", 1/e_inv)"
   ]
  },
  {
   "cell_type": "code",
   "execution_count": 14,
   "id": "313f1f70-b7fe-4b74-abb4-cbf43962ace5",
   "metadata": {},
   "outputs": [
    {
     "name": "stdout",
     "output_type": "stream",
     "text": [
      "Ground state overlap: 0.095548732397724\n",
      "Overlap with ground state for absolute cost: 0.1157686339666756\n",
      "Overlap with highest state (inverted costs): 0.10963730467095374\n",
      "Overlap with highest state (negative): 0.10963730467095374\n"
     ]
    }
   ],
   "source": [
    "overlap = sim.get_overlap(_result)\n",
    "print(\"Ground state overlap:\", overlap)\n",
    "# Below we test that for positive-valued cost function, the maximum can be achieved \n",
    "# by either inverting the values, or negating the values.\n",
    "costs_abs = np.abs(sim.get_cost_diagonal())\n",
    "print(\"Overlap with ground state for absolute cost:\", sim.get_overlap(_result, costs=costs_abs))\n",
    "overlap_inv = sim.get_overlap(_result, costs=1/costs_abs)\n",
    "print(\"Overlap with highest state (inverted costs):\", overlap_inv)\n",
    "overlap_neg = sim.get_overlap(_result, costs=-costs_abs)\n",
    "print(\"Overlap with highest state (negative):\", overlap_neg)"
   ]
  },
  {
   "cell_type": "code",
   "execution_count": 15,
   "id": "5294f4b0-43e3-4dd2-a9ca-7fad87a7ead9",
   "metadata": {},
   "outputs": [],
   "source": [
    "# specify state indices\n",
    "overlap_03 = sim.get_overlap(_result, indices=[0, 3])\n",
    "probs = sim.get_probabilities(_result)\n",
    "assert overlap_03 == probs[[0, 3]].sum(), \"This is a bug, please report it\""
   ]
  }
 ],
 "metadata": {
  "kernelspec": {
   "display_name": "Python 3 (ipykernel)",
   "language": "python",
   "name": "python3"
  },
  "language_info": {
   "codemirror_mode": {
    "name": "ipython",
    "version": 3
   },
   "file_extension": ".py",
   "mimetype": "text/x-python",
   "name": "python",
   "nbconvert_exporter": "python",
   "pygments_lexer": "ipython3",
   "version": "3.9.19"
  }
 },
 "nbformat": 4,
 "nbformat_minor": 5
}
