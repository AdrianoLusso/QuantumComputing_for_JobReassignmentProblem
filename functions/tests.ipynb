{
 "cells": [
  {
   "cell_type": "markdown",
   "id": "fb7faf3f-301b-4aaf-a0fd-028499cc8fc1",
   "metadata": {},
   "source": [
    "# Tests"
   ]
  },
  {
   "cell_type": "markdown",
   "id": "600b6775-6b0d-43d2-8150-d0d661e596f9",
   "metadata": {},
   "source": [
    "## JRPRandomGenerator"
   ]
  },
  {
   "cell_type": "code",
   "execution_count": null,
   "id": "e222f405-3379-4217-80eb-cce97f8798ef",
   "metadata": {},
   "outputs": [],
   "source": [
    "from JRPRandomGenerator import JRPRandomGenerator\n",
    "import json\n",
    "\n",
    "generator1 = JRPRandomGenerator(num_agents=2,num_vacnJobs=3,\n",
    "                                priorityWeightCoeff=2,affinityWeightCoeff=3,\n",
    "                                penalty1=2,penalty2=2,control_restrictions=False)\n",
    "generator2 = JRPRandomGenerator(num_agents=3,num_vacnJobs=2,\n",
    "                                priorityWeightCoeff=1,affinityWeightCoeff=1)\n",
    "\n",
    "jrp1=generator1.generate_random_instance()\n",
    "jrp1 = json.loads(jrp1)\n",
    "print('jrp1: ')\n",
    "display(jrp1)\n",
    "print()\n",
    "\n",
    "jrp2=generator1.generate_random_instance()\n",
    "jrp2 = json.loads(jrp2)\n",
    "print('jrp2: ')\n",
    "display(jrp2)"
   ]
  },
  {
   "cell_type": "markdown",
   "id": "abb2f673-c660-4670-8af0-283d24482b05",
   "metadata": {},
   "source": [
    "## JRP"
   ]
  },
  {
   "cell_type": "code",
   "execution_count": 13,
   "id": "4296dd92-632c-4e14-9c8b-4696e2bd83d0",
   "metadata": {
    "scrolled": true
   },
   "outputs": [
    {
     "name": "stdout",
     "output_type": "stream",
     "text": [
      "INIT\n",
      "instance dict: \n"
     ]
    },
    {
     "data": {
      "text/plain": [
       "{'num_agents': 2,\n",
       " 'num_vacnJobs': 3,\n",
       " 'priorityWeightCoeff': 2,\n",
       " 'affinityWeightCoeff': 3,\n",
       " 'penalty1': 2,\n",
       " 'penalty2': 2,\n",
       " 'agents': [0, 1],\n",
       " 'assgJobs': [0, 1],\n",
       " 'vacnJobs': [0, 1, 2],\n",
       " 'agents_assgJobs': [1, 0],\n",
       " 'agents_assgJobsAfinnity': [[0.34, 0.25], [0.34, 0.09]],\n",
       " 'agents_vacnJobsAfinnity': [[0.46, 0.05, 0.15], [0.24, 0.16, 0.16]],\n",
       " 'assgJobs_agents': [1, 0],\n",
       " 'assgJobs_priority': [3, 2],\n",
       " 'vacnJobs_priority': [4, 4, 3],\n",
       " 'weighted_priority_diff_matrix': [[4, 2], [4, 2], [2, 0]],\n",
       " 'weighted_affinity_diff_matrix': [[0.63, -0.3], [-0.6, -0.54], [-0.3, -0.54]],\n",
       " 'allBinaryVariables': [0, 1, 2, 3, 4, 5]}"
      ]
     },
     "metadata": {},
     "output_type": "display_data"
    },
    {
     "name": "stdout",
     "output_type": "stream",
     "text": [
      "\n",
      "qubo_terms_weights: \n"
     ]
    },
    {
     "data": {
      "text/plain": [
       "None"
      ]
     },
     "metadata": {},
     "output_type": "display_data"
    },
    {
     "name": "stdout",
     "output_type": "stream",
     "text": [
      "==============================================================================\n",
      "TO QUBO\n",
      "----------------------------------------\n",
      "After 1 variable terms\n",
      "terms: [0, 1, 2, 3, 4, 5]\n",
      "weights:  [-4.63, -1.7, -3.4, -1.46, -1.7, 0.54]\n",
      "terms_weights:  {0: -4.63, 1: -1.7, 2: -3.4, 3: -1.46, 4: -1.7, 5: 0.54}\n",
      "\n",
      "----------------------------------------\n",
      "After first penalty\n",
      "terms: [0, 1, 2, 3, 4, 5, (0, 1), (2, 3), (4, 5)]\n",
      "weights:  [-4.63, -1.7, -3.4, -1.46, -1.7, 0.54, 4, 4, 4]\n",
      "terms_weights:  {0: -4.63, 1: -1.7, 2: -3.4, 3: -1.46, 4: -1.7, 5: 0.54, (0, 1): 4, (2, 3): 4, (4, 5): 4}\n",
      "\n",
      "----------------------------------------\n",
      "After second penalty\n",
      "terms: [0, 1, 2, 3, 4, 5, (0, 1), (2, 3), (4, 5), (0, 2), (0, 4), (2, 4), (1, 3), (1, 5), (3, 5)]\n",
      "weights:  [-4.63, -1.7, -3.4, -1.46, -1.7, 0.54, 4, 4, 4, 4, 4, 4, 4, 4, 4]\n",
      "terms_weights:  {0: -4.63, 1: -1.7, 2: -3.4, 3: -1.46, 4: -1.7, 5: 0.54, (0, 1): 4, (2, 3): 4, (4, 5): 4, (0, 2): 4, (0, 4): 4, (2, 4): 4, (1, 3): 4, (1, 5): 4, (3, 5): 4}\n",
      "\n",
      "instance dict: \n"
     ]
    },
    {
     "data": {
      "text/plain": [
       "{'num_agents': 2,\n",
       " 'num_vacnJobs': 3,\n",
       " 'priorityWeightCoeff': 2,\n",
       " 'affinityWeightCoeff': 3,\n",
       " 'penalty1': 2,\n",
       " 'penalty2': 2,\n",
       " 'agents': [0, 1],\n",
       " 'assgJobs': [0, 1],\n",
       " 'vacnJobs': [0, 1, 2],\n",
       " 'agents_assgJobs': [1, 0],\n",
       " 'agents_assgJobsAfinnity': [[0.34, 0.25], [0.34, 0.09]],\n",
       " 'agents_vacnJobsAfinnity': [[0.46, 0.05, 0.15], [0.24, 0.16, 0.16]],\n",
       " 'assgJobs_agents': [1, 0],\n",
       " 'assgJobs_priority': [3, 2],\n",
       " 'vacnJobs_priority': [4, 4, 3],\n",
       " 'weighted_priority_diff_matrix': [[4, 2], [4, 2], [2, 0]],\n",
       " 'weighted_affinity_diff_matrix': [[0.63, -0.3], [-0.6, -0.54], [-0.3, -0.54]],\n",
       " 'allBinaryVariables': [0, 1, 2, 3, 4, 5]}"
      ]
     },
     "metadata": {},
     "output_type": "display_data"
    },
    {
     "name": "stdout",
     "output_type": "stream",
     "text": [
      "\n",
      "qubo_terms_weights: \n"
     ]
    },
    {
     "data": {
      "text/plain": [
       "{0: -4.63,\n",
       " 1: -1.7,\n",
       " 2: -3.4,\n",
       " 3: -1.46,\n",
       " 4: -1.7,\n",
       " 5: 0.54,\n",
       " (0, 1): 4,\n",
       " (2, 3): 4,\n",
       " (4, 5): 4,\n",
       " (0, 2): 4,\n",
       " (0, 4): 4,\n",
       " (2, 4): 4,\n",
       " (1, 3): 4,\n",
       " (1, 5): 4,\n",
       " (3, 5): 4}"
      ]
     },
     "metadata": {},
     "output_type": "display_data"
    },
    {
     "name": "stdout",
     "output_type": "stream",
     "text": [
      "qubo_terms_weights (outside the object): \n"
     ]
    },
    {
     "data": {
      "text/plain": [
       "{0: -4.63,\n",
       " 1: -1.7,\n",
       " 2: -3.4,\n",
       " 3: -1.46,\n",
       " 4: -1.7,\n",
       " 5: 0.54,\n",
       " (0, 1): 4,\n",
       " (2, 3): 4,\n",
       " (4, 5): 4,\n",
       " (0, 2): 4,\n",
       " (0, 4): 4,\n",
       " (2, 4): 4,\n",
       " (1, 3): 4,\n",
       " (1, 5): 4,\n",
       " (3, 5): 4}"
      ]
     },
     "metadata": {},
     "output_type": "display_data"
    },
    {
     "name": "stdout",
     "output_type": "stream",
     "text": [
      "==============================================================================\n",
      "TO OPENQAOA FORMAT\n",
      "instance dict: \n"
     ]
    },
    {
     "data": {
      "text/plain": [
       "{'num_agents': 2,\n",
       " 'num_vacnJobs': 3,\n",
       " 'priorityWeightCoeff': 2,\n",
       " 'affinityWeightCoeff': 3,\n",
       " 'penalty1': 2,\n",
       " 'penalty2': 2,\n",
       " 'agents': [0, 1],\n",
       " 'assgJobs': [0, 1],\n",
       " 'vacnJobs': [0, 1, 2],\n",
       " 'agents_assgJobs': [1, 0],\n",
       " 'agents_assgJobsAfinnity': [[0.34, 0.25], [0.34, 0.09]],\n",
       " 'agents_vacnJobsAfinnity': [[0.46, 0.05, 0.15], [0.24, 0.16, 0.16]],\n",
       " 'assgJobs_agents': [1, 0],\n",
       " 'assgJobs_priority': [3, 2],\n",
       " 'vacnJobs_priority': [4, 4, 3],\n",
       " 'weighted_priority_diff_matrix': [[4, 2], [4, 2], [2, 0]],\n",
       " 'weighted_affinity_diff_matrix': [[0.63, -0.3], [-0.6, -0.54], [-0.3, -0.54]],\n",
       " 'allBinaryVariables': [0, 1, 2, 3, 4, 5]}"
      ]
     },
     "metadata": {},
     "output_type": "display_data"
    },
    {
     "name": "stdout",
     "output_type": "stream",
     "text": [
      "\n",
      "opeqaoa_terms: \n"
     ]
    },
    {
     "data": {
      "text/plain": [
       "[[0],\n",
       " [1],\n",
       " [2],\n",
       " [3],\n",
       " [4],\n",
       " [5],\n",
       " [0, 1],\n",
       " [2, 3],\n",
       " [4, 5],\n",
       " [0, 2],\n",
       " [0, 4],\n",
       " [2, 4],\n",
       " [1, 3],\n",
       " [1, 5],\n",
       " [3, 5]]"
      ]
     },
     "metadata": {},
     "output_type": "display_data"
    },
    {
     "name": "stdout",
     "output_type": "stream",
     "text": [
      "opeqaoa_terms (outside the object): \n"
     ]
    },
    {
     "data": {
      "text/plain": [
       "[[0],\n",
       " [1],\n",
       " [2],\n",
       " [3],\n",
       " [4],\n",
       " [5],\n",
       " [0, 1],\n",
       " [2, 3],\n",
       " [4, 5],\n",
       " [0, 2],\n",
       " [0, 4],\n",
       " [2, 4],\n",
       " [1, 3],\n",
       " [1, 5],\n",
       " [3, 5]]"
      ]
     },
     "metadata": {},
     "output_type": "display_data"
    },
    {
     "name": "stdout",
     "output_type": "stream",
     "text": [
      "opeqaoa_weights: \n"
     ]
    },
    {
     "data": {
      "text/plain": [
       "[-4.63, -1.7, -3.4, -1.46, -1.7, 0.54, 4, 4, 4, 4, 4, 4, 4, 4, 4]"
      ]
     },
     "metadata": {},
     "output_type": "display_data"
    },
    {
     "name": "stdout",
     "output_type": "stream",
     "text": [
      "opeqaoa_weights (outside the object): \n"
     ]
    },
    {
     "data": {
      "text/plain": [
       "[-4.63, -1.7, -3.4, -1.46, -1.7, 0.54, 4, 4, 4, 4, 4, 4, 4, 4, 4]"
      ]
     },
     "metadata": {},
     "output_type": "display_data"
    },
    {
     "name": "stdout",
     "output_type": "stream",
     "text": [
      "==============================================================================\n",
      "CALCULATE STANDARD GATE\n",
      "cost of solution [-1,-1]:  0\n",
      "cost of solution [-1,-1] as min. problem:  0\n",
      "cost of solution [0,-1]:  4.63\n",
      "cost of solution [0,-1] as min. problem:  -4.63\n",
      "cost of solution [-1,2]:  -0.54\n",
      "cost of solution [-1,2] as min. problem:  0.54\n",
      "cost of solution [0,2]:  4.09\n",
      "cost of solution [0,2] as min. problem:  -4.09\n"
     ]
    }
   ],
   "source": [
    "from JRPRandomGenerator import JRPRandomGenerator\n",
    "import json\n",
    "from JRP import JRP\n",
    "\n",
    "generator1 = JRPRandomGenerator(num_agents=2,num_vacnJobs=3,\n",
    "                                priorityWeightCoeff=2,affinityWeightCoeff=3,\n",
    "                                penalty1=2,penalty2=2,control_restrictions=False)\n",
    "jrp_instance=generator1.generate_random_instance()\n",
    "jrp_instance = json.loads(jrp_instance)\n",
    "jrp = JRP(jrp_instance)\n",
    "\n",
    "print('INIT')\n",
    "\n",
    "print('instance dict: ')\n",
    "display(jrp.instance_dict)\n",
    "print()\n",
    "print('qubo_terms_weights: ')\n",
    "display(jrp.qubo_terms_weights)\n",
    "\n",
    "print('==============================================================================')\n",
    "\n",
    "print('TO QUBO')\n",
    "\n",
    "qubo = jrp.to_qubo(debug=True)\n",
    "print('instance dict: ')\n",
    "display(jrp.instance_dict)\n",
    "print()\n",
    "print('qubo_terms_weights: ')\n",
    "display(jrp.qubo_terms_weights)\n",
    "print('qubo_terms_weights (outside the object): ')\n",
    "display(qubo)\n",
    "\n",
    "print('==============================================================================')\n",
    "\n",
    "print('TO OPENQAOA FORMAT')\n",
    "\n",
    "terms,weights=jrp.to_openqaoa_format()\n",
    "print('instance dict: ')\n",
    "display(jrp.instance_dict)\n",
    "print()\n",
    "print('opeqaoa_terms: ')\n",
    "display(jrp.openqaoa_terms)\n",
    "print('opeqaoa_terms (outside the object): ')\n",
    "display(terms)\n",
    "print('opeqaoa_weights: ')\n",
    "display(jrp.openqaoa_weights)\n",
    "print('opeqaoa_weights (outside the object): ')\n",
    "display(weights)\n",
    "\n",
    "print('==============================================================================')\n",
    "\n",
    "print('CALCULATE STANDARD GATE')\n",
    "\n",
    "print('cost of solution [-1,-1]: ',jrp.calculate_standard_gain([-1,-1]))\n",
    "print('cost of solution [-1,-1] as min. problem: ',jrp.calculate_standard_gain([-1,-1],minimization=True))\n",
    "\n",
    "print('cost of solution [0,-1]: ',jrp.calculate_standard_gain([0,-1]))\n",
    "print('cost of solution [0,-1] as min. problem: ',jrp.calculate_standard_gain([0,-1],minimization=True))\n",
    "\n",
    "print('cost of solution [-1,2]: ',jrp.calculate_standard_gain([-1,2]))\n",
    "print('cost of solution [-1,2] as min. problem: ',jrp.calculate_standard_gain([-1,2],minimization=True))\n",
    "\n",
    "print('cost of solution [0,2]: ',jrp.calculate_standard_gain([0,2]))\n",
    "print('cost of solution [0,2] as min. problem: ',jrp.calculate_standard_gain([0,2],minimization=True))"
   ]
  },
  {
   "cell_type": "code",
   "execution_count": 19,
   "id": "675082b0-96e0-4999-a746-abfa62d395c2",
   "metadata": {
    "scrolled": true
   },
   "outputs": [
    {
     "name": "stdout",
     "output_type": "stream",
     "text": [
      "SOLVE BRUTE FORCE\n",
      "==========================================================\n",
      "ITERATION  1  OF  16\n",
      "current combination:  (-1, -1)\n",
      "current  gain :  0\n",
      "\n",
      "current optimal  gain :  0\n",
      "current optimal solution:  (-1, -1)\n",
      "==========================================================\n",
      "\n",
      "==========================================================\n",
      "ITERATION  2  OF  16\n",
      "current combination:  (-1, 0)\n",
      "current  gain :  1.7\n",
      "\n",
      "current optimal  gain :  1.7\n",
      "current optimal solution:  (-1, 0)\n",
      "==========================================================\n",
      "\n",
      "==========================================================\n",
      "ITERATION  3  OF  16\n",
      "current combination:  (-1, 1)\n",
      "current  gain :  1.46\n",
      "\n",
      "current optimal  gain :  1.7\n",
      "current optimal solution:  (-1, 0)\n",
      "==========================================================\n",
      "\n",
      "==========================================================\n",
      "ITERATION  4  OF  16\n",
      "current combination:  (-1, 2)\n",
      "current  gain :  -0.54\n",
      "\n",
      "current optimal  gain :  1.7\n",
      "current optimal solution:  (-1, 0)\n",
      "==========================================================\n",
      "\n",
      "==========================================================\n",
      "ITERATION  5  OF  16\n",
      "current combination:  (0, -1)\n",
      "current  gain :  4.63\n",
      "\n",
      "current optimal  gain :  4.63\n",
      "current optimal solution:  (0, -1)\n",
      "==========================================================\n",
      "\n",
      "==========================================================\n",
      "ITERATION  7  OF  16\n",
      "current combination:  (0, 1)\n",
      "current  gain :  6.09\n",
      "\n",
      "current optimal  gain :  6.09\n",
      "current optimal solution:  (0, 1)\n",
      "==========================================================\n",
      "\n",
      "==========================================================\n",
      "ITERATION  8  OF  16\n",
      "current combination:  (0, 2)\n",
      "current  gain :  4.09\n",
      "\n",
      "current optimal  gain :  6.09\n",
      "current optimal solution:  (0, 1)\n",
      "==========================================================\n",
      "\n",
      "==========================================================\n",
      "ITERATION  9  OF  16\n",
      "current combination:  (1, -1)\n",
      "current  gain :  3.4\n",
      "\n",
      "current optimal  gain :  6.09\n",
      "current optimal solution:  (0, 1)\n",
      "==========================================================\n",
      "\n",
      "==========================================================\n",
      "ITERATION  10  OF  16\n",
      "current combination:  (1, 0)\n",
      "current  gain :  5.1\n",
      "\n",
      "current optimal  gain :  6.09\n",
      "current optimal solution:  (0, 1)\n",
      "==========================================================\n",
      "\n",
      "==========================================================\n",
      "ITERATION  12  OF  16\n",
      "current combination:  (1, 2)\n",
      "current  gain :  2.86\n",
      "\n",
      "current optimal  gain :  6.09\n",
      "current optimal solution:  (0, 1)\n",
      "==========================================================\n",
      "\n",
      "==========================================================\n",
      "ITERATION  13  OF  16\n",
      "current combination:  (2, -1)\n",
      "current  gain :  1.7\n",
      "\n",
      "current optimal  gain :  6.09\n",
      "current optimal solution:  (0, 1)\n",
      "==========================================================\n",
      "\n",
      "==========================================================\n",
      "ITERATION  14  OF  16\n",
      "current combination:  (2, 0)\n",
      "current  gain :  3.4\n",
      "\n",
      "current optimal  gain :  6.09\n",
      "current optimal solution:  (0, 1)\n",
      "==========================================================\n",
      "\n",
      "==========================================================\n",
      "ITERATION  15  OF  16\n",
      "current combination:  (2, 1)\n",
      "current  gain :  3.16\n",
      "\n",
      "current optimal  gain :  6.09\n",
      "current optimal solution:  (0, 1)\n",
      "==========================================================\n",
      "\n",
      "(0, 1)  6.09\n",
      "==============================================================================\n",
      "------------------------------------------------------------------------------\n",
      "==============================================================================\n",
      "\n",
      "==========================================================\n",
      "ITERATION  1  OF  16\n",
      "current combination:  (-1, -1)\n",
      "current  cost :  0\n",
      "\n",
      "current optimal  cost :  0\n",
      "current optimal solution:  (-1, -1)\n",
      "==========================================================\n",
      "\n",
      "==========================================================\n",
      "ITERATION  4  OF  16\n",
      "current combination:  (-1, 2)\n",
      "current  cost :  0.54\n",
      "\n",
      "current optimal  cost :  -1.7\n",
      "current optimal solution:  (-1, 0)\n",
      "==========================================================\n",
      "\n",
      "==========================================================\n",
      "ITERATION  7  OF  16\n",
      "current combination:  (0, 1)\n",
      "current  cost :  -6.09\n",
      "\n",
      "current optimal  cost :  -6.09\n",
      "current optimal solution:  (0, 1)\n",
      "==========================================================\n",
      "\n",
      "==========================================================\n",
      "ITERATION  10  OF  16\n",
      "current combination:  (1, 0)\n",
      "current  cost :  -5.1\n",
      "\n",
      "current optimal  cost :  -6.09\n",
      "current optimal solution:  (0, 1)\n",
      "==========================================================\n",
      "\n",
      "==========================================================\n",
      "ITERATION  13  OF  16\n",
      "current combination:  (2, -1)\n",
      "current  cost :  -1.7\n",
      "\n",
      "current optimal  cost :  -6.09\n",
      "current optimal solution:  (0, 1)\n",
      "==========================================================\n",
      "\n"
     ]
    }
   ],
   "source": [
    "print('SOLVE BRUTE FORCE')\n",
    "\n",
    "opt_combination,opt_gain = jrp.solve_standard_with_bruteforce(debug_every=1)\n",
    "print(opt_combination,'',opt_gain)\n",
    "print('==============================================================================')\n",
    "print('------------------------------------------------------------------------------')\n",
    "print('==============================================================================\\n')\n",
    "\n",
    "\n",
    "opt_combination,opt_gain = jrp.solve_standard_with_bruteforce(debug_every=3,minimization=True)"
   ]
  }
 ],
 "metadata": {
  "kernelspec": {
   "display_name": "Python 3 (ipykernel)",
   "language": "python",
   "name": "python3"
  },
  "language_info": {
   "codemirror_mode": {
    "name": "ipython",
    "version": 3
   },
   "file_extension": ".py",
   "mimetype": "text/x-python",
   "name": "python",
   "nbconvert_exporter": "python",
   "pygments_lexer": "ipython3",
   "version": "3.10.13"
  }
 },
 "nbformat": 4,
 "nbformat_minor": 5
}
