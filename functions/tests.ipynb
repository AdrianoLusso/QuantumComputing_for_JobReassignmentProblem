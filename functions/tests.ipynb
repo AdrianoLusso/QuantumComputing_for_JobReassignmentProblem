{
 "cells": [
  {
   "cell_type": "markdown",
   "id": "fb7faf3f-301b-4aaf-a0fd-028499cc8fc1",
   "metadata": {},
   "source": [
    "# Tests"
   ]
  },
  {
   "cell_type": "code",
   "execution_count": 1,
   "id": "5ca9b4d0-ae71-408e-ac18-1c6d9b7257bf",
   "metadata": {
    "scrolled": true
   },
   "outputs": [
    {
     "name": "stdout",
     "output_type": "stream",
     "text": [
      "jrp1: \n"
     ]
    },
    {
     "data": {
      "text/plain": [
       "{'num_agents': 2,\n",
       " 'num_vacnJobs': 3,\n",
       " 'priorityWeightCoeff': 2,\n",
       " 'affinityWeightCoeff': 3,\n",
       " 'penalty1': 2,\n",
       " 'penalty2': 2,\n",
       " 'agents': [0, 1],\n",
       " 'assgJobs': [0, 1],\n",
       " 'vacnJobs': [0, 1, 2],\n",
       " 'agents_assgJobs': [0, 1],\n",
       " 'agents_assgJobsAfinnity': [[0.39, 0.5], [0.01, 0.14]],\n",
       " 'agents_vacnJobsAfinnity': [[0.03, 0.02, 0.23], [0.19, 0.05, 0.16]],\n",
       " 'assgJobs_agents': [0, 1],\n",
       " 'assgJobs_priority': [1, 2],\n",
       " 'vacnJobs_priority': [5, 3, 3],\n",
       " 'weighted_priority_diff_matrix': [[8, 6], [4, 2], [4, 2]],\n",
       " 'weighted_affinity_diff_matrix': [[-1.08, 0.15],\n",
       "  [-1.11, -0.27],\n",
       "  [-0.48, 0.06]],\n",
       " 'allBinaryVariables': [0, 1, 2, 3, 4, 5]}"
      ]
     },
     "metadata": {},
     "output_type": "display_data"
    },
    {
     "name": "stdout",
     "output_type": "stream",
     "text": [
      "\n",
      "jrp2: \n"
     ]
    },
    {
     "data": {
      "text/plain": [
       "{'num_agents': 5,\n",
       " 'num_vacnJobs': 5,\n",
       " 'priorityWeightCoeff': 1,\n",
       " 'affinityWeightCoeff': 1,\n",
       " 'penalty1': 2,\n",
       " 'penalty2': 2,\n",
       " 'agents': [0, 1, 2, 3, 4],\n",
       " 'assgJobs': [0, 1, 2, 3, 4],\n",
       " 'vacnJobs': [0, 1, 2, 3, 4],\n",
       " 'agents_assgJobs': [4, 2, 3, 1, 0],\n",
       " 'agents_assgJobsAfinnity': [[0.15, 0.23, 0.43, 0.49, 0.46],\n",
       "  [0.24, 0.18, 0.44, 0.47, 0.23],\n",
       "  [0.48, 0.38, 0.49, 0.07, 0.0],\n",
       "  [0.17, 0.42, 0.01, 0.07, 0.0],\n",
       "  [0.4, 0.17, 0.44, 0.3, 0.28]],\n",
       " 'agents_vacnJobsAfinnity': [[0.23, 0.46, 0.28, 0.14, 0.0],\n",
       "  [0.45, 0.22, 0.32, 0.23, 0.34],\n",
       "  [0.24, 0.36, 0.09, 0.34, 0.02],\n",
       "  [0.27, 0.33, 0.17, 0.11, 0.14],\n",
       "  [0.14, 0.49, 0.08, 0.04, 0.37]],\n",
       " 'assgJobs_agents': [4, 3, 1, 2, 0],\n",
       " 'assgJobs_priority': [4, 1, 3, 1, 4],\n",
       " 'vacnJobs_priority': [4, 4, 4, 4, 4],\n",
       " 'weighted_priority_diff_matrix': [[0, 1, 3, 3, 0],\n",
       "  [0, 1, 3, 3, 0],\n",
       "  [0, 1, 3, 3, 0],\n",
       "  [0, 1, 3, 3, 0],\n",
       "  [0, 1, 3, 3, 0]],\n",
       " 'weighted_affinity_diff_matrix': [[-0.23, 0.01, 0.17, -0.15, -0.26],\n",
       "  [0.0, -0.22, 0.29, -0.09, 0.09],\n",
       "  [-0.18, -0.12, 0.02, -0.25, -0.32],\n",
       "  [-0.32, -0.21, 0.27, -0.31, -0.36],\n",
       "  [-0.46, -0.1, -0.05, -0.28, -0.03]],\n",
       " 'allBinaryVariables': [0,\n",
       "  1,\n",
       "  2,\n",
       "  3,\n",
       "  4,\n",
       "  5,\n",
       "  6,\n",
       "  7,\n",
       "  8,\n",
       "  9,\n",
       "  10,\n",
       "  11,\n",
       "  12,\n",
       "  13,\n",
       "  14,\n",
       "  15,\n",
       "  16,\n",
       "  17,\n",
       "  18,\n",
       "  19,\n",
       "  20,\n",
       "  21,\n",
       "  22,\n",
       "  23,\n",
       "  24]}"
      ]
     },
     "metadata": {},
     "output_type": "display_data"
    },
    {
     "name": "stdout",
     "output_type": "stream",
     "text": [
      "\n",
      "jrp3: \n"
     ]
    },
    {
     "data": {
      "text/plain": [
       "{'num_agents': 3,\n",
       " 'num_vacnJobs': 2,\n",
       " 'priorityWeightCoeff': 1,\n",
       " 'affinityWeightCoeff': 1,\n",
       " 'penalty1': 2,\n",
       " 'penalty2': 2,\n",
       " 'agents': [0, 1, 2],\n",
       " 'assgJobs': [0, 1, 2],\n",
       " 'vacnJobs': [0, 1],\n",
       " 'agents_assgJobs': [1, 0, 2],\n",
       " 'agents_assgJobsAfinnity': [[0.28, 0.43, 0.17],\n",
       "  [0.09, 0.04, 0.06],\n",
       "  [0.26, 0.38, 0.42]],\n",
       " 'agents_vacnJobsAfinnity': [[0.01, 0.4], [0.44, 0.38], [0.06, 0.32]],\n",
       " 'assgJobs_agents': [1, 0, 2],\n",
       " 'assgJobs_priority': [1, 1, 1],\n",
       " 'vacnJobs_priority': [4, 4],\n",
       " 'weighted_priority_diff_matrix': [[3, 3, 3], [3, 3, 3]],\n",
       " 'weighted_affinity_diff_matrix': [[-0.42, 0.35, -0.36], [-0.03, 0.29, -0.1]],\n",
       " 'allBinaryVariables': [0, 1, 2, 3, 4, 5]}"
      ]
     },
     "metadata": {},
     "output_type": "display_data"
    }
   ],
   "source": [
    "## JRPRandomGenerator\n",
    "\n",
    "from JRPRandomGenerator import JRPRandomGenerator\n",
    "import json\n",
    "\n",
    "generator1 = JRPRandomGenerator(num_agents=2,num_vacnJobs=3,\n",
    "                                priorityWeightCoeff=2,affinityWeightCoeff=3,\n",
    "                                penalty1=2,penalty2=2,control_restrictions=False)\n",
    "generator2 = JRPRandomGenerator(num_agents=5,num_vacnJobs=5,\n",
    "                                priorityWeightCoeff=1,max_assgJobs_priority=4,affinityWeightCoeff=1)\n",
    "\n",
    "generator3 = JRPRandomGenerator(num_agents=3,num_vacnJobs=2,\n",
    "                                priorityWeightCoeff=1,max_assgJobs_priority=1,affinityWeightCoeff=1,control_restrictions=False)\n",
    "\n",
    "\n",
    "jrp1=generator1.generate_random_instance()\n",
    "jrp1 = json.loads(jrp1)\n",
    "print('jrp1: ')\n",
    "display(jrp1)\n",
    "print()\n",
    "\n",
    "jrp2=generator2.generate_random_instance()\n",
    "jrp2 = json.loads(jrp2)\n",
    "print('jrp2: ')\n",
    "display(jrp2)\n",
    "print()\n",
    "\n",
    "jrp3=generator3.generate_random_instance()\n",
    "jrp3 = json.loads(jrp3)\n",
    "print('jrp3: ')\n",
    "display(jrp3)"
   ]
  },
  {
   "cell_type": "markdown",
   "id": "abb2f673-c660-4670-8af0-283d24482b05",
   "metadata": {},
   "source": [
    "## JRP"
   ]
  },
  {
   "cell_type": "code",
   "execution_count": 2,
   "id": "4296dd92-632c-4e14-9c8b-4696e2bd83d0",
   "metadata": {
    "scrolled": true
   },
   "outputs": [
    {
     "name": "stdout",
     "output_type": "stream",
     "text": [
      "INIT\n",
      "instance dict: \n"
     ]
    },
    {
     "data": {
      "text/plain": [
       "{'num_agents': 2,\n",
       " 'num_vacnJobs': 3,\n",
       " 'priorityWeightCoeff': 2,\n",
       " 'affinityWeightCoeff': 3,\n",
       " 'penalty1': 2,\n",
       " 'penalty2': 2,\n",
       " 'agents': [0, 1],\n",
       " 'assgJobs': [0, 1],\n",
       " 'vacnJobs': [0, 1, 2],\n",
       " 'agents_assgJobs': [1, 0],\n",
       " 'agents_assgJobsAfinnity': [[0.15, 0.13], [0.25, 0.41]],\n",
       " 'agents_vacnJobsAfinnity': [[0.3, 0.25, 0.49], [0.2, 0.12, 0.08]],\n",
       " 'assgJobs_agents': [1, 0],\n",
       " 'assgJobs_priority': [2, 3],\n",
       " 'vacnJobs_priority': [3, 5, 3],\n",
       " 'weighted_priority_diff_matrix': [[0, 2], [4, 6], [0, 2]],\n",
       " 'weighted_affinity_diff_matrix': [[0.51, -0.15],\n",
       "  [0.36, -0.39],\n",
       "  [1.08, -0.51]],\n",
       " 'allBinaryVariables': [0, 1, 2, 3, 4, 5]}"
      ]
     },
     "metadata": {},
     "output_type": "display_data"
    },
    {
     "name": "stdout",
     "output_type": "stream",
     "text": [
      "\n",
      "qubo_terms_weights: \n"
     ]
    },
    {
     "data": {
      "text/plain": [
       "None"
      ]
     },
     "metadata": {},
     "output_type": "display_data"
    },
    {
     "name": "stdout",
     "output_type": "stream",
     "text": [
      "==============================================================================\n",
      "TO QUBO\n",
      "----------------------------------------\n",
      "After 1 variable terms\n",
      "terms: [0, 1, 2, 3, 4, 5]\n",
      "weights:  [-0.51, -1.85, -4.36, -5.61, -1.08, -1.49]\n",
      "terms_weights:  {0: -0.51, 1: -1.85, 2: -4.36, 3: -5.61, 4: -1.08, 5: -1.49}\n",
      "\n",
      "----------------------------------------\n",
      "After first penalty\n",
      "terms: [0, 1, 2, 3, 4, 5, (0, 1), (2, 3), (4, 5)]\n",
      "weights:  [-0.51, -1.85, -4.36, -5.61, -1.08, -1.49, 4, 4, 4]\n",
      "terms_weights:  {0: -0.51, 1: -1.85, 2: -4.36, 3: -5.61, 4: -1.08, 5: -1.49, (0, 1): 4, (2, 3): 4, (4, 5): 4}\n",
      "\n",
      "----------------------------------------\n",
      "After second penalty\n",
      "terms: [0, 1, 2, 3, 4, 5, (0, 1), (2, 3), (4, 5), (0, 2), (0, 4), (2, 4), (1, 3), (1, 5), (3, 5)]\n",
      "weights:  [-0.51, -1.85, -4.36, -5.61, -1.08, -1.49, 4, 4, 4, 4, 4, 4, 4, 4, 4]\n",
      "terms_weights:  {0: -0.51, 1: -1.85, 2: -4.36, 3: -5.61, 4: -1.08, 5: -1.49, (0, 1): 4, (2, 3): 4, (4, 5): 4, (0, 2): 4, (0, 4): 4, (2, 4): 4, (1, 3): 4, (1, 5): 4, (3, 5): 4}\n",
      "\n",
      "instance dict: \n"
     ]
    },
    {
     "data": {
      "text/plain": [
       "{'num_agents': 2,\n",
       " 'num_vacnJobs': 3,\n",
       " 'priorityWeightCoeff': 2,\n",
       " 'affinityWeightCoeff': 3,\n",
       " 'penalty1': 2,\n",
       " 'penalty2': 2,\n",
       " 'agents': [0, 1],\n",
       " 'assgJobs': [0, 1],\n",
       " 'vacnJobs': [0, 1, 2],\n",
       " 'agents_assgJobs': [1, 0],\n",
       " 'agents_assgJobsAfinnity': [[0.15, 0.13], [0.25, 0.41]],\n",
       " 'agents_vacnJobsAfinnity': [[0.3, 0.25, 0.49], [0.2, 0.12, 0.08]],\n",
       " 'assgJobs_agents': [1, 0],\n",
       " 'assgJobs_priority': [2, 3],\n",
       " 'vacnJobs_priority': [3, 5, 3],\n",
       " 'weighted_priority_diff_matrix': [[0, 2], [4, 6], [0, 2]],\n",
       " 'weighted_affinity_diff_matrix': [[0.51, -0.15],\n",
       "  [0.36, -0.39],\n",
       "  [1.08, -0.51]],\n",
       " 'allBinaryVariables': [0, 1, 2, 3, 4, 5]}"
      ]
     },
     "metadata": {},
     "output_type": "display_data"
    },
    {
     "name": "stdout",
     "output_type": "stream",
     "text": [
      "\n",
      "qubo_terms_weights: \n"
     ]
    },
    {
     "data": {
      "text/plain": [
       "{0: -0.51,\n",
       " 1: -1.85,\n",
       " 2: -4.36,\n",
       " 3: -5.61,\n",
       " 4: -1.08,\n",
       " 5: -1.49,\n",
       " (0, 1): 4,\n",
       " (2, 3): 4,\n",
       " (4, 5): 4,\n",
       " (0, 2): 4,\n",
       " (0, 4): 4,\n",
       " (2, 4): 4,\n",
       " (1, 3): 4,\n",
       " (1, 5): 4,\n",
       " (3, 5): 4}"
      ]
     },
     "metadata": {},
     "output_type": "display_data"
    },
    {
     "name": "stdout",
     "output_type": "stream",
     "text": [
      "qubo_terms_weights (outside the object): \n"
     ]
    },
    {
     "data": {
      "text/plain": [
       "{0: -0.51,\n",
       " 1: -1.85,\n",
       " 2: -4.36,\n",
       " 3: -5.61,\n",
       " 4: -1.08,\n",
       " 5: -1.49,\n",
       " (0, 1): 4,\n",
       " (2, 3): 4,\n",
       " (4, 5): 4,\n",
       " (0, 2): 4,\n",
       " (0, 4): 4,\n",
       " (2, 4): 4,\n",
       " (1, 3): 4,\n",
       " (1, 5): 4,\n",
       " (3, 5): 4}"
      ]
     },
     "metadata": {},
     "output_type": "display_data"
    },
    {
     "name": "stdout",
     "output_type": "stream",
     "text": [
      "==============================================================================\n",
      "TO OPENQAOA FORMAT\n",
      "instance dict: \n"
     ]
    },
    {
     "data": {
      "text/plain": [
       "{'num_agents': 2,\n",
       " 'num_vacnJobs': 3,\n",
       " 'priorityWeightCoeff': 2,\n",
       " 'affinityWeightCoeff': 3,\n",
       " 'penalty1': 2,\n",
       " 'penalty2': 2,\n",
       " 'agents': [0, 1],\n",
       " 'assgJobs': [0, 1],\n",
       " 'vacnJobs': [0, 1, 2],\n",
       " 'agents_assgJobs': [1, 0],\n",
       " 'agents_assgJobsAfinnity': [[0.15, 0.13], [0.25, 0.41]],\n",
       " 'agents_vacnJobsAfinnity': [[0.3, 0.25, 0.49], [0.2, 0.12, 0.08]],\n",
       " 'assgJobs_agents': [1, 0],\n",
       " 'assgJobs_priority': [2, 3],\n",
       " 'vacnJobs_priority': [3, 5, 3],\n",
       " 'weighted_priority_diff_matrix': [[0, 2], [4, 6], [0, 2]],\n",
       " 'weighted_affinity_diff_matrix': [[0.51, -0.15],\n",
       "  [0.36, -0.39],\n",
       "  [1.08, -0.51]],\n",
       " 'allBinaryVariables': [0, 1, 2, 3, 4, 5]}"
      ]
     },
     "metadata": {},
     "output_type": "display_data"
    },
    {
     "name": "stdout",
     "output_type": "stream",
     "text": [
      "\n",
      "opeqaoa_terms (outside the object): \n"
     ]
    },
    {
     "data": {
      "text/plain": [
       "[[0],\n",
       " [1],\n",
       " [2],\n",
       " [3],\n",
       " [4],\n",
       " [5],\n",
       " [0, 1],\n",
       " [2, 3],\n",
       " [4, 5],\n",
       " [0, 2],\n",
       " [0, 4],\n",
       " [2, 4],\n",
       " [1, 3],\n",
       " [1, 5],\n",
       " [3, 5]]"
      ]
     },
     "metadata": {},
     "output_type": "display_data"
    },
    {
     "name": "stdout",
     "output_type": "stream",
     "text": [
      "opeqaoa_weights (outside the object): \n"
     ]
    },
    {
     "data": {
      "text/plain": [
       "[-0.51, -1.85, -4.36, -5.61, -1.08, -1.49, 4, 4, 4, 4, 4, 4, 4, 4, 4]"
      ]
     },
     "metadata": {},
     "output_type": "display_data"
    },
    {
     "name": "stdout",
     "output_type": "stream",
     "text": [
      "==============================================================================\n",
      "CALCULATE STANDARD GATE\n",
      "cost of solution [-1,-1]:  0\n",
      "cost of solution [-1,-1] as min. problem:  0\n",
      "cost of solution [0,-1]:  0.51\n",
      "cost of solution [0,-1] as min. problem:  -0.51\n",
      "cost of solution [-1,2]:  1.49\n",
      "cost of solution [-1,2] as min. problem:  -1.49\n",
      "cost of solution [0,2]:  2.0\n",
      "cost of solution [0,2] as min. problem:  -2.0\n"
     ]
    }
   ],
   "source": [
    "from JRPRandomGenerator import JRPRandomGenerator\n",
    "import json\n",
    "from JRPClassic import JRPClassic\n",
    "\n",
    "generator1 = JRPRandomGenerator(num_agents=2,num_vacnJobs=3,\n",
    "                                priorityWeightCoeff=2,affinityWeightCoeff=3,\n",
    "                                penalty1=2,penalty2=2,control_restrictions=False)\n",
    "jrp_instance=generator1.generate_random_instance()\n",
    "jrp_instance = json.loads(jrp_instance)\n",
    "jrp = JRPClassic(jrp_instance)\n",
    "\n",
    "print('INIT')\n",
    "\n",
    "print('instance dict: ')\n",
    "display(jrp.instance_dict)\n",
    "print()\n",
    "print('qubo_terms_weights: ')\n",
    "display(jrp.qubo_terms_weights)\n",
    "\n",
    "print('==============================================================================')\n",
    "\n",
    "print('TO QUBO')\n",
    "\n",
    "qubo = jrp.to_qubo(debug=True)\n",
    "print('instance dict: ')\n",
    "display(jrp.instance_dict)\n",
    "print()\n",
    "print('qubo_terms_weights: ')\n",
    "display(jrp.qubo_terms_weights)\n",
    "print('qubo_terms_weights (outside the object): ')\n",
    "display(qubo)\n",
    "\n",
    "print('==============================================================================')\n",
    "\n",
    "print('TO OPENQAOA FORMAT')\n",
    "\n",
    "terms,weights=jrp.to_openqaoa_format()\n",
    "print('instance dict: ')\n",
    "display(jrp.instance_dict)\n",
    "print()\n",
    "print('opeqaoa_terms (outside the object): ')\n",
    "display(terms)\n",
    "print('opeqaoa_weights (outside the object): ')\n",
    "display(weights)\n",
    "\n",
    "print('==============================================================================')\n",
    "\n",
    "print('CALCULATE STANDARD GATE')\n",
    "\n",
    "print('cost of solution [-1,-1]: ',jrp.calculate_standard_gain([-1,-1]))\n",
    "print('cost of solution [-1,-1] as min. problem: ',jrp.calculate_standard_gain([-1,-1],minimization=True))\n",
    "\n",
    "print('cost of solution [0,-1]: ',jrp.calculate_standard_gain([0,-1]))\n",
    "print('cost of solution [0,-1] as min. problem: ',jrp.calculate_standard_gain([0,-1],minimization=True))\n",
    "\n",
    "print('cost of solution [-1,2]: ',jrp.calculate_standard_gain([-1,2]))\n",
    "print('cost of solution [-1,2] as min. problem: ',jrp.calculate_standard_gain([-1,2],minimization=True))\n",
    "\n",
    "print('cost of solution [0,2]: ',jrp.calculate_standard_gain([0,2]))\n",
    "print('cost of solution [0,2] as min. problem: ',jrp.calculate_standard_gain([0,2],minimization=True))"
   ]
  },
  {
   "cell_type": "code",
   "execution_count": 3,
   "id": "675082b0-96e0-4999-a746-abfa62d395c2",
   "metadata": {
    "scrolled": true
   },
   "outputs": [
    {
     "name": "stdout",
     "output_type": "stream",
     "text": [
      "SOLVE BRUTE FORCE\n"
     ]
    },
    {
     "data": {
      "application/vnd.jupyter.widget-view+json": {
       "model_id": "",
       "version_major": 2,
       "version_minor": 0
      },
      "text/plain": [
       "Output()"
      ]
     },
     "metadata": {},
     "output_type": "display_data"
    },
    {
     "name": "stdout",
     "output_type": "stream",
     "text": [
      "[2, 1]  6.69\n",
      "==============================================================================\n",
      "------------------------------------------------------------------------------\n",
      "==============================================================================\n",
      "\n"
     ]
    },
    {
     "data": {
      "application/vnd.jupyter.widget-view+json": {
       "model_id": "",
       "version_major": 2,
       "version_minor": 0
      },
      "text/plain": [
       "Output()"
      ]
     },
     "metadata": {},
     "output_type": "display_data"
    }
   ],
   "source": [
    "print('SOLVE BRUTE FORCE')\n",
    "\n",
    "opt_combination,opt_gain = jrp.solve_standard_with_bruteforce(debug_every=1)\n",
    "print(opt_combination,'',opt_gain)\n",
    "print('==============================================================================')\n",
    "print('------------------------------------------------------------------------------')\n",
    "print('==============================================================================\\n')\n",
    "\n",
    "\n",
    "opt_combination,opt_gain = jrp.solve_standard_with_bruteforce(debug_every=3,minimization=True)"
   ]
  }
 ],
 "metadata": {
  "kernelspec": {
   "display_name": "Python 3 (ipykernel)",
   "language": "python",
   "name": "python3"
  },
  "language_info": {
   "codemirror_mode": {
    "name": "ipython",
    "version": 3
   },
   "file_extension": ".py",
   "mimetype": "text/x-python",
   "name": "python",
   "nbconvert_exporter": "python",
   "pygments_lexer": "ipython3",
   "version": "3.10.13"
  }
 },
 "nbformat": 4,
 "nbformat_minor": 5
}
