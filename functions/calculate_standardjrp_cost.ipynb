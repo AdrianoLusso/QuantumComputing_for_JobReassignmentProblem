{
 "cells": [
  {
   "cell_type": "code",
   "execution_count": 15,
   "id": "c82a23d6-9fbb-4bcb-a4f9-79e306e062bc",
   "metadata": {},
   "outputs": [],
   "source": [
    "def calculate_standardjrp_cost(solution,instance_dict,minimization=True):\n",
    "    ''' \n",
    "    calculate the cost of a solution for an standard (constrained) JRP optimization function\n",
    "    [-1,1,3,1]\n",
    "    Input:\n",
    "        - solution:DECIR TIPO\n",
    "            the solution given should be given in a standard form. That is:\n",
    "            'a_0 a_1 a_2 ... a_n'(without spaces between a_i vars.) where each variable a_i\n",
    "            must be a value from [-1,m). If a_i = x | (0<= x <m), then agent i was reassigned to\n",
    "            vacant job x. If a_i = -1, then agent i wasn't reassigned and kept in its original job.\n",
    "    '''        \n",
    "\n",
    "    #veryfing that len of solution is the same as num_agents\n",
    "    if(len(solution) != instance_dict['num_agents']):\n",
    "        raise ValueError('The length of the solution must be equal to num_agents = ',instance_dict['num_agents'])\n",
    "\n",
    "    \n",
    "    weighted_priority_diff_matrix = instance_dict['weighted_priority_diff_matrix']\n",
    "    weighted_affinity_diff_matrix = instance_dict['weighted_affinity_diff_matrix']\n",
    "\n",
    "    #cost calculus\n",
    "    cost = 0\n",
    "    alredy_choosen_vacnJobs = []\n",
    "    for agent,job in enumerate(solution):\n",
    "        if job != -1:\n",
    "            if job in alredy_choosen_vacnJobs:\n",
    "                raise ValueError('Your solution does not respect that a vacant job must be assigned to not more than one agent')\n",
    "            cost += weighted_priority_diff_matrix[agent][job] + weighted_affinity_diff_matrix[agent][job]\n",
    "            alredy_choosen_vacnJobs.append(job)\n",
    "\n",
    "    if minimization:\n",
    "        cost *= -1\n",
    "    return cost"
   ]
  }
 ],
 "metadata": {
  "kernelspec": {
   "display_name": "Python 3 (ipykernel)",
   "language": "python",
   "name": "python3"
  },
  "language_info": {
   "codemirror_mode": {
    "name": "ipython",
    "version": 3
   },
   "file_extension": ".py",
   "mimetype": "text/x-python",
   "name": "python",
   "nbconvert_exporter": "python",
   "pygments_lexer": "ipython3",
   "version": "3.10.13"
  }
 },
 "nbformat": 4,
 "nbformat_minor": 5
}
