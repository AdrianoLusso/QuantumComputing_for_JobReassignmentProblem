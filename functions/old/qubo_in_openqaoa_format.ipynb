{
 "cells": [
  {
   "cell_type": "code",
   "execution_count": 3,
   "id": "481e8758-c770-43b8-972a-489ee2df119a",
   "metadata": {},
   "outputs": [],
   "source": [
    "def qubo_in_openqaoa_format(terms_weights,debug=False):\n",
    "    terms = list(terms_weights.keys())\n",
    "    weights = list(terms_weights.values())\n",
    "\n",
    "    terms_aux = []\n",
    "    for term in terms:\n",
    "        if type(term) == tuple:\n",
    "            terms_aux.append([term[0],term[1]])\n",
    "        else:\n",
    "            terms_aux.append([term])\n",
    "    terms = terms_aux\n",
    "    if debug:\n",
    "        print('final terms: ',terms)\n",
    "        print('final weights: ',weights)\n",
    "    return terms,weights\n",
    "    "
   ]
  }
 ],
 "metadata": {
  "kernelspec": {
   "display_name": "Python 3 (ipykernel)",
   "language": "python",
   "name": "python3"
  },
  "language_info": {
   "codemirror_mode": {
    "name": "ipython",
    "version": 3
   },
   "file_extension": ".py",
   "mimetype": "text/x-python",
   "name": "python",
   "nbconvert_exporter": "python",
   "pygments_lexer": "ipython3",
   "version": "3.10.13"
  }
 },
 "nbformat": 4,
 "nbformat_minor": 5
}
