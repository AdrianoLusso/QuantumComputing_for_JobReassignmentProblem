{
 "cells": [
  {
   "cell_type": "markdown",
   "id": "fb7faf3f-301b-4aaf-a0fd-028499cc8fc1",
   "metadata": {},
   "source": [
    "# Tests"
   ]
  },
  {
   "cell_type": "code",
   "execution_count": 62,
   "id": "5ca9b4d0-ae71-408e-ac18-1c6d9b7257bf",
   "metadata": {
    "scrolled": true
   },
   "outputs": [
    {
     "name": "stdout",
     "output_type": "stream",
     "text": [
      "jrp1: \n"
     ]
    },
    {
     "data": {
      "text/plain": [
       "{'num_agents': 2,\n",
       " 'num_vacnJobs': 3,\n",
       " 'priorityWeightCoeff': 2,\n",
       " 'affinityWeightCoeff': 3,\n",
       " 'penalty1': 2,\n",
       " 'penalty2': 2,\n",
       " 'agents': [0, 1],\n",
       " 'assgJobs': [0, 1],\n",
       " 'vacnJobs': [0, 1, 2],\n",
       " 'agents_assgJobs': [1, 0],\n",
       " 'agents_assgJobsAfinnity': [[0.2, 0.49], [0.4, 0.12]],\n",
       " 'agents_vacnJobsAfinnity': [[0.19, 0.14, 0.44], [0.47, 0.11, 0.21]],\n",
       " 'assgJobs_agents': [1, 0],\n",
       " 'assgJobs_priority': [2, 2],\n",
       " 'vacnJobs_priority': [3, 5, 5],\n",
       " 'weighted_priority_diff_matrix': [[2, 2], [6, 6], [6, 6]],\n",
       " 'weighted_affinity_diff_matrix': [[-0.9, 0.21],\n",
       "  [-1.05, -0.87],\n",
       "  [-0.15, -0.57]],\n",
       " 'allBinaryVariables': [0, 1, 2, 3, 4, 5]}"
      ]
     },
     "metadata": {},
     "output_type": "display_data"
    },
    {
     "name": "stdout",
     "output_type": "stream",
     "text": [
      "\n",
      "jrp2: \n"
     ]
    },
    {
     "data": {
      "text/plain": [
       "{'num_agents': 5,\n",
       " 'num_vacnJobs': 5,\n",
       " 'priorityWeightCoeff': 1,\n",
       " 'affinityWeightCoeff': 1,\n",
       " 'penalty1': 2,\n",
       " 'penalty2': 2,\n",
       " 'agents': [0, 1, 2, 3, 4],\n",
       " 'assgJobs': [0, 1, 2, 3, 4],\n",
       " 'vacnJobs': [0, 1, 2, 3, 4],\n",
       " 'agents_assgJobs': [3, 1, 2, 4, 0],\n",
       " 'agents_assgJobsAfinnity': [[0.25, 0.41, 0.0, 0.1, 0.14],\n",
       "  [0.0, 0.2, 0.04, 0.45, 0.35],\n",
       "  [0.29, 0.25, 0.2, 0.31, 0.4],\n",
       "  [0.31, 0.24, 0.02, 0.27, 0.36],\n",
       "  [0.46, 0.0, 0.12, 0.25, 0.21]],\n",
       " 'agents_vacnJobsAfinnity': [[0.36, 0.39, 0.17, 0.4, 0.26],\n",
       "  [0.27, 0.19, 0.28, 0.31, 0.07],\n",
       "  [0.47, 0.12, 0.35, 0.16, 0.32],\n",
       "  [0.02, 0.38, 0.38, 0.17, 0.49],\n",
       "  [0.25, 0.12, 0.18, 0.17, 0.39]],\n",
       " 'assgJobs_agents': [4, 1, 2, 0, 3],\n",
       " 'assgJobs_priority': [1, 4, 2, 2, 4],\n",
       " 'vacnJobs_priority': [5, 4, 5, 5, 5],\n",
       " 'weighted_priority_diff_matrix': [[3, 1, 3, 1, 4],\n",
       "  [2, 0, 2, 0, 3],\n",
       "  [3, 1, 3, 1, 4],\n",
       "  [3, 1, 3, 1, 4],\n",
       "  [3, 1, 3, 1, 4]],\n",
       " 'weighted_affinity_diff_matrix': [[0.26, 0.07, 0.27, -0.34, -0.21],\n",
       "  [0.29, -0.01, -0.08, 0.02, -0.34],\n",
       "  [0.07, 0.08, 0.15, 0.02, -0.28],\n",
       "  [0.3, 0.11, -0.04, -0.19, -0.29],\n",
       "  [0.16, -0.13, 0.12, 0.13, -0.07]],\n",
       " 'allBinaryVariables': [0,\n",
       "  1,\n",
       "  2,\n",
       "  3,\n",
       "  4,\n",
       "  5,\n",
       "  6,\n",
       "  7,\n",
       "  8,\n",
       "  9,\n",
       "  10,\n",
       "  11,\n",
       "  12,\n",
       "  13,\n",
       "  14,\n",
       "  15,\n",
       "  16,\n",
       "  17,\n",
       "  18,\n",
       "  19,\n",
       "  20,\n",
       "  21,\n",
       "  22,\n",
       "  23,\n",
       "  24]}"
      ]
     },
     "metadata": {},
     "output_type": "display_data"
    },
    {
     "name": "stdout",
     "output_type": "stream",
     "text": [
      "\n",
      "jrp3: \n"
     ]
    },
    {
     "data": {
      "text/plain": [
       "{'num_agents': 3,\n",
       " 'num_vacnJobs': 2,\n",
       " 'priorityWeightCoeff': 1,\n",
       " 'affinityWeightCoeff': 1,\n",
       " 'penalty1': 2,\n",
       " 'penalty2': 2,\n",
       " 'agents': [0, 1, 2],\n",
       " 'assgJobs': [0, 1, 2],\n",
       " 'vacnJobs': [0, 1],\n",
       " 'agents_assgJobs': [2, 1, 0],\n",
       " 'agents_assgJobsAfinnity': [[0.31, 0.48, 0.01],\n",
       "  [0.24, 0.37, 0.46],\n",
       "  [0.13, 0.04, 0.04]],\n",
       " 'agents_vacnJobsAfinnity': [[0.04, 0.31], [0.32, 0.32], [0.22, 0.17]],\n",
       " 'assgJobs_agents': [2, 1, 0],\n",
       " 'assgJobs_priority': [1, 1, 1],\n",
       " 'vacnJobs_priority': [5, 3],\n",
       " 'weighted_priority_diff_matrix': [[4, 4, 4], [2, 2, 2]],\n",
       " 'weighted_affinity_diff_matrix': [[0.03, -0.05, 0.09], [0.3, -0.05, 0.04]],\n",
       " 'allBinaryVariables': [0, 1, 2, 3, 4, 5]}"
      ]
     },
     "metadata": {},
     "output_type": "display_data"
    }
   ],
   "source": [
    "## JRPRandomGenerator\n",
    "\n",
    "from JRPRandomGenerator import JRPRandomGenerator\n",
    "import json\n",
    "\n",
    "generator1 = JRPRandomGenerator(num_agents=2,num_vacnJobs=3,\n",
    "                                priorityWeightCoeff=2,affinityWeightCoeff=3,\n",
    "                                penalty1=2,penalty2=2,control_restrictions=False)\n",
    "generator2 = JRPRandomGenerator(num_agents=5,num_vacnJobs=5,\n",
    "                                priorityWeightCoeff=1,max_assgJobs_priority=4,affinityWeightCoeff=1)\n",
    "\n",
    "generator3 = JRPRandomGenerator(num_agents=3,num_vacnJobs=2,\n",
    "                                priorityWeightCoeff=1,max_assgJobs_priority=1,affinityWeightCoeff=1,control_restrictions=False)\n",
    "\n",
    "\n",
    "jrp1=generator1.generate_random_instance()\n",
    "jrp1 = json.loads(jrp1)\n",
    "print('jrp1: ')\n",
    "display(jrp1)\n",
    "print()\n",
    "\n",
    "jrp2=generator2.generate_random_instance()\n",
    "jrp2 = json.loads(jrp2)\n",
    "print('jrp2: ')\n",
    "display(jrp2)\n",
    "print()\n",
    "\n",
    "jrp3=generator3.generate_random_instance()\n",
    "jrp3 = json.loads(jrp3)\n",
    "print('jrp3: ')\n",
    "display(jrp3)"
   ]
  },
  {
   "cell_type": "markdown",
   "id": "abb2f673-c660-4670-8af0-283d24482b05",
   "metadata": {},
   "source": [
    "## JRP"
   ]
  },
  {
   "cell_type": "code",
   "execution_count": 4,
   "id": "4296dd92-632c-4e14-9c8b-4696e2bd83d0",
   "metadata": {
    "scrolled": true
   },
   "outputs": [
    {
     "name": "stdout",
     "output_type": "stream",
     "text": [
      "INIT\n",
      "instance dict: \n"
     ]
    },
    {
     "data": {
      "text/plain": [
       "{'num_agents': 2,\n",
       " 'num_vacnJobs': 3,\n",
       " 'priorityWeightCoeff': 2,\n",
       " 'affinityWeightCoeff': 3,\n",
       " 'penalty1': 2,\n",
       " 'penalty2': 2,\n",
       " 'agents': [0, 1],\n",
       " 'assgJobs': [0, 1],\n",
       " 'vacnJobs': [0, 1, 2],\n",
       " 'agents_assgJobs': [1, 0],\n",
       " 'agents_assgJobsAfinnity': [[0.02, 0.44], [0.24, 0.09]],\n",
       " 'agents_vacnJobsAfinnity': [[0.05, 0.35, 0.41], [0.1, 0.24, 0.1]],\n",
       " 'assgJobs_agents': [1, 0],\n",
       " 'assgJobs_priority': [4, 2],\n",
       " 'vacnJobs_priority': [3, 5, 5],\n",
       " 'weighted_priority_diff_matrix': [[2, -2], [6, 2], [6, 2]],\n",
       " 'weighted_affinity_diff_matrix': [[-1.17, -0.42],\n",
       "  [-0.27, 0.0],\n",
       "  [-0.09, -0.42]],\n",
       " 'allBinaryVariables': [0, 1, 2, 3, 4, 5]}"
      ]
     },
     "metadata": {},
     "output_type": "display_data"
    },
    {
     "name": "stdout",
     "output_type": "stream",
     "text": [
      "\n",
      "qubo_terms_weights: \n"
     ]
    },
    {
     "data": {
      "text/plain": [
       "None"
      ]
     },
     "metadata": {},
     "output_type": "display_data"
    },
    {
     "name": "stdout",
     "output_type": "stream",
     "text": [
      "==============================================================================\n",
      "TO QUBO\n",
      "----------------------------------------\n",
      "After 1 variable terms\n",
      "terms: [0, 1, 2, 3, 4, 5]\n",
      "weights:  [-0.8300000000000001, 2.42, -5.7299999999999995, -2.0, -5.91, -1.58]\n",
      "terms_weights:  {0: -0.8300000000000001, 1: 2.42, 2: -5.7299999999999995, 3: -2.0, 4: -5.91, 5: -1.58}\n",
      "\n",
      "----------------------------------------\n",
      "After first penalty\n",
      "terms: [0, 1, 2, 3, 4, 5, (0, 1), (2, 3), (4, 5)]\n",
      "weights:  [-0.8300000000000001, 2.42, -5.7299999999999995, -2.0, -5.91, -1.58, 4, 4, 4]\n",
      "terms_weights:  {0: -0.8300000000000001, 1: 2.42, 2: -5.7299999999999995, 3: -2.0, 4: -5.91, 5: -1.58, (0, 1): 4, (2, 3): 4, (4, 5): 4}\n",
      "\n",
      "----------------------------------------\n",
      "After second penalty\n",
      "terms: [0, 1, 2, 3, 4, 5, (0, 1), (2, 3), (4, 5), (0, 2), (0, 4), (2, 4), (1, 3), (1, 5), (3, 5)]\n",
      "weights:  [-0.8300000000000001, 2.42, -5.7299999999999995, -2.0, -5.91, -1.58, 4, 4, 4, 4, 4, 4, 4, 4, 4]\n",
      "terms_weights:  {0: -0.8300000000000001, 1: 2.42, 2: -5.7299999999999995, 3: -2.0, 4: -5.91, 5: -1.58, (0, 1): 4, (2, 3): 4, (4, 5): 4, (0, 2): 4, (0, 4): 4, (2, 4): 4, (1, 3): 4, (1, 5): 4, (3, 5): 4}\n",
      "\n",
      "instance dict: \n"
     ]
    },
    {
     "data": {
      "text/plain": [
       "{'num_agents': 2,\n",
       " 'num_vacnJobs': 3,\n",
       " 'priorityWeightCoeff': 2,\n",
       " 'affinityWeightCoeff': 3,\n",
       " 'penalty1': 2,\n",
       " 'penalty2': 2,\n",
       " 'agents': [0, 1],\n",
       " 'assgJobs': [0, 1],\n",
       " 'vacnJobs': [0, 1, 2],\n",
       " 'agents_assgJobs': [1, 0],\n",
       " 'agents_assgJobsAfinnity': [[0.02, 0.44], [0.24, 0.09]],\n",
       " 'agents_vacnJobsAfinnity': [[0.05, 0.35, 0.41], [0.1, 0.24, 0.1]],\n",
       " 'assgJobs_agents': [1, 0],\n",
       " 'assgJobs_priority': [4, 2],\n",
       " 'vacnJobs_priority': [3, 5, 5],\n",
       " 'weighted_priority_diff_matrix': [[2, -2], [6, 2], [6, 2]],\n",
       " 'weighted_affinity_diff_matrix': [[-1.17, -0.42],\n",
       "  [-0.27, 0.0],\n",
       "  [-0.09, -0.42]],\n",
       " 'allBinaryVariables': [0, 1, 2, 3, 4, 5]}"
      ]
     },
     "metadata": {},
     "output_type": "display_data"
    },
    {
     "name": "stdout",
     "output_type": "stream",
     "text": [
      "\n",
      "qubo_terms_weights: \n"
     ]
    },
    {
     "data": {
      "text/plain": [
       "{0: -0.8300000000000001,\n",
       " 1: 2.42,\n",
       " 2: -5.7299999999999995,\n",
       " 3: -2.0,\n",
       " 4: -5.91,\n",
       " 5: -1.58,\n",
       " (0, 1): 4,\n",
       " (2, 3): 4,\n",
       " (4, 5): 4,\n",
       " (0, 2): 4,\n",
       " (0, 4): 4,\n",
       " (2, 4): 4,\n",
       " (1, 3): 4,\n",
       " (1, 5): 4,\n",
       " (3, 5): 4}"
      ]
     },
     "metadata": {},
     "output_type": "display_data"
    },
    {
     "name": "stdout",
     "output_type": "stream",
     "text": [
      "qubo_terms_weights (outside the object): \n"
     ]
    },
    {
     "data": {
      "text/plain": [
       "{0: -0.8300000000000001,\n",
       " 1: 2.42,\n",
       " 2: -5.7299999999999995,\n",
       " 3: -2.0,\n",
       " 4: -5.91,\n",
       " 5: -1.58,\n",
       " (0, 1): 4,\n",
       " (2, 3): 4,\n",
       " (4, 5): 4,\n",
       " (0, 2): 4,\n",
       " (0, 4): 4,\n",
       " (2, 4): 4,\n",
       " (1, 3): 4,\n",
       " (1, 5): 4,\n",
       " (3, 5): 4}"
      ]
     },
     "metadata": {},
     "output_type": "display_data"
    },
    {
     "name": "stdout",
     "output_type": "stream",
     "text": [
      "==============================================================================\n",
      "TO OPENQAOA FORMAT\n",
      "instance dict: \n"
     ]
    },
    {
     "data": {
      "text/plain": [
       "{'num_agents': 2,\n",
       " 'num_vacnJobs': 3,\n",
       " 'priorityWeightCoeff': 2,\n",
       " 'affinityWeightCoeff': 3,\n",
       " 'penalty1': 2,\n",
       " 'penalty2': 2,\n",
       " 'agents': [0, 1],\n",
       " 'assgJobs': [0, 1],\n",
       " 'vacnJobs': [0, 1, 2],\n",
       " 'agents_assgJobs': [1, 0],\n",
       " 'agents_assgJobsAfinnity': [[0.02, 0.44], [0.24, 0.09]],\n",
       " 'agents_vacnJobsAfinnity': [[0.05, 0.35, 0.41], [0.1, 0.24, 0.1]],\n",
       " 'assgJobs_agents': [1, 0],\n",
       " 'assgJobs_priority': [4, 2],\n",
       " 'vacnJobs_priority': [3, 5, 5],\n",
       " 'weighted_priority_diff_matrix': [[2, -2], [6, 2], [6, 2]],\n",
       " 'weighted_affinity_diff_matrix': [[-1.17, -0.42],\n",
       "  [-0.27, 0.0],\n",
       "  [-0.09, -0.42]],\n",
       " 'allBinaryVariables': [0, 1, 2, 3, 4, 5]}"
      ]
     },
     "metadata": {},
     "output_type": "display_data"
    },
    {
     "name": "stdout",
     "output_type": "stream",
     "text": [
      "\n",
      "opeqaoa_terms (outside the object): \n"
     ]
    },
    {
     "data": {
      "text/plain": [
       "[[0],\n",
       " [1],\n",
       " [2],\n",
       " [3],\n",
       " [4],\n",
       " [5],\n",
       " [0, 1],\n",
       " [2, 3],\n",
       " [4, 5],\n",
       " [0, 2],\n",
       " [0, 4],\n",
       " [2, 4],\n",
       " [1, 3],\n",
       " [1, 5],\n",
       " [3, 5]]"
      ]
     },
     "metadata": {},
     "output_type": "display_data"
    },
    {
     "name": "stdout",
     "output_type": "stream",
     "text": [
      "opeqaoa_weights (outside the object): \n"
     ]
    },
    {
     "data": {
      "text/plain": [
       "[-0.8300000000000001,\n",
       " 2.42,\n",
       " -5.7299999999999995,\n",
       " -2.0,\n",
       " -5.91,\n",
       " -1.58,\n",
       " 4,\n",
       " 4,\n",
       " 4,\n",
       " 4,\n",
       " 4,\n",
       " 4,\n",
       " 4,\n",
       " 4,\n",
       " 4]"
      ]
     },
     "metadata": {},
     "output_type": "display_data"
    },
    {
     "name": "stdout",
     "output_type": "stream",
     "text": [
      "==============================================================================\n",
      "CALCULATE STANDARD GATE\n",
      "cost of solution [-1,-1]:  0\n",
      "cost of solution [-1,-1] as min. problem:  0\n",
      "cost of solution [0,-1]:  0.8300000000000001\n",
      "cost of solution [0,-1] as min. problem:  -0.8300000000000001\n",
      "cost of solution [-1,2]:  1.58\n",
      "cost of solution [-1,2] as min. problem:  -1.58\n",
      "cost of solution [0,2]:  2.41\n",
      "cost of solution [0,2] as min. problem:  -2.41\n"
     ]
    }
   ],
   "source": [
    "from JRPRandomGenerator import JRPRandomGenerator\n",
    "import json\n",
    "from JRPClassic import JRPClassic\n",
    "\n",
    "generator1 = JRPRandomGenerator(num_agents=2,num_vacnJobs=3,\n",
    "                                priorityWeightCoeff=2,affinityWeightCoeff=3,\n",
    "                                penalty1=2,penalty2=2,control_restrictions=False)\n",
    "jrp_instance=generator1.generate_random_instance()\n",
    "jrp_instance = json.loads(jrp_instance)\n",
    "jrp = JRPClassic(jrp_instance)\n",
    "\n",
    "print('INIT')\n",
    "\n",
    "print('instance dict: ')\n",
    "display(jrp.instance_dict)\n",
    "print()\n",
    "print('qubo_terms_weights: ')\n",
    "display(jrp.qubo_terms_weights)\n",
    "\n",
    "print('==============================================================================')\n",
    "\n",
    "print('TO QUBO')\n",
    "\n",
    "qubo = jrp.to_qubo(debug=True)\n",
    "print('instance dict: ')\n",
    "display(jrp.instance_dict)\n",
    "print()\n",
    "print('qubo_terms_weights: ')\n",
    "display(jrp.qubo_terms_weights)\n",
    "print('qubo_terms_weights (outside the object): ')\n",
    "display(qubo)\n",
    "\n",
    "print('==============================================================================')\n",
    "\n",
    "print('TO OPENQAOA FORMAT')\n",
    "\n",
    "terms,weights=jrp.to_openqaoa_format()\n",
    "print('instance dict: ')\n",
    "display(jrp.instance_dict)\n",
    "print()\n",
    "print('opeqaoa_terms (outside the object): ')\n",
    "display(terms)\n",
    "print('opeqaoa_weights (outside the object): ')\n",
    "display(weights)\n",
    "\n",
    "print('==============================================================================')\n",
    "\n",
    "print('CALCULATE STANDARD GATE')\n",
    "\n",
    "print('cost of solution [-1,-1]: ',jrp.calculate_standard_gain([-1,-1]))\n",
    "print('cost of solution [-1,-1] as min. problem: ',jrp.calculate_standard_gain([-1,-1],minimization=True))\n",
    "\n",
    "print('cost of solution [0,-1]: ',jrp.calculate_standard_gain([0,-1]))\n",
    "print('cost of solution [0,-1] as min. problem: ',jrp.calculate_standard_gain([0,-1],minimization=True))\n",
    "\n",
    "print('cost of solution [-1,2]: ',jrp.calculate_standard_gain([-1,2]))\n",
    "print('cost of solution [-1,2] as min. problem: ',jrp.calculate_standard_gain([-1,2],minimization=True))\n",
    "\n",
    "print('cost of solution [0,2]: ',jrp.calculate_standard_gain([0,2]))\n",
    "print('cost of solution [0,2] as min. problem: ',jrp.calculate_standard_gain([0,2],minimization=True))"
   ]
  },
  {
   "cell_type": "code",
   "execution_count": 5,
   "id": "675082b0-96e0-4999-a746-abfa62d395c2",
   "metadata": {
    "scrolled": true
   },
   "outputs": [
    {
     "name": "stdout",
     "output_type": "stream",
     "text": [
      "SOLVE BRUTE FORCE\n",
      "==========================================================\n",
      "ITERATION  1  OF  16\n",
      "current combination:  (-1, -1)\n",
      "current  gain :  0\n",
      "\n",
      "current optimal  gain :  0\n",
      "current optimal solution:  (-1, -1)\n",
      "==========================================================\n",
      "\n",
      "==========================================================\n",
      "ITERATION  2  OF  16\n",
      "current combination:  (-1, 0)\n",
      "current  gain :  -2.42\n",
      "\n",
      "current optimal  gain :  0\n",
      "current optimal solution:  (-1, -1)\n",
      "==========================================================\n",
      "\n",
      "==========================================================\n",
      "ITERATION  3  OF  16\n",
      "current combination:  (-1, 1)\n",
      "current  gain :  2.0\n",
      "\n",
      "current optimal  gain :  2.0\n",
      "current optimal solution:  (-1, 1)\n",
      "==========================================================\n",
      "\n",
      "==========================================================\n",
      "ITERATION  4  OF  16\n",
      "current combination:  (-1, 2)\n",
      "current  gain :  1.58\n",
      "\n",
      "current optimal  gain :  2.0\n",
      "current optimal solution:  (-1, 1)\n",
      "==========================================================\n",
      "\n",
      "==========================================================\n",
      "ITERATION  5  OF  16\n",
      "current combination:  (0, -1)\n",
      "current  gain :  0.8300000000000001\n",
      "\n",
      "current optimal  gain :  2.0\n",
      "current optimal solution:  (-1, 1)\n",
      "==========================================================\n",
      "\n",
      "==========================================================\n",
      "ITERATION  7  OF  16\n",
      "current combination:  (0, 1)\n",
      "current  gain :  2.83\n",
      "\n",
      "current optimal  gain :  2.83\n",
      "current optimal solution:  (0, 1)\n",
      "==========================================================\n",
      "\n",
      "==========================================================\n",
      "ITERATION  8  OF  16\n",
      "current combination:  (0, 2)\n",
      "current  gain :  2.41\n",
      "\n",
      "current optimal  gain :  2.83\n",
      "current optimal solution:  (0, 1)\n",
      "==========================================================\n",
      "\n",
      "==========================================================\n",
      "ITERATION  9  OF  16\n",
      "current combination:  (1, -1)\n",
      "current  gain :  5.73\n",
      "\n",
      "current optimal  gain :  5.73\n",
      "current optimal solution:  (1, -1)\n",
      "==========================================================\n",
      "\n",
      "==========================================================\n",
      "ITERATION  10  OF  16\n",
      "current combination:  (1, 0)\n",
      "current  gain :  3.3100000000000005\n",
      "\n",
      "current optimal  gain :  5.73\n",
      "current optimal solution:  (1, -1)\n",
      "==========================================================\n",
      "\n",
      "==========================================================\n",
      "ITERATION  12  OF  16\n",
      "current combination:  (1, 2)\n",
      "current  gain :  7.3100000000000005\n",
      "\n",
      "current optimal  gain :  7.3100000000000005\n",
      "current optimal solution:  (1, 2)\n",
      "==========================================================\n",
      "\n",
      "==========================================================\n",
      "ITERATION  13  OF  16\n",
      "current combination:  (2, -1)\n",
      "current  gain :  5.91\n",
      "\n",
      "current optimal  gain :  7.3100000000000005\n",
      "current optimal solution:  (1, 2)\n",
      "==========================================================\n",
      "\n",
      "==========================================================\n",
      "ITERATION  14  OF  16\n",
      "current combination:  (2, 0)\n",
      "current  gain :  3.49\n",
      "\n",
      "current optimal  gain :  7.3100000000000005\n",
      "current optimal solution:  (1, 2)\n",
      "==========================================================\n",
      "\n",
      "==========================================================\n",
      "ITERATION  15  OF  16\n",
      "current combination:  (2, 1)\n",
      "current  gain :  7.91\n",
      "\n",
      "current optimal  gain :  7.91\n",
      "current optimal solution:  (2, 1)\n",
      "==========================================================\n",
      "\n",
      "[2, 1]  7.91\n",
      "==============================================================================\n",
      "------------------------------------------------------------------------------\n",
      "==============================================================================\n",
      "\n",
      "==========================================================\n",
      "ITERATION  1  OF  16\n",
      "current combination:  (-1, -1)\n",
      "current  cost :  0\n",
      "\n",
      "current optimal  cost :  0\n",
      "current optimal solution:  (-1, -1)\n",
      "==========================================================\n",
      "\n",
      "==========================================================\n",
      "ITERATION  4  OF  16\n",
      "current combination:  (-1, 2)\n",
      "current  cost :  -1.58\n",
      "\n",
      "current optimal  cost :  -2.0\n",
      "current optimal solution:  (-1, 1)\n",
      "==========================================================\n",
      "\n",
      "==========================================================\n",
      "ITERATION  7  OF  16\n",
      "current combination:  (0, 1)\n",
      "current  cost :  -2.83\n",
      "\n",
      "current optimal  cost :  -2.83\n",
      "current optimal solution:  (0, 1)\n",
      "==========================================================\n",
      "\n",
      "==========================================================\n",
      "ITERATION  10  OF  16\n",
      "current combination:  (1, 0)\n",
      "current  cost :  -3.3100000000000005\n",
      "\n",
      "current optimal  cost :  -5.73\n",
      "current optimal solution:  (1, -1)\n",
      "==========================================================\n",
      "\n",
      "==========================================================\n",
      "ITERATION  13  OF  16\n",
      "current combination:  (2, -1)\n",
      "current  cost :  -5.91\n",
      "\n",
      "current optimal  cost :  -7.3100000000000005\n",
      "current optimal solution:  (1, 2)\n",
      "==========================================================\n",
      "\n"
     ]
    }
   ],
   "source": [
    "print('SOLVE BRUTE FORCE')\n",
    "\n",
    "opt_combination,opt_gain = jrp.solve_standard_with_bruteforce(debug_every=1)\n",
    "print(opt_combination,'',opt_gain)\n",
    "print('==============================================================================')\n",
    "print('------------------------------------------------------------------------------')\n",
    "print('==============================================================================\\n')\n",
    "\n",
    "\n",
    "opt_combination,opt_gain = jrp.solve_standard_with_bruteforce(debug_every=3,minimization=True)"
   ]
  }
 ],
 "metadata": {
  "kernelspec": {
   "display_name": "Python 3 (ipykernel)",
   "language": "python",
   "name": "python3"
  },
  "language_info": {
   "codemirror_mode": {
    "name": "ipython",
    "version": 3
   },
   "file_extension": ".py",
   "mimetype": "text/x-python",
   "name": "python",
   "nbconvert_exporter": "python",
   "pygments_lexer": "ipython3",
   "version": "3.10.13"
  }
 },
 "nbformat": 4,
 "nbformat_minor": 5
}
