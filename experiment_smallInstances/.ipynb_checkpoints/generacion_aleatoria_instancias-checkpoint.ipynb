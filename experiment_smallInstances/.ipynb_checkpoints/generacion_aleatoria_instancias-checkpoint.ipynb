{
 "cells": [
  {
   "cell_type": "markdown",
   "id": "4ba79075-72f8-4e02-a9bd-7d50bf7710cf",
   "metadata": {},
   "source": [
    "# Generación aleatoria de instancias pequeñas"
   ]
  },
  {
   "cell_type": "markdown",
   "id": "1ce2acad-2faa-4e04-b441-c789223c12e2",
   "metadata": {},
   "source": [
    "En este notebook se generaran 5 instancias pequeñas de JRP. El objetivo es usarlas en el notebook ./experimento, sobre el que se probara el aLgoritmo QAOA haciendo uso de computo del servicio de GPU que proporciona qiskit. Este servicio es un bridge hacia el framework cuQuantum de NVIDIA."
   ]
  },
  {
   "cell_type": "markdown",
   "id": "270007f7-1c8c-4f97-8ed0-d7cdd639ebf6",
   "metadata": {},
   "source": [
    "Para que la creación de instancias aleatorias sea realista con casos de uso industriales, se utilizaran las heurísticas propuestas por Alejandro.\n",
    "\n",
    "* Las prioridades son números enteros entre 1 y 5, normalmente hay más cercanas al 5 que al 1.\n",
    "* Las afinidades varían de manera continua entre 0 y 0.5.\n",
    "* El numero de empleados suele ir de 3 a 20.\n",
    "* El numero de vacantes suele ir de 5 a 30."
   ]
  },
  {
   "cell_type": "code",
   "execution_count": 6,
   "id": "386b2cc6-2ae0-43d3-8f27-b02ba7f7942d",
   "metadata": {},
   "outputs": [],
   "source": [
    "import random as r\n",
    "import json\n",
    "\n",
    "def create_random_instance(num_agents,num_vacnJobs,\n",
    "    priorityWeightCoeff=1,affinityWeightCoeff=1,penalty1=2,penalty2=2,control_restrictions=True):\n",
    "    if(control_restrictions and num_agents not in range(3,21)):\n",
    "        raise ValueError('Not respecting the 3<= num_agents <=20 restriction')\n",
    "    if(control_restrictions and num_vacnJobs not in range(5,31)):\n",
    "        raise ValueError('Not respecting the 5<= num_vacnJobs <=30 restriction')\n",
    "\n",
    "    priorities = [1,2,3,4,5]\n",
    "    affinity_maximum = 0.5\n",
    "\n",
    "    agents = list(range(num_agents))\n",
    "    assgJobs = list(range(num_agents))\n",
    "    vacnJobs = list(range(num_vacnJobs))\n",
    "\n",
    "    agents_assgJobs = assgJobs.copy()\n",
    "    r.shuffle(agents_assgJobs)\n",
    "    \n",
    "    agents_assgJobsAfinnity = []\n",
    "    agents_vacnJobsAfinnity = []\n",
    "    for agent in agents:\n",
    "        agents_assgJobsAfinnity.append(\n",
    "            [round(r.random() * affinity_maximum,2) for _ in range(num_agents)]\n",
    "        )\n",
    "        agents_vacnJobsAfinnity.append(\n",
    "            [round(r.random() * affinity_maximum,2) for _ in range(num_vacnJobs)]\n",
    "        )\n",
    "\n",
    "    assgJobs_agents = [None] * len(agents_assgJobs)\n",
    "    for i, value in enumerate(agents_assgJobs):\n",
    "        assgJobs_agents[value] = i  \n",
    "    \n",
    "    assgJobs_priority = r.choices(priorities,weights=range(1, len(priorities) + 1), k=num_agents)\n",
    "    vacnJobs_priority = r.choices(priorities,weights=range(1, len(priorities) + 1), k=num_vacnJobs)\n",
    "\n",
    "    allBinaryVariables = list(range(num_vacnJobs * num_agents))\n",
    "\n",
    "    data = {\n",
    "        \"num_agents\": num_agents,\n",
    "        \"num_vacnJobs\": num_vacnJobs,\n",
    "        \"priorityWeightCoeff\": priorityWeightCoeff,\n",
    "        \"affinityWeightCoeff\": affinityWeightCoeff,\n",
    "        \"penalty1\": penalty1,\n",
    "        \"penalty2\": penalty2,\n",
    "        \"agents\": agents,\n",
    "        \"assgJobs\": assgJobs,\n",
    "        \"vacnJobs\": vacnJobs,\n",
    "        \"agents_assgJobs\": agents_assgJobs,\n",
    "        \"agents_assgJobsAfinnity\":agents_assgJobsAfinnity,\n",
    "        \"agents_vacnJobsAfinnity\":agents_vacnJobsAfinnity,\n",
    "        \"assgJobs_agents\": assgJobs_agents,\n",
    "        \"assgJobs_priority\": assgJobs_priority,\n",
    "        \"vacnJobs_priority\": vacnJobs_priority,\n",
    "        \"allBinaryVariables\": allBinaryVariables\n",
    "    }\n",
    "\n",
    "    json_data = json.dumps(data, indent=4)\n",
    "    return json_data"
   ]
  },
  {
   "cell_type": "code",
   "execution_count": 7,
   "id": "1e4dbde0-1542-4bb3-9b39-f13d15cd8d1e",
   "metadata": {},
   "outputs": [],
   "source": [
    "import json\n",
    "import os\n",
    "\n",
    "instances_indexes = range(5)\n",
    "problem_size = [\n",
    "    [3,5],\n",
    "    [3,6],\n",
    "    [4,5],\n",
    "    [5,5],\n",
    "    [6,5]\n",
    "]\n",
    "\n",
    "for index in instances_indexes:\n",
    "    instance = create_random_instance(problem_size[index][0],problem_size[index][1])\n",
    "\n",
    "    '''\n",
    "    WARNING:\n",
    "    The next piece of code can rewrite the alredy existing instances. If you are sure about doing this, uncomment the code and change the file name\n",
    "    from 'instance%s_aux.json' to 'instance%s.json'.\n",
    "\n",
    "    In case you want to generate new instances but not rewritting the alredy existing one, just leave the file name 'instance%s_aux.json'.\n",
    "    '''\n",
    "    with open('instance%s/instance%s.json'% (str(index),str(index)), 'w') as file:\n",
    "        file.write(instance)\n"
   ]
  }
 ],
 "metadata": {
  "kernelspec": {
   "display_name": "Python 3 (ipykernel)",
   "language": "python",
   "name": "python3"
  },
  "language_info": {
   "codemirror_mode": {
    "name": "ipython",
    "version": 3
   },
   "file_extension": ".py",
   "mimetype": "text/x-python",
   "name": "python",
   "nbconvert_exporter": "python",
   "pygments_lexer": "ipython3",
   "version": "3.10.13"
  }
 },
 "nbformat": 4,
 "nbformat_minor": 5
}
