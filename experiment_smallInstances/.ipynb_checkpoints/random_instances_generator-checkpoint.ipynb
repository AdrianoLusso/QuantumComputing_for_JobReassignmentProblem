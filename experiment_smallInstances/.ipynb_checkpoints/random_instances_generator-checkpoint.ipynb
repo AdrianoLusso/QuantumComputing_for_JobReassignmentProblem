{
 "cells": [
  {
   "cell_type": "markdown",
   "id": "4ba79075-72f8-4e02-a9bd-7d50bf7710cf",
   "metadata": {},
   "source": [
    "# Random instances generator"
   ]
  },
  {
   "cell_type": "markdown",
   "id": "1ce2acad-2faa-4e04-b441-c789223c12e2",
   "metadata": {},
   "source": [
    "In this notebook, 5 small JRP instances will be generated. The goal is to use them in the notebook ./experiment, on which the QAOA algorithm will be tested using the GPU service provided by qiskit. This service is a bridge to NVIDIA's cuQuantum framework."
   ]
  },
  {
   "cell_type": "markdown",
   "id": "270007f7-1c8c-4f97-8ed0-d7cdd639ebf6",
   "metadata": {},
   "source": [
    "In order for the creation of random instances to be realistic with industrial use cases, the heuristics proposed by Alejandro Mata Ali will be used.\n",
    "\n",
    "* Priorities are integers between 1 and 5, normally there are closer to 5 than 1.\n",
    "* Affinities vary continuously between 0 and 0.5.\n",
    "* The number of employees usually ranges from 3 to 20.\n",
    "* The number of vacancies usually ranges from 5 to 30."
   ]
  },
  {
   "cell_type": "markdown",
   "id": "def46ba9-f0a4-4aad-81c9-b90eb455a7ca",
   "metadata": {},
   "source": [
    "First of all, a create_random_instance() function is defined."
   ]
  },
  {
   "cell_type": "code",
   "execution_count": 6,
   "id": "386b2cc6-2ae0-43d3-8f27-b02ba7f7942d",
   "metadata": {},
   "outputs": [],
   "source": [
    "import random as r\n",
    "import json\n",
    "\n",
    "# priority and affinity wwights coefficients, and their penalty will be set up with a default value.\n",
    "def create_random_instance(num_agents,num_vacnJobs,\n",
    "    priorityWeightCoeff=1,affinityWeightCoeff=1,penalty1=2,penalty2=2,control_restrictions=True):\n",
    "   \n",
    "    # controling restrictior over number of agent and vacancy jobs\n",
    "    if(control_restrictions and num_agents not in range(3,21)):\n",
    "        raise ValueError('Not respecting the 3<= num_agents <=20 restriction')\n",
    "    if(control_restrictions and num_vacnJobs not in range(5,31)):\n",
    "        raise ValueError('Not respecting the 5<= num_vacnJobs <=30 restriction')\n",
    "\n",
    "    # priorities range and affinity maximum value\n",
    "    priorities = [1,2,3,4,5]\n",
    "    affinity_maximum = 0.5\n",
    "\n",
    "    # create agents, their assign jobs and the vacant jobs\n",
    "    agents = list(range(num_agents))\n",
    "    assgJobs = list(range(num_agents))\n",
    "    vacnJobs = list(range(num_vacnJobs))\n",
    "\n",
    "    # it assign the assigned jobs to each agent randomly\n",
    "    agents_assgJobs = assgJobs.copy()\n",
    "    r.shuffle(agents_assgJobs)\n",
    "\n",
    "    #random assignment of the agent affinity with each assigned job and vancant job\n",
    "    agents_assgJobsAfinnity = []\n",
    "    agents_vacnJobsAfinnity = []\n",
    "    for agent in agents:\n",
    "        agents_assgJobsAfinnity.append(\n",
    "            [round(r.random() * affinity_maximum,2) for _ in range(num_agents)]\n",
    "        )\n",
    "        agents_vacnJobsAfinnity.append(\n",
    "            [round(r.random() * affinity_maximum,2) for _ in range(num_vacnJobs)]\n",
    "        )\n",
    "\n",
    "    # this is the inverse list of agents_assgJobs, created before\n",
    "    assgJobs_agents = [None] * len(agents_assgJobs)\n",
    "    for i, value in enumerate(agents_assgJobs):\n",
    "        assgJobs_agents[value] = i  \n",
    "\n",
    "    # randomly choose the jobs priorities\n",
    "    assgJobs_priority = r.choices(priorities,weights=range(1, len(priorities) + 1), k=num_agents)\n",
    "    vacnJobs_priority = r.choices(priorities,weights=range(1, len(priorities) + 1), k=num_vacnJobs)\n",
    "\n",
    "    # prepare the data structure and save it\n",
    "    allBinaryVariables = list(range(num_vacnJobs * num_agents))\n",
    "    data = {\n",
    "        \"num_agents\": num_agents,\n",
    "        \"num_vacnJobs\": num_vacnJobs,\n",
    "        \"priorityWeightCoeff\": priorityWeightCoeff,\n",
    "        \"affinityWeightCoeff\": affinityWeightCoeff,\n",
    "        \"penalty1\": penalty1,\n",
    "        \"penalty2\": penalty2,\n",
    "        \"agents\": agents,\n",
    "        \"assgJobs\": assgJobs,\n",
    "        \"vacnJobs\": vacnJobs,\n",
    "        \"agents_assgJobs\": agents_assgJobs,\n",
    "        \"agents_assgJobsAfinnity\":agents_assgJobsAfinnity,\n",
    "        \"agents_vacnJobsAfinnity\":agents_vacnJobsAfinnity,\n",
    "        \"assgJobs_agents\": assgJobs_agents,\n",
    "        \"assgJobs_priority\": assgJobs_priority,\n",
    "        \"vacnJobs_priority\": vacnJobs_priority,\n",
    "        \"allBinaryVariables\": allBinaryVariables\n",
    "    }\n",
    "    json_data = json.dumps(data, indent=4)\n",
    "    return json_data"
   ]
  },
  {
   "cell_type": "markdown",
   "id": "87aa8648-2256-4ca1-b2ac-30077ea2bbf2",
   "metadata": {},
   "source": [
    "Now, the instances generation will be run."
   ]
  },
  {
   "cell_type": "code",
   "execution_count": 7,
   "id": "1e4dbde0-1542-4bb3-9b39-f13d15cd8d1e",
   "metadata": {},
   "outputs": [],
   "source": [
    "import json\n",
    "import os\n",
    "\n",
    "instances_indexes = range(5)\n",
    "\n",
    "# formed by lists of [num_agents,num_vacnJobs].\n",
    "problem_size = [\n",
    "    [3,5],\n",
    "    [3,6],\n",
    "    [4,5],\n",
    "    [5,5],\n",
    "    [6,5]\n",
    "]\n",
    "\n",
    "# creant the random instances\n",
    "for index in instances_indexes:\n",
    "    instance = create_random_instance(problem_size[index][0],problem_size[index][1])\n",
    "\n",
    "    '''\n",
    "    WARNING:\n",
    "    The next piece of code can rewrite the alredy existing instances. If you are sure about doing this, uncomment the code and change the file name\n",
    "    from 'instance%s_aux.json' to 'instance%s.json'.\n",
    "\n",
    "    In case you want to generate new instances but not rewritting the alredy existing one, just leave the file name 'instance%s_aux.json'.\n",
    "    '''\n",
    "    #with open('instance%s/instance%s_aux.json'% (str(index),str(index)), 'w') as file:\n",
    "    #    file.write(instance)\n"
   ]
  }
 ],
 "metadata": {
  "kernelspec": {
   "display_name": "Python 3 (ipykernel)",
   "language": "python",
   "name": "python3"
  },
  "language_info": {
   "codemirror_mode": {
    "name": "ipython",
    "version": 3
   },
   "file_extension": ".py",
   "mimetype": "text/x-python",
   "name": "python",
   "nbconvert_exporter": "python",
   "pygments_lexer": "ipython3",
   "version": "3.10.13"
  }
 },
 "nbformat": 4,
 "nbformat_minor": 5
}
